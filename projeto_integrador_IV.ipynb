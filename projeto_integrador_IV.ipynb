{
  "nbformat": 4,
  "nbformat_minor": 0,
  "metadata": {
    "colab": {
      "provenance": [],
      "collapsed_sections": [
        "XoLUE-4bBgvV",
        "bVp9xU4wCM3M",
        "WBT7ol1ZKbkY"
      ],
      "mount_file_id": "1d9kXwQLoUmn33Ri6aVZOSdSMXDrmQyA-",
      "authorship_tag": "ABX9TyMVBKQvfnuc9V9s78KydmxX",
      "include_colab_link": true
    },
    "kernelspec": {
      "name": "python3",
      "display_name": "Python 3"
    },
    "language_info": {
      "name": "python"
    }
  },
  "cells": [
    {
      "cell_type": "markdown",
      "metadata": {
        "id": "view-in-github",
        "colab_type": "text"
      },
      "source": [
        "<a href=\"https://colab.research.google.com/github/JulioCSR/Aprendendo/blob/master/projeto_integrador_IV.ipynb\" target=\"_parent\"><img src=\"https://colab.research.google.com/assets/colab-badge.svg\" alt=\"Open In Colab\"/></a>"
      ]
    },
    {
      "cell_type": "markdown",
      "source": [
        "#Analise dos dados do BC\n",
        "\n",
        "fonte:\n",
        "https://dadosabertos.bcb.gov.br/dataset/scr_data"
      ],
      "metadata": {
        "id": "O6N3DindUOu7"
      }
    },
    {
      "cell_type": "markdown",
      "source": [
        "###Importado dados"
      ],
      "metadata": {
        "id": "XoLUE-4bBgvV"
      }
    },
    {
      "cell_type": "code",
      "execution_count": null,
      "metadata": {
        "id": "gwrcVrYnVF1r"
      },
      "outputs": [],
      "source": [
        "import pandas as pd\n",
        "import matplotlib.pyplot as plt\n",
        "import seaborn as sns\n",
        "\n",
        "\n",
        "sns.set_style()\n",
        "%matplotlib inline"
      ]
    },
    {
      "cell_type": "code",
      "source": [
        "dados = pd.read_csv(\"/content/drive/MyDrive/Projeto integrador IV/planilha_202212.csv\", sep= \";\" , thousands = '.', decimal = ',')\n",
        "dados.head()"
      ],
      "metadata": {
        "colab": {
          "base_uri": "https://localhost:8080/",
          "height": 647
        },
        "id": "78t8IqorWi-n",
        "outputId": "09b8b6be-b6d2-4649-f23e-d07ce378d4aa"
      },
      "execution_count": null,
      "outputs": [
        {
          "output_type": "execute_result",
          "data": {
            "text/plain": [
              "    data_base  uf       tcb  sr cliente                     ocupacao  \\\n",
              "0  2022-12-31  AC  Bancário  S1      PF  PF - Aposentado/pensionista   \n",
              "1  2022-12-31  AC  Bancário  S1      PF  PF - Aposentado/pensionista   \n",
              "2  2022-12-31  AC  Bancário  S1      PF  PF - Aposentado/pensionista   \n",
              "3  2022-12-31  AC  Bancário  S1      PF  PF - Aposentado/pensionista   \n",
              "4  2022-12-31  AC  Bancário  S1      PF  PF - Aposentado/pensionista   \n",
              "\n",
              "  cnae_secao cnae_subclasse                                          porte  \\\n",
              "0          -              -  PF - Acima de 20 salários mínimos               \n",
              "1          -              -  PF - Acima de 20 salários mínimos               \n",
              "2          -              -  PF - Acima de 20 salários mínimos               \n",
              "3          -              -  PF - Acima de 20 salários mínimos               \n",
              "4          -              -  PF - Acima de 20 salários mínimos               \n",
              "\n",
              "                                 modalidade  ... a_vencer_ate_90_dias  \\\n",
              "0                    PF - Cartão de crédito  ...               722.65   \n",
              "1                    PF - Cartão de crédito  ...           4990017.63   \n",
              "2  PF - Empréstimo com consignação em folha  ...           1835015.57   \n",
              "3  PF - Empréstimo sem consignação em folha  ...            233181.56   \n",
              "4                         PF - Habitacional  ...            108700.78   \n",
              "\n",
              "  a_vencer_de_91_ate_360_dias a_vencer_de_361_ate_1080_dias  \\\n",
              "0                    12689.82                          0.00   \n",
              "1                  1242329.92                     152609.36   \n",
              "2                  4824698.55                   12174468.74   \n",
              "3                   604262.08                     968540.05   \n",
              "4                   303018.08                     674831.27   \n",
              "\n",
              "   a_vencer_de_1081_ate_1800_dias  a_vencer_de_1801_ate_5400_dias  \\\n",
              "0                            0.00                            0.00   \n",
              "1                        31858.72                            0.00   \n",
              "2                     10039746.09                     11094339.68   \n",
              "3                       577758.58                       279960.02   \n",
              "4                       447813.30                       934450.37   \n",
              "\n",
              "   a_vencer_acima_de_5400_dias  vencido_acima_de_15_dias  carteira_ativa  \\\n",
              "0                         0.00                   2813.38        16225.85   \n",
              "1                         0.00                 328556.06      6745371.69   \n",
              "2                         0.00                  76894.25     40045162.88   \n",
              "3                         0.00                   3460.94      2667163.23   \n",
              "4                    200864.96                      0.00      2669678.76   \n",
              "\n",
              "   carteira_inadimplida_arrastada  ativo_problematico  \n",
              "0                            0.00                0.00  \n",
              "1                       123984.25           243547.54  \n",
              "2                       567775.56           653774.53  \n",
              "3                            0.00                0.00  \n",
              "4                            0.00                0.00  \n",
              "\n",
              "[5 rows x 23 columns]"
            ],
            "text/html": [
              "\n",
              "  <div id=\"df-71662860-072d-4c72-ad54-c583d58b9867\">\n",
              "    <div class=\"colab-df-container\">\n",
              "      <div>\n",
              "<style scoped>\n",
              "    .dataframe tbody tr th:only-of-type {\n",
              "        vertical-align: middle;\n",
              "    }\n",
              "\n",
              "    .dataframe tbody tr th {\n",
              "        vertical-align: top;\n",
              "    }\n",
              "\n",
              "    .dataframe thead th {\n",
              "        text-align: right;\n",
              "    }\n",
              "</style>\n",
              "<table border=\"1\" class=\"dataframe\">\n",
              "  <thead>\n",
              "    <tr style=\"text-align: right;\">\n",
              "      <th></th>\n",
              "      <th>data_base</th>\n",
              "      <th>uf</th>\n",
              "      <th>tcb</th>\n",
              "      <th>sr</th>\n",
              "      <th>cliente</th>\n",
              "      <th>ocupacao</th>\n",
              "      <th>cnae_secao</th>\n",
              "      <th>cnae_subclasse</th>\n",
              "      <th>porte</th>\n",
              "      <th>modalidade</th>\n",
              "      <th>...</th>\n",
              "      <th>a_vencer_ate_90_dias</th>\n",
              "      <th>a_vencer_de_91_ate_360_dias</th>\n",
              "      <th>a_vencer_de_361_ate_1080_dias</th>\n",
              "      <th>a_vencer_de_1081_ate_1800_dias</th>\n",
              "      <th>a_vencer_de_1801_ate_5400_dias</th>\n",
              "      <th>a_vencer_acima_de_5400_dias</th>\n",
              "      <th>vencido_acima_de_15_dias</th>\n",
              "      <th>carteira_ativa</th>\n",
              "      <th>carteira_inadimplida_arrastada</th>\n",
              "      <th>ativo_problematico</th>\n",
              "    </tr>\n",
              "  </thead>\n",
              "  <tbody>\n",
              "    <tr>\n",
              "      <th>0</th>\n",
              "      <td>2022-12-31</td>\n",
              "      <td>AC</td>\n",
              "      <td>Bancário</td>\n",
              "      <td>S1</td>\n",
              "      <td>PF</td>\n",
              "      <td>PF - Aposentado/pensionista</td>\n",
              "      <td>-</td>\n",
              "      <td>-</td>\n",
              "      <td>PF - Acima de 20 salários mínimos</td>\n",
              "      <td>PF - Cartão de crédito</td>\n",
              "      <td>...</td>\n",
              "      <td>722.65</td>\n",
              "      <td>12689.82</td>\n",
              "      <td>0.00</td>\n",
              "      <td>0.00</td>\n",
              "      <td>0.00</td>\n",
              "      <td>0.00</td>\n",
              "      <td>2813.38</td>\n",
              "      <td>16225.85</td>\n",
              "      <td>0.00</td>\n",
              "      <td>0.00</td>\n",
              "    </tr>\n",
              "    <tr>\n",
              "      <th>1</th>\n",
              "      <td>2022-12-31</td>\n",
              "      <td>AC</td>\n",
              "      <td>Bancário</td>\n",
              "      <td>S1</td>\n",
              "      <td>PF</td>\n",
              "      <td>PF - Aposentado/pensionista</td>\n",
              "      <td>-</td>\n",
              "      <td>-</td>\n",
              "      <td>PF - Acima de 20 salários mínimos</td>\n",
              "      <td>PF - Cartão de crédito</td>\n",
              "      <td>...</td>\n",
              "      <td>4990017.63</td>\n",
              "      <td>1242329.92</td>\n",
              "      <td>152609.36</td>\n",
              "      <td>31858.72</td>\n",
              "      <td>0.00</td>\n",
              "      <td>0.00</td>\n",
              "      <td>328556.06</td>\n",
              "      <td>6745371.69</td>\n",
              "      <td>123984.25</td>\n",
              "      <td>243547.54</td>\n",
              "    </tr>\n",
              "    <tr>\n",
              "      <th>2</th>\n",
              "      <td>2022-12-31</td>\n",
              "      <td>AC</td>\n",
              "      <td>Bancário</td>\n",
              "      <td>S1</td>\n",
              "      <td>PF</td>\n",
              "      <td>PF - Aposentado/pensionista</td>\n",
              "      <td>-</td>\n",
              "      <td>-</td>\n",
              "      <td>PF - Acima de 20 salários mínimos</td>\n",
              "      <td>PF - Empréstimo com consignação em folha</td>\n",
              "      <td>...</td>\n",
              "      <td>1835015.57</td>\n",
              "      <td>4824698.55</td>\n",
              "      <td>12174468.74</td>\n",
              "      <td>10039746.09</td>\n",
              "      <td>11094339.68</td>\n",
              "      <td>0.00</td>\n",
              "      <td>76894.25</td>\n",
              "      <td>40045162.88</td>\n",
              "      <td>567775.56</td>\n",
              "      <td>653774.53</td>\n",
              "    </tr>\n",
              "    <tr>\n",
              "      <th>3</th>\n",
              "      <td>2022-12-31</td>\n",
              "      <td>AC</td>\n",
              "      <td>Bancário</td>\n",
              "      <td>S1</td>\n",
              "      <td>PF</td>\n",
              "      <td>PF - Aposentado/pensionista</td>\n",
              "      <td>-</td>\n",
              "      <td>-</td>\n",
              "      <td>PF - Acima de 20 salários mínimos</td>\n",
              "      <td>PF - Empréstimo sem consignação em folha</td>\n",
              "      <td>...</td>\n",
              "      <td>233181.56</td>\n",
              "      <td>604262.08</td>\n",
              "      <td>968540.05</td>\n",
              "      <td>577758.58</td>\n",
              "      <td>279960.02</td>\n",
              "      <td>0.00</td>\n",
              "      <td>3460.94</td>\n",
              "      <td>2667163.23</td>\n",
              "      <td>0.00</td>\n",
              "      <td>0.00</td>\n",
              "    </tr>\n",
              "    <tr>\n",
              "      <th>4</th>\n",
              "      <td>2022-12-31</td>\n",
              "      <td>AC</td>\n",
              "      <td>Bancário</td>\n",
              "      <td>S1</td>\n",
              "      <td>PF</td>\n",
              "      <td>PF - Aposentado/pensionista</td>\n",
              "      <td>-</td>\n",
              "      <td>-</td>\n",
              "      <td>PF - Acima de 20 salários mínimos</td>\n",
              "      <td>PF - Habitacional</td>\n",
              "      <td>...</td>\n",
              "      <td>108700.78</td>\n",
              "      <td>303018.08</td>\n",
              "      <td>674831.27</td>\n",
              "      <td>447813.30</td>\n",
              "      <td>934450.37</td>\n",
              "      <td>200864.96</td>\n",
              "      <td>0.00</td>\n",
              "      <td>2669678.76</td>\n",
              "      <td>0.00</td>\n",
              "      <td>0.00</td>\n",
              "    </tr>\n",
              "  </tbody>\n",
              "</table>\n",
              "<p>5 rows × 23 columns</p>\n",
              "</div>\n",
              "      <button class=\"colab-df-convert\" onclick=\"convertToInteractive('df-71662860-072d-4c72-ad54-c583d58b9867')\"\n",
              "              title=\"Convert this dataframe to an interactive table.\"\n",
              "              style=\"display:none;\">\n",
              "        \n",
              "  <svg xmlns=\"http://www.w3.org/2000/svg\" height=\"24px\"viewBox=\"0 0 24 24\"\n",
              "       width=\"24px\">\n",
              "    <path d=\"M0 0h24v24H0V0z\" fill=\"none\"/>\n",
              "    <path d=\"M18.56 5.44l.94 2.06.94-2.06 2.06-.94-2.06-.94-.94-2.06-.94 2.06-2.06.94zm-11 1L8.5 8.5l.94-2.06 2.06-.94-2.06-.94L8.5 2.5l-.94 2.06-2.06.94zm10 10l.94 2.06.94-2.06 2.06-.94-2.06-.94-.94-2.06-.94 2.06-2.06.94z\"/><path d=\"M17.41 7.96l-1.37-1.37c-.4-.4-.92-.59-1.43-.59-.52 0-1.04.2-1.43.59L10.3 9.45l-7.72 7.72c-.78.78-.78 2.05 0 2.83L4 21.41c.39.39.9.59 1.41.59.51 0 1.02-.2 1.41-.59l7.78-7.78 2.81-2.81c.8-.78.8-2.07 0-2.86zM5.41 20L4 18.59l7.72-7.72 1.47 1.35L5.41 20z\"/>\n",
              "  </svg>\n",
              "      </button>\n",
              "      \n",
              "  <style>\n",
              "    .colab-df-container {\n",
              "      display:flex;\n",
              "      flex-wrap:wrap;\n",
              "      gap: 12px;\n",
              "    }\n",
              "\n",
              "    .colab-df-convert {\n",
              "      background-color: #E8F0FE;\n",
              "      border: none;\n",
              "      border-radius: 50%;\n",
              "      cursor: pointer;\n",
              "      display: none;\n",
              "      fill: #1967D2;\n",
              "      height: 32px;\n",
              "      padding: 0 0 0 0;\n",
              "      width: 32px;\n",
              "    }\n",
              "\n",
              "    .colab-df-convert:hover {\n",
              "      background-color: #E2EBFA;\n",
              "      box-shadow: 0px 1px 2px rgba(60, 64, 67, 0.3), 0px 1px 3px 1px rgba(60, 64, 67, 0.15);\n",
              "      fill: #174EA6;\n",
              "    }\n",
              "\n",
              "    [theme=dark] .colab-df-convert {\n",
              "      background-color: #3B4455;\n",
              "      fill: #D2E3FC;\n",
              "    }\n",
              "\n",
              "    [theme=dark] .colab-df-convert:hover {\n",
              "      background-color: #434B5C;\n",
              "      box-shadow: 0px 1px 3px 1px rgba(0, 0, 0, 0.15);\n",
              "      filter: drop-shadow(0px 1px 2px rgba(0, 0, 0, 0.3));\n",
              "      fill: #FFFFFF;\n",
              "    }\n",
              "  </style>\n",
              "\n",
              "      <script>\n",
              "        const buttonEl =\n",
              "          document.querySelector('#df-71662860-072d-4c72-ad54-c583d58b9867 button.colab-df-convert');\n",
              "        buttonEl.style.display =\n",
              "          google.colab.kernel.accessAllowed ? 'block' : 'none';\n",
              "\n",
              "        async function convertToInteractive(key) {\n",
              "          const element = document.querySelector('#df-71662860-072d-4c72-ad54-c583d58b9867');\n",
              "          const dataTable =\n",
              "            await google.colab.kernel.invokeFunction('convertToInteractive',\n",
              "                                                     [key], {});\n",
              "          if (!dataTable) return;\n",
              "\n",
              "          const docLinkHtml = 'Like what you see? Visit the ' +\n",
              "            '<a target=\"_blank\" href=https://colab.research.google.com/notebooks/data_table.ipynb>data table notebook</a>'\n",
              "            + ' to learn more about interactive tables.';\n",
              "          element.innerHTML = '';\n",
              "          dataTable['output_type'] = 'display_data';\n",
              "          await google.colab.output.renderOutput(dataTable, element);\n",
              "          const docLink = document.createElement('div');\n",
              "          docLink.innerHTML = docLinkHtml;\n",
              "          element.appendChild(docLink);\n",
              "        }\n",
              "      </script>\n",
              "    </div>\n",
              "  </div>\n",
              "  "
            ]
          },
          "metadata": {},
          "execution_count": 2
        }
      ]
    },
    {
      "cell_type": "code",
      "source": [
        "dados.shape"
      ],
      "metadata": {
        "colab": {
          "base_uri": "https://localhost:8080/"
        },
        "id": "9WWgXhTzAuiE",
        "outputId": "adbd9f57-eeec-4bdc-cddf-02ad4b110e7d"
      },
      "execution_count": null,
      "outputs": [
        {
          "output_type": "execute_result",
          "data": {
            "text/plain": [
              "(884863, 23)"
            ]
          },
          "metadata": {},
          "execution_count": 3
        }
      ]
    },
    {
      "cell_type": "code",
      "source": [
        "dados.columns"
      ],
      "metadata": {
        "colab": {
          "base_uri": "https://localhost:8080/"
        },
        "id": "KdM37eqaA4l3",
        "outputId": "db666080-1137-417d-9349-a0b921eee73a"
      },
      "execution_count": null,
      "outputs": [
        {
          "output_type": "execute_result",
          "data": {
            "text/plain": [
              "Index(['data_base', 'uf', 'tcb', 'sr', 'cliente', 'ocupacao', 'cnae_secao',\n",
              "       'cnae_subclasse', 'porte', 'modalidade', 'origem', 'indexador',\n",
              "       'numero_de_operacoes', 'a_vencer_ate_90_dias',\n",
              "       'a_vencer_de_91_ate_360_dias', 'a_vencer_de_361_ate_1080_dias',\n",
              "       'a_vencer_de_1081_ate_1800_dias', 'a_vencer_de_1801_ate_5400_dias',\n",
              "       'a_vencer_acima_de_5400_dias', 'vencido_acima_de_15_dias',\n",
              "       'carteira_ativa', 'carteira_inadimplida_arrastada',\n",
              "       'ativo_problematico'],\n",
              "      dtype='object')"
            ]
          },
          "metadata": {},
          "execution_count": 4
        }
      ]
    },
    {
      "cell_type": "code",
      "source": [
        "colunas_numericas = ['a_vencer_ate_90_dias',\n",
        "       'a_vencer_de_91_ate_360_dias', 'a_vencer_de_361_ate_1080_dias',\n",
        "       'a_vencer_de_1081_ate_1800_dias', 'a_vencer_de_1801_ate_5400_dias',\n",
        "       'a_vencer_acima_de_5400_dias', 'vencido_acima_de_15_dias',\n",
        "       'carteira_ativa', 'carteira_inadimplida_arrastada',\n",
        "       'ativo_problematico']\n",
        "dados_corr = dados[colunas_numericas]"
      ],
      "metadata": {
        "id": "kdk2CTK505Av"
      },
      "execution_count": null,
      "outputs": []
    },
    {
      "cell_type": "code",
      "source": [
        "dados_corr.info()"
      ],
      "metadata": {
        "colab": {
          "base_uri": "https://localhost:8080/"
        },
        "id": "Ae0RQQ7Z12Fn",
        "outputId": "2f8f7c7d-7f1d-431e-f560-f84d7364f6f1"
      },
      "execution_count": null,
      "outputs": [
        {
          "output_type": "stream",
          "name": "stdout",
          "text": [
            "<class 'pandas.core.frame.DataFrame'>\n",
            "RangeIndex: 884863 entries, 0 to 884862\n",
            "Data columns (total 10 columns):\n",
            " #   Column                          Non-Null Count   Dtype  \n",
            "---  ------                          --------------   -----  \n",
            " 0   a_vencer_ate_90_dias            884863 non-null  float64\n",
            " 1   a_vencer_de_91_ate_360_dias     884863 non-null  float64\n",
            " 2   a_vencer_de_361_ate_1080_dias   884863 non-null  float64\n",
            " 3   a_vencer_de_1081_ate_1800_dias  884863 non-null  float64\n",
            " 4   a_vencer_de_1801_ate_5400_dias  884863 non-null  float64\n",
            " 5   a_vencer_acima_de_5400_dias     884863 non-null  float64\n",
            " 6   vencido_acima_de_15_dias        884863 non-null  float64\n",
            " 7   carteira_ativa                  884863 non-null  float64\n",
            " 8   carteira_inadimplida_arrastada  884863 non-null  float64\n",
            " 9   ativo_problematico              884863 non-null  float64\n",
            "dtypes: float64(10)\n",
            "memory usage: 67.5 MB\n"
          ]
        }
      ]
    },
    {
      "cell_type": "code",
      "source": [
        "correlacao = dados_corr.corr()\n",
        "#plotar correlação\n",
        "plot = sns.heatmap(correlacao, annot = True, fmt=\".1f\", linewidths=.6)\n",
        "plot;"
      ],
      "metadata": {
        "colab": {
          "base_uri": "https://localhost:8080/",
          "height": 658
        },
        "id": "XA6o_Zkf1V4_",
        "outputId": "806348e3-0862-41be-e0af-a46d49a6d7b6"
      },
      "execution_count": null,
      "outputs": [
        {
          "output_type": "display_data",
          "data": {
            "text/plain": [
              "<Figure size 640x480 with 2 Axes>"
            ],
            "image/png": "[encoded data removed]"
          },
          "metadata": {}
        }
      ]
    },
    {
      "cell_type": "code",
      "source": [
        "colunas= ['data_base', 'uf', 'tcb','cliente', 'ocupacao','porte', 'modalidade', 'origem','vencido_acima_de_15_dias','ativo_problematico']\n",
        "df = dados[colunas]\n",
        "df.head()"
      ],
      "metadata": {
        "colab": {
          "base_uri": "https://localhost:8080/",
          "height": 545
        },
        "id": "Ylz9_ZrscReB",
        "outputId": "980197e5-293e-4ad2-cd37-4e4cf5c22dff"
      },
      "execution_count": null,
      "outputs": [
        {
          "output_type": "execute_result",
          "data": {
            "text/plain": [
              "    data_base  uf       tcb cliente                     ocupacao  \\\n",
              "0  2022-12-31  AC  Bancário      PF  PF - Aposentado/pensionista   \n",
              "1  2022-12-31  AC  Bancário      PF  PF - Aposentado/pensionista   \n",
              "2  2022-12-31  AC  Bancário      PF  PF - Aposentado/pensionista   \n",
              "3  2022-12-31  AC  Bancário      PF  PF - Aposentado/pensionista   \n",
              "4  2022-12-31  AC  Bancário      PF  PF - Aposentado/pensionista   \n",
              "\n",
              "                                           porte  \\\n",
              "0  PF - Acima de 20 salários mínimos               \n",
              "1  PF - Acima de 20 salários mínimos               \n",
              "2  PF - Acima de 20 salários mínimos               \n",
              "3  PF - Acima de 20 salários mínimos               \n",
              "4  PF - Acima de 20 salários mínimos               \n",
              "\n",
              "                                 modalidade                     origem  \\\n",
              "0                    PF - Cartão de crédito  Sem destinação específica   \n",
              "1                    PF - Cartão de crédito  Sem destinação específica   \n",
              "2  PF - Empréstimo com consignação em folha  Sem destinação específica   \n",
              "3  PF - Empréstimo sem consignação em folha  Sem destinação específica   \n",
              "4                         PF - Habitacional  Com destinação específica   \n",
              "\n",
              "   vencido_acima_de_15_dias  ativo_problematico  \n",
              "0                   2813.38                0.00  \n",
              "1                 328556.06           243547.54  \n",
              "2                  76894.25           653774.53  \n",
              "3                   3460.94                0.00  \n",
              "4                      0.00                0.00  "
            ],
            "text/html": [
              "\n",
              "  <div id=\"df-9b03b79e-9b13-4d28-b1ec-a16cb32f8b27\">\n",
              "    <div class=\"colab-df-container\">\n",
              "      <div>\n",
              "<style scoped>\n",
              "    .dataframe tbody tr th:only-of-type {\n",
              "        vertical-align: middle;\n",
              "    }\n",
              "\n",
              "    .dataframe tbody tr th {\n",
              "        vertical-align: top;\n",
              "    }\n",
              "\n",
              "    .dataframe thead th {\n",
              "        text-align: right;\n",
              "    }\n",
              "</style>\n",
              "<table border=\"1\" class=\"dataframe\">\n",
              "  <thead>\n",
              "    <tr style=\"text-align: right;\">\n",
              "      <th></th>\n",
              "      <th>data_base</th>\n",
              "      <th>uf</th>\n",
              "      <th>tcb</th>\n",
              "      <th>cliente</th>\n",
              "      <th>ocupacao</th>\n",
              "      <th>porte</th>\n",
              "      <th>modalidade</th>\n",
              "      <th>origem</th>\n",
              "      <th>vencido_acima_de_15_dias</th>\n",
              "      <th>ativo_problematico</th>\n",
              "    </tr>\n",
              "  </thead>\n",
              "  <tbody>\n",
              "    <tr>\n",
              "      <th>0</th>\n",
              "      <td>2022-12-31</td>\n",
              "      <td>AC</td>\n",
              "      <td>Bancário</td>\n",
              "      <td>PF</td>\n",
              "      <td>PF - Aposentado/pensionista</td>\n",
              "      <td>PF - Acima de 20 salários mínimos</td>\n",
              "      <td>PF - Cartão de crédito</td>\n",
              "      <td>Sem destinação específica</td>\n",
              "      <td>2813.38</td>\n",
              "      <td>0.00</td>\n",
              "    </tr>\n",
              "    <tr>\n",
              "      <th>1</th>\n",
              "      <td>2022-12-31</td>\n",
              "      <td>AC</td>\n",
              "      <td>Bancário</td>\n",
              "      <td>PF</td>\n",
              "      <td>PF - Aposentado/pensionista</td>\n",
              "      <td>PF - Acima de 20 salários mínimos</td>\n",
              "      <td>PF - Cartão de crédito</td>\n",
              "      <td>Sem destinação específica</td>\n",
              "      <td>328556.06</td>\n",
              "      <td>243547.54</td>\n",
              "    </tr>\n",
              "    <tr>\n",
              "      <th>2</th>\n",
              "      <td>2022-12-31</td>\n",
              "      <td>AC</td>\n",
              "      <td>Bancário</td>\n",
              "      <td>PF</td>\n",
              "      <td>PF - Aposentado/pensionista</td>\n",
              "      <td>PF - Acima de 20 salários mínimos</td>\n",
              "      <td>PF - Empréstimo com consignação em folha</td>\n",
              "      <td>Sem destinação específica</td>\n",
              "      <td>76894.25</td>\n",
              "      <td>653774.53</td>\n",
              "    </tr>\n",
              "    <tr>\n",
              "      <th>3</th>\n",
              "      <td>2022-12-31</td>\n",
              "      <td>AC</td>\n",
              "      <td>Bancário</td>\n",
              "      <td>PF</td>\n",
              "      <td>PF - Aposentado/pensionista</td>\n",
              "      <td>PF - Acima de 20 salários mínimos</td>\n",
              "      <td>PF - Empréstimo sem consignação em folha</td>\n",
              "      <td>Sem destinação específica</td>\n",
              "      <td>3460.94</td>\n",
              "      <td>0.00</td>\n",
              "    </tr>\n",
              "    <tr>\n",
              "      <th>4</th>\n",
              "      <td>2022-12-31</td>\n",
              "      <td>AC</td>\n",
              "      <td>Bancário</td>\n",
              "      <td>PF</td>\n",
              "      <td>PF - Aposentado/pensionista</td>\n",
              "      <td>PF - Acima de 20 salários mínimos</td>\n",
              "      <td>PF - Habitacional</td>\n",
              "      <td>Com destinação específica</td>\n",
              "      <td>0.00</td>\n",
              "      <td>0.00</td>\n",
              "    </tr>\n",
              "  </tbody>\n",
              "</table>\n",
              "</div>\n",
              "      <button class=\"colab-df-convert\" onclick=\"convertToInteractive('df-9b03b79e-9b13-4d28-b1ec-a16cb32f8b27')\"\n",
              "              title=\"Convert this dataframe to an interactive table.\"\n",
              "              style=\"display:none;\">\n",
              "        \n",
              "  <svg xmlns=\"http://www.w3.org/2000/svg\" height=\"24px\"viewBox=\"0 0 24 24\"\n",
              "       width=\"24px\">\n",
              "    <path d=\"M0 0h24v24H0V0z\" fill=\"none\"/>\n",
              "    <path d=\"M18.56 5.44l.94 2.06.94-2.06 2.06-.94-2.06-.94-.94-2.06-.94 2.06-2.06.94zm-11 1L8.5 8.5l.94-2.06 2.06-.94-2.06-.94L8.5 2.5l-.94 2.06-2.06.94zm10 10l.94 2.06.94-2.06 2.06-.94-2.06-.94-.94-2.06-.94 2.06-2.06.94z\"/><path d=\"M17.41 7.96l-1.37-1.37c-.4-.4-.92-.59-1.43-.59-.52 0-1.04.2-1.43.59L10.3 9.45l-7.72 7.72c-.78.78-.78 2.05 0 2.83L4 21.41c.39.39.9.59 1.41.59.51 0 1.02-.2 1.41-.59l7.78-7.78 2.81-2.81c.8-.78.8-2.07 0-2.86zM5.41 20L4 18.59l7.72-7.72 1.47 1.35L5.41 20z\"/>\n",
              "  </svg>\n",
              "      </button>\n",
              "      \n",
              "  <style>\n",
              "    .colab-df-container {\n",
              "      display:flex;\n",
              "      flex-wrap:wrap;\n",
              "      gap: 12px;\n",
              "    }\n",
              "\n",
              "    .colab-df-convert {\n",
              "      background-color: #E8F0FE;\n",
              "      border: none;\n",
              "      border-radius: 50%;\n",
              "      cursor: pointer;\n",
              "      display: none;\n",
              "      fill: #1967D2;\n",
              "      height: 32px;\n",
              "      padding: 0 0 0 0;\n",
              "      width: 32px;\n",
              "    }\n",
              "\n",
              "    .colab-df-convert:hover {\n",
              "      background-color: #E2EBFA;\n",
              "      box-shadow: 0px 1px 2px rgba(60, 64, 67, 0.3), 0px 1px 3px 1px rgba(60, 64, 67, 0.15);\n",
              "      fill: #174EA6;\n",
              "    }\n",
              "\n",
              "    [theme=dark] .colab-df-convert {\n",
              "      background-color: #3B4455;\n",
              "      fill: #D2E3FC;\n",
              "    }\n",
              "\n",
              "    [theme=dark] .colab-df-convert:hover {\n",
              "      background-color: #434B5C;\n",
              "      box-shadow: 0px 1px 3px 1px rgba(0, 0, 0, 0.15);\n",
              "      filter: drop-shadow(0px 1px 2px rgba(0, 0, 0, 0.3));\n",
              "      fill: #FFFFFF;\n",
              "    }\n",
              "  </style>\n",
              "\n",
              "      <script>\n",
              "        const buttonEl =\n",
              "          document.querySelector('#df-9b03b79e-9b13-4d28-b1ec-a16cb32f8b27 button.colab-df-convert');\n",
              "        buttonEl.style.display =\n",
              "          google.colab.kernel.accessAllowed ? 'block' : 'none';\n",
              "\n",
              "        async function convertToInteractive(key) {\n",
              "          const element = document.querySelector('#df-9b03b79e-9b13-4d28-b1ec-a16cb32f8b27');\n",
              "          const dataTable =\n",
              "            await google.colab.kernel.invokeFunction('convertToInteractive',\n",
              "                                                     [key], {});\n",
              "          if (!dataTable) return;\n",
              "\n",
              "          const docLinkHtml = 'Like what you see? Visit the ' +\n",
              "            '<a target=\"_blank\" href=https://colab.research.google.com/notebooks/data_table.ipynb>data table notebook</a>'\n",
              "            + ' to learn more about interactive tables.';\n",
              "          element.innerHTML = '';\n",
              "          dataTable['output_type'] = 'display_data';\n",
              "          await google.colab.output.renderOutput(dataTable, element);\n",
              "          const docLink = document.createElement('div');\n",
              "          docLink.innerHTML = docLinkHtml;\n",
              "          element.appendChild(docLink);\n",
              "        }\n",
              "      </script>\n",
              "    </div>\n",
              "  </div>\n",
              "  "
            ]
          },
          "metadata": {},
          "execution_count": 8
        }
      ]
    },
    {
      "cell_type": "code",
      "source": [
        "df['ocupacao'].unique()"
      ],
      "metadata": {
        "colab": {
          "base_uri": "https://localhost:8080/"
        },
        "id": "S9TO7vndJYd-",
        "outputId": "60858631-a8be-4712-b615-7890783c9f16"
      },
      "execution_count": null,
      "outputs": [
        {
          "output_type": "execute_result",
          "data": {
            "text/plain": [
              "array(['PF - Aposentado/pensionista', 'PF - Autônomo',\n",
              "       'PF - Empregado de empresa privada',\n",
              "       'PF - Empregado de entidades sem fins lucrativos',\n",
              "       'PF - Empresário', 'PF - MEI', 'PF - Outros',\n",
              "       'PF - Servidor ou empregado público', '-'], dtype=object)"
            ]
          },
          "metadata": {},
          "execution_count": 9
        }
      ]
    },
    {
      "cell_type": "markdown",
      "source": [
        "###Verificação dos dados"
      ],
      "metadata": {
        "id": "bVp9xU4wCM3M"
      }
    },
    {
      "cell_type": "code",
      "source": [
        "#verificar se tem dados faltantes\n",
        "df.isna().any()"
      ],
      "metadata": {
        "id": "qkmQf6Nfj73O",
        "colab": {
          "base_uri": "https://localhost:8080/"
        },
        "outputId": "1ccabb12-24c0-4ff6-c2da-a3d976966113"
      },
      "execution_count": null,
      "outputs": [
        {
          "output_type": "execute_result",
          "data": {
            "text/plain": [
              "data_base                   False\n",
              "uf                          False\n",
              "tcb                         False\n",
              "cliente                     False\n",
              "ocupacao                    False\n",
              "porte                       False\n",
              "modalidade                  False\n",
              "origem                      False\n",
              "vencido_acima_de_15_dias    False\n",
              "ativo_problematico          False\n",
              "dtype: bool"
            ]
          },
          "metadata": {},
          "execution_count": 10
        }
      ]
    },
    {
      "cell_type": "code",
      "source": [
        "#verificando tipo das variáveis\n",
        "df.info()"
      ],
      "metadata": {
        "colab": {
          "base_uri": "https://localhost:8080/"
        },
        "id": "Ef5UEFZLCmQd",
        "outputId": "81a2df76-07dd-4b42-964a-8c5fa5c358b0"
      },
      "execution_count": null,
      "outputs": [
        {
          "output_type": "stream",
          "name": "stdout",
          "text": [
            "<class 'pandas.core.frame.DataFrame'>\n",
            "RangeIndex: 884863 entries, 0 to 884862\n",
            "Data columns (total 10 columns):\n",
            " #   Column                    Non-Null Count   Dtype  \n",
            "---  ------                    --------------   -----  \n",
            " 0   data_base                 884863 non-null  object \n",
            " 1   uf                        884863 non-null  object \n",
            " 2   tcb                       884863 non-null  object \n",
            " 3   cliente                   884863 non-null  object \n",
            " 4   ocupacao                  884863 non-null  object \n",
            " 5   porte                     884863 non-null  object \n",
            " 6   modalidade                884863 non-null  object \n",
            " 7   origem                    884863 non-null  object \n",
            " 8   vencido_acima_de_15_dias  884863 non-null  float64\n",
            " 9   ativo_problematico        884863 non-null  float64\n",
            "dtypes: float64(2), object(8)\n",
            "memory usage: 67.5+ MB\n"
          ]
        }
      ]
    },
    {
      "cell_type": "code",
      "source": [
        "!pip install plotly==5.13.1"
      ],
      "metadata": {
        "colab": {
          "base_uri": "https://localhost:8080/"
        },
        "id": "_Sj5leC_pOI1",
        "outputId": "3ffb7037-6bf3-454e-b641-14a175da63a1"
      },
      "execution_count": null,
      "outputs": [
        {
          "output_type": "stream",
          "name": "stdout",
          "text": [
            "Looking in indexes: https://pypi.org/simple, https://us-python.pkg.dev/colab-wheels/public/simple/\n",
            "Requirement already satisfied: plotly==5.13.1 in /usr/local/lib/python3.10/dist-packages (5.13.1)\n",
            "Requirement already satisfied: tenacity>=6.2.0 in /usr/local/lib/python3.10/dist-packages (from plotly==5.13.1) (8.2.2)\n"
          ]
        }
      ]
    },
    {
      "cell_type": "code",
      "source": [
        "df_ativo_com_problema = df.groupby('uf')['ativo_problematico'].count()"
      ],
      "metadata": {
        "id": "x48GTfIMqig-"
      },
      "execution_count": null,
      "outputs": []
    },
    {
      "cell_type": "code",
      "source": [
        "df_media_ativo_com_problema = df.groupby('uf')['ativo_problematico'].mean()"
      ],
      "metadata": {
        "id": "stAs1oaivmtv"
      },
      "execution_count": null,
      "outputs": []
    },
    {
      "cell_type": "code",
      "source": [
        "df_media_vencido_acima_de_15_dias = df.groupby('uf')['vencido_acima_de_15_dias'].mean()"
      ],
      "metadata": {
        "id": "RhK_Nm6bwKeR"
      },
      "execution_count": null,
      "outputs": []
    },
    {
      "cell_type": "code",
      "source": [
        "dados_para_grafico = pd.DataFrame({'Medias_vencido_acima_de_15_dias': df_media_vencido_acima_de_15_dias,'Medias_ativo_com_problema': df_media_ativo_com_problema,'Qtde_de_Ativo_com_problema':df_ativo_com_problema})"
      ],
      "metadata": {
        "id": "9n6u_4T0w1s3"
      },
      "execution_count": null,
      "outputs": []
    },
    {
      "cell_type": "code",
      "source": [
        "dados_para_grafico.head()"
      ],
      "metadata": {
        "colab": {
          "base_uri": "https://localhost:8080/",
          "height": 238
        },
        "id": "9mPJ42LJxOkg",
        "outputId": "8c5382a6-83db-46e2-9a48-b20cd2bea853"
      },
      "execution_count": null,
      "outputs": [
        {
          "output_type": "execute_result",
          "data": {
            "text/plain": [
              "    Medias_vencido_acima_de_15_dias  Medias_ativo_com_problema  \\\n",
              "uf                                                               \n",
              "AC                     31892.127367               85790.674736   \n",
              "AL                     92667.404917              215433.308034   \n",
              "AM                     86032.740113              231287.333731   \n",
              "AP                     48319.342331              123462.727575   \n",
              "BA                    170985.104778              420879.359084   \n",
              "\n",
              "    Qtde_de_Ativo_com_problema  \n",
              "uf                              \n",
              "AC                        8512  \n",
              "AL                       14435  \n",
              "AM                       18257  \n",
              "AP                        7856  \n",
              "BA                       36599  "
            ],
            "text/html": [
              "\n",
              "  <div id=\"df-1af100c2-9cc9-46a7-a41a-7acb89692003\">\n",
              "    <div class=\"colab-df-container\">\n",
              "      <div>\n",
              "<style scoped>\n",
              "    .dataframe tbody tr th:only-of-type {\n",
              "        vertical-align: middle;\n",
              "    }\n",
              "\n",
              "    .dataframe tbody tr th {\n",
              "        vertical-align: top;\n",
              "    }\n",
              "\n",
              "    .dataframe thead th {\n",
              "        text-align: right;\n",
              "    }\n",
              "</style>\n",
              "<table border=\"1\" class=\"dataframe\">\n",
              "  <thead>\n",
              "    <tr style=\"text-align: right;\">\n",
              "      <th></th>\n",
              "      <th>Medias_vencido_acima_de_15_dias</th>\n",
              "      <th>Medias_ativo_com_problema</th>\n",
              "      <th>Qtde_de_Ativo_com_problema</th>\n",
              "    </tr>\n",
              "    <tr>\n",
              "      <th>uf</th>\n",
              "      <th></th>\n",
              "      <th></th>\n",
              "      <th></th>\n",
              "    </tr>\n",
              "  </thead>\n",
              "  <tbody>\n",
              "    <tr>\n",
              "      <th>AC</th>\n",
              "      <td>31892.127367</td>\n",
              "      <td>85790.674736</td>\n",
              "      <td>8512</td>\n",
              "    </tr>\n",
              "    <tr>\n",
              "      <th>AL</th>\n",
              "      <td>92667.404917</td>\n",
              "      <td>215433.308034</td>\n",
              "      <td>14435</td>\n",
              "    </tr>\n",
              "    <tr>\n",
              "      <th>AM</th>\n",
              "      <td>86032.740113</td>\n",
              "      <td>231287.333731</td>\n",
              "      <td>18257</td>\n",
              "    </tr>\n",
              "    <tr>\n",
              "      <th>AP</th>\n",
              "      <td>48319.342331</td>\n",
              "      <td>123462.727575</td>\n",
              "      <td>7856</td>\n",
              "    </tr>\n",
              "    <tr>\n",
              "      <th>BA</th>\n",
              "      <td>170985.104778</td>\n",
              "      <td>420879.359084</td>\n",
              "      <td>36599</td>\n",
              "    </tr>\n",
              "  </tbody>\n",
              "</table>\n",
              "</div>\n",
              "      <button class=\"colab-df-convert\" onclick=\"convertToInteractive('df-1af100c2-9cc9-46a7-a41a-7acb89692003')\"\n",
              "              title=\"Convert this dataframe to an interactive table.\"\n",
              "              style=\"display:none;\">\n",
              "        \n",
              "  <svg xmlns=\"http://www.w3.org/2000/svg\" height=\"24px\"viewBox=\"0 0 24 24\"\n",
              "       width=\"24px\">\n",
              "    <path d=\"M0 0h24v24H0V0z\" fill=\"none\"/>\n",
              "    <path d=\"M18.56 5.44l.94 2.06.94-2.06 2.06-.94-2.06-.94-.94-2.06-.94 2.06-2.06.94zm-11 1L8.5 8.5l.94-2.06 2.06-.94-2.06-.94L8.5 2.5l-.94 2.06-2.06.94zm10 10l.94 2.06.94-2.06 2.06-.94-2.06-.94-.94-2.06-.94 2.06-2.06.94z\"/><path d=\"M17.41 7.96l-1.37-1.37c-.4-.4-.92-.59-1.43-.59-.52 0-1.04.2-1.43.59L10.3 9.45l-7.72 7.72c-.78.78-.78 2.05 0 2.83L4 21.41c.39.39.9.59 1.41.59.51 0 1.02-.2 1.41-.59l7.78-7.78 2.81-2.81c.8-.78.8-2.07 0-2.86zM5.41 20L4 18.59l7.72-7.72 1.47 1.35L5.41 20z\"/>\n",
              "  </svg>\n",
              "      </button>\n",
              "      \n",
              "  <style>\n",
              "    .colab-df-container {\n",
              "      display:flex;\n",
              "      flex-wrap:wrap;\n",
              "      gap: 12px;\n",
              "    }\n",
              "\n",
              "    .colab-df-convert {\n",
              "      background-color: #E8F0FE;\n",
              "      border: none;\n",
              "      border-radius: 50%;\n",
              "      cursor: pointer;\n",
              "      display: none;\n",
              "      fill: #1967D2;\n",
              "      height: 32px;\n",
              "      padding: 0 0 0 0;\n",
              "      width: 32px;\n",
              "    }\n",
              "\n",
              "    .colab-df-convert:hover {\n",
              "      background-color: #E2EBFA;\n",
              "      box-shadow: 0px 1px 2px rgba(60, 64, 67, 0.3), 0px 1px 3px 1px rgba(60, 64, 67, 0.15);\n",
              "      fill: #174EA6;\n",
              "    }\n",
              "\n",
              "    [theme=dark] .colab-df-convert {\n",
              "      background-color: #3B4455;\n",
              "      fill: #D2E3FC;\n",
              "    }\n",
              "\n",
              "    [theme=dark] .colab-df-convert:hover {\n",
              "      background-color: #434B5C;\n",
              "      box-shadow: 0px 1px 3px 1px rgba(0, 0, 0, 0.15);\n",
              "      filter: drop-shadow(0px 1px 2px rgba(0, 0, 0, 0.3));\n",
              "      fill: #FFFFFF;\n",
              "    }\n",
              "  </style>\n",
              "\n",
              "      <script>\n",
              "        const buttonEl =\n",
              "          document.querySelector('#df-1af100c2-9cc9-46a7-a41a-7acb89692003 button.colab-df-convert');\n",
              "        buttonEl.style.display =\n",
              "          google.colab.kernel.accessAllowed ? 'block' : 'none';\n",
              "\n",
              "        async function convertToInteractive(key) {\n",
              "          const element = document.querySelector('#df-1af100c2-9cc9-46a7-a41a-7acb89692003');\n",
              "          const dataTable =\n",
              "            await google.colab.kernel.invokeFunction('convertToInteractive',\n",
              "                                                     [key], {});\n",
              "          if (!dataTable) return;\n",
              "\n",
              "          const docLinkHtml = 'Like what you see? Visit the ' +\n",
              "            '<a target=\"_blank\" href=https://colab.research.google.com/notebooks/data_table.ipynb>data table notebook</a>'\n",
              "            + ' to learn more about interactive tables.';\n",
              "          element.innerHTML = '';\n",
              "          dataTable['output_type'] = 'display_data';\n",
              "          await google.colab.output.renderOutput(dataTable, element);\n",
              "          const docLink = document.createElement('div');\n",
              "          docLink.innerHTML = docLinkHtml;\n",
              "          element.appendChild(docLink);\n",
              "        }\n",
              "      </script>\n",
              "    </div>\n",
              "  </div>\n",
              "  "
            ]
          },
          "metadata": {},
          "execution_count": 17
        }
      ]
    },
    {
      "cell_type": "code",
      "source": [
        "dados_para_grafico.reset_index(inplace=True)"
      ],
      "metadata": {
        "id": "bb1TBzjwy9oQ"
      },
      "execution_count": null,
      "outputs": []
    },
    {
      "cell_type": "code",
      "source": [
        "dados_para_grafico.head()"
      ],
      "metadata": {
        "colab": {
          "base_uri": "https://localhost:8080/",
          "height": 206
        },
        "id": "OImaBFOBz9xA",
        "outputId": "97571b47-7a84-4b90-f04b-2653ad2a4c7f"
      },
      "execution_count": null,
      "outputs": [
        {
          "output_type": "execute_result",
          "data": {
            "text/plain": [
              "   uf  Medias_vencido_acima_de_15_dias  Medias_ativo_com_problema  \\\n",
              "0  AC                     31892.127367               85790.674736   \n",
              "1  AL                     92667.404917              215433.308034   \n",
              "2  AM                     86032.740113              231287.333731   \n",
              "3  AP                     48319.342331              123462.727575   \n",
              "4  BA                    170985.104778              420879.359084   \n",
              "\n",
              "   Qtde_de_Ativo_com_problema  \n",
              "0                        8512  \n",
              "1                       14435  \n",
              "2                       18257  \n",
              "3                        7856  \n",
              "4                       36599  "
            ],
            "text/html": [
              "\n",
              "  <div id=\"df-77a921b4-d75d-4e21-b5ce-2d5fecb5f2cd\">\n",
              "    <div class=\"colab-df-container\">\n",
              "      <div>\n",
              "<style scoped>\n",
              "    .dataframe tbody tr th:only-of-type {\n",
              "        vertical-align: middle;\n",
              "    }\n",
              "\n",
              "    .dataframe tbody tr th {\n",
              "        vertical-align: top;\n",
              "    }\n",
              "\n",
              "    .dataframe thead th {\n",
              "        text-align: right;\n",
              "    }\n",
              "</style>\n",
              "<table border=\"1\" class=\"dataframe\">\n",
              "  <thead>\n",
              "    <tr style=\"text-align: right;\">\n",
              "      <th></th>\n",
              "      <th>uf</th>\n",
              "      <th>Medias_vencido_acima_de_15_dias</th>\n",
              "      <th>Medias_ativo_com_problema</th>\n",
              "      <th>Qtde_de_Ativo_com_problema</th>\n",
              "    </tr>\n",
              "  </thead>\n",
              "  <tbody>\n",
              "    <tr>\n",
              "      <th>0</th>\n",
              "      <td>AC</td>\n",
              "      <td>31892.127367</td>\n",
              "      <td>85790.674736</td>\n",
              "      <td>8512</td>\n",
              "    </tr>\n",
              "    <tr>\n",
              "      <th>1</th>\n",
              "      <td>AL</td>\n",
              "      <td>92667.404917</td>\n",
              "      <td>215433.308034</td>\n",
              "      <td>14435</td>\n",
              "    </tr>\n",
              "    <tr>\n",
              "      <th>2</th>\n",
              "      <td>AM</td>\n",
              "      <td>86032.740113</td>\n",
              "      <td>231287.333731</td>\n",
              "      <td>18257</td>\n",
              "    </tr>\n",
              "    <tr>\n",
              "      <th>3</th>\n",
              "      <td>AP</td>\n",
              "      <td>48319.342331</td>\n",
              "      <td>123462.727575</td>\n",
              "      <td>7856</td>\n",
              "    </tr>\n",
              "    <tr>\n",
              "      <th>4</th>\n",
              "      <td>BA</td>\n",
              "      <td>170985.104778</td>\n",
              "      <td>420879.359084</td>\n",
              "      <td>36599</td>\n",
              "    </tr>\n",
              "  </tbody>\n",
              "</table>\n",
              "</div>\n",
              "      <button class=\"colab-df-convert\" onclick=\"convertToInteractive('df-77a921b4-d75d-4e21-b5ce-2d5fecb5f2cd')\"\n",
              "              title=\"Convert this dataframe to an interactive table.\"\n",
              "              style=\"display:none;\">\n",
              "        \n",
              "  <svg xmlns=\"http://www.w3.org/2000/svg\" height=\"24px\"viewBox=\"0 0 24 24\"\n",
              "       width=\"24px\">\n",
              "    <path d=\"M0 0h24v24H0V0z\" fill=\"none\"/>\n",
              "    <path d=\"M18.56 5.44l.94 2.06.94-2.06 2.06-.94-2.06-.94-.94-2.06-.94 2.06-2.06.94zm-11 1L8.5 8.5l.94-2.06 2.06-.94-2.06-.94L8.5 2.5l-.94 2.06-2.06.94zm10 10l.94 2.06.94-2.06 2.06-.94-2.06-.94-.94-2.06-.94 2.06-2.06.94z\"/><path d=\"M17.41 7.96l-1.37-1.37c-.4-.4-.92-.59-1.43-.59-.52 0-1.04.2-1.43.59L10.3 9.45l-7.72 7.72c-.78.78-.78 2.05 0 2.83L4 21.41c.39.39.9.59 1.41.59.51 0 1.02-.2 1.41-.59l7.78-7.78 2.81-2.81c.8-.78.8-2.07 0-2.86zM5.41 20L4 18.59l7.72-7.72 1.47 1.35L5.41 20z\"/>\n",
              "  </svg>\n",
              "      </button>\n",
              "      \n",
              "  <style>\n",
              "    .colab-df-container {\n",
              "      display:flex;\n",
              "      flex-wrap:wrap;\n",
              "      gap: 12px;\n",
              "    }\n",
              "\n",
              "    .colab-df-convert {\n",
              "      background-color: #E8F0FE;\n",
              "      border: none;\n",
              "      border-radius: 50%;\n",
              "      cursor: pointer;\n",
              "      display: none;\n",
              "      fill: #1967D2;\n",
              "      height: 32px;\n",
              "      padding: 0 0 0 0;\n",
              "      width: 32px;\n",
              "    }\n",
              "\n",
              "    .colab-df-convert:hover {\n",
              "      background-color: #E2EBFA;\n",
              "      box-shadow: 0px 1px 2px rgba(60, 64, 67, 0.3), 0px 1px 3px 1px rgba(60, 64, 67, 0.15);\n",
              "      fill: #174EA6;\n",
              "    }\n",
              "\n",
              "    [theme=dark] .colab-df-convert {\n",
              "      background-color: #3B4455;\n",
              "      fill: #D2E3FC;\n",
              "    }\n",
              "\n",
              "    [theme=dark] .colab-df-convert:hover {\n",
              "      background-color: #434B5C;\n",
              "      box-shadow: 0px 1px 3px 1px rgba(0, 0, 0, 0.15);\n",
              "      filter: drop-shadow(0px 1px 2px rgba(0, 0, 0, 0.3));\n",
              "      fill: #FFFFFF;\n",
              "    }\n",
              "  </style>\n",
              "\n",
              "      <script>\n",
              "        const buttonEl =\n",
              "          document.querySelector('#df-77a921b4-d75d-4e21-b5ce-2d5fecb5f2cd button.colab-df-convert');\n",
              "        buttonEl.style.display =\n",
              "          google.colab.kernel.accessAllowed ? 'block' : 'none';\n",
              "\n",
              "        async function convertToInteractive(key) {\n",
              "          const element = document.querySelector('#df-77a921b4-d75d-4e21-b5ce-2d5fecb5f2cd');\n",
              "          const dataTable =\n",
              "            await google.colab.kernel.invokeFunction('convertToInteractive',\n",
              "                                                     [key], {});\n",
              "          if (!dataTable) return;\n",
              "\n",
              "          const docLinkHtml = 'Like what you see? Visit the ' +\n",
              "            '<a target=\"_blank\" href=https://colab.research.google.com/notebooks/data_table.ipynb>data table notebook</a>'\n",
              "            + ' to learn more about interactive tables.';\n",
              "          element.innerHTML = '';\n",
              "          dataTable['output_type'] = 'display_data';\n",
              "          await google.colab.output.renderOutput(dataTable, element);\n",
              "          const docLink = document.createElement('div');\n",
              "          docLink.innerHTML = docLinkHtml;\n",
              "          element.appendChild(docLink);\n",
              "        }\n",
              "      </script>\n",
              "    </div>\n",
              "  </div>\n",
              "  "
            ]
          },
          "metadata": {},
          "execution_count": 19
        }
      ]
    },
    {
      "cell_type": "code",
      "source": [
        "import plotly.express as px"
      ],
      "metadata": {
        "id": "m0flGFQRw1AH"
      },
      "execution_count": null,
      "outputs": []
    },
    {
      "cell_type": "code",
      "source": [
        "fig = px.scatter(dados_para_grafico, x=\"Medias_ativo_com_problema\", y=\"Medias_vencido_acima_de_15_dias\",\n",
        "\t         size=\"Qtde_de_Ativo_com_problema\", color=\"uf\",\n",
        "                 hover_name=\"uf\", log_x=True, size_max=60)\n",
        "fig.show()"
      ],
      "metadata": {
        "colab": {
          "base_uri": "https://localhost:8080/",
          "height": 542
        },
        "id": "-bqCqdLXz2kQ",
        "outputId": "c6b5ad53-c1f9-4af4-8947-36bc193c8f0e"
      },
      "execution_count": null,
      "outputs": [
        {
          "output_type": "display_data",
          "data": {
            "text/html": [
              "<html>\n",
              "<head><meta charset=\"utf-8\" /></head>\n",
              "<body>\n",
              "    <div>            <script src=\"https://cdnjs.cloudflare.com/ajax/libs/mathjax/2.7.5/MathJax.js?config=TeX-AMS-MML_SVG\"></script><script type=\"text/javascript\">if (window.MathJax && window.MathJax.Hub && window.MathJax.Hub.Config) {window.MathJax.Hub.Config({SVG: {font: \"STIX-Web\"}});}</script>                <script type=\"text/javascript\">window.PlotlyConfig = {MathJaxConfig: 'local'};</script>\n",
              "        <script src=\"https://cdn.plot.ly/plotly-2.18.2.min.js\"></script>                <div id=\"52dd0d10-71f2-4b2e-80f2-8bb96ee63baf\" class=\"plotly-graph-div\" style=\"height:525px; width:100%;\"></div>            <script type=\"text/javascript\">                                    window.PLOTLYENV=window.PLOTLYENV || {};                                    if (document.getElementById(\"52dd0d10-71f2-4b2e-80f2-8bb96ee63baf\")) {                    Plotly.newPlot(                        \"52dd0d10-71f2-4b2e-80f2-8bb96ee63baf\",                        [{\"hovertemplate\":\"<b>%{hovertext}</b><br><br>uf=AC<br>Medias_ativo_com_problema=%{x}<br>Medias_vencido_acima_de_15_dias=%{y}<br>Qtde_de_Ativo_com_problema=%{marker.size}<extra></extra>\",\"hovertext\":[\"AC\"],\"legendgroup\":\"AC\",\"marker\":{\"color\":\"#636efa\",\"size\":[8512],\"sizemode\":\"area\",\"sizeref\":27.46361111111111,\"symbol\":\"circle\"},\"mode\":\"markers\",\"name\":\"AC\",\"orientation\":\"v\",\"showlegend\":true,\"x\":[85790.6747356673],\"xaxis\":\"x\",\"y\":[31892.127367246238],\"yaxis\":\"y\",\"type\":\"scatter\"},{\"hovertemplate\":\"<b>%{hovertext}</b><br><br>uf=AL<br>Medias_ativo_com_problema=%{x}<br>Medias_vencido_acima_de_15_dias=%{y}<br>Qtde_de_Ativo_com_problema=%{marker.size}<extra></extra>\",\"hovertext\":[\"AL\"],\"legendgroup\":\"AL\",\"marker\":{\"color\":\"#EF553B\",\"size\":[14435],\"sizemode\":\"area\",\"sizeref\":27.46361111111111,\"symbol\":\"circle\"},\"mode\":\"markers\",\"name\":\"AL\",\"orientation\":\"v\",\"showlegend\":true,\"x\":[215433.30803394527],\"xaxis\":\"x\",\"y\":[92667.4049172151],\"yaxis\":\"y\",\"type\":\"scatter\"},{\"hovertemplate\":\"<b>%{hovertext}</b><br><br>uf=AM<br>Medias_ativo_com_problema=%{x}<br>Medias_vencido_acima_de_15_dias=%{y}<br>Qtde_de_Ativo_com_problema=%{marker.size}<extra></extra>\",\"hovertext\":[\"AM\"],\"legendgroup\":\"AM\",\"marker\":{\"color\":\"#00cc96\",\"size\":[18257],\"sizemode\":\"area\",\"sizeref\":27.46361111111111,\"symbol\":\"circle\"},\"mode\":\"markers\",\"name\":\"AM\",\"orientation\":\"v\",\"showlegend\":true,\"x\":[231287.33373062388],\"xaxis\":\"x\",\"y\":[86032.74011338117],\"yaxis\":\"y\",\"type\":\"scatter\"},{\"hovertemplate\":\"<b>%{hovertext}</b><br><br>uf=AP<br>Medias_ativo_com_problema=%{x}<br>Medias_vencido_acima_de_15_dias=%{y}<br>Qtde_de_Ativo_com_problema=%{marker.size}<extra></extra>\",\"hovertext\":[\"AP\"],\"legendgroup\":\"AP\",\"marker\":{\"color\":\"#ab63fa\",\"size\":[7856],\"sizemode\":\"area\",\"sizeref\":27.46361111111111,\"symbol\":\"circle\"},\"mode\":\"markers\",\"name\":\"AP\",\"orientation\":\"v\",\"showlegend\":true,\"x\":[123462.72757510183],\"xaxis\":\"x\",\"y\":[48319.34233070265],\"yaxis\":\"y\",\"type\":\"scatter\"},{\"hovertemplate\":\"<b>%{hovertext}</b><br><br>uf=BA<br>Medias_ativo_com_problema=%{x}<br>Medias_vencido_acima_de_15_dias=%{y}<br>Qtde_de_Ativo_com_problema=%{marker.size}<extra></extra>\",\"hovertext\":[\"BA\"],\"legendgroup\":\"BA\",\"marker\":{\"color\":\"#FFA15A\",\"size\":[36599],\"sizemode\":\"area\",\"sizeref\":27.46361111111111,\"symbol\":\"circle\"},\"mode\":\"markers\",\"name\":\"BA\",\"orientation\":\"v\",\"showlegend\":true,\"x\":[420879.35908385477],\"xaxis\":\"x\",\"y\":[170985.1047779994],\"yaxis\":\"y\",\"type\":\"scatter\"},{\"hovertemplate\":\"<b>%{hovertext}</b><br><br>uf=CE<br>Medias_ativo_com_problema=%{x}<br>Medias_vencido_acima_de_15_dias=%{y}<br>Qtde_de_Ativo_com_problema=%{marker.size}<extra></extra>\",\"hovertext\":[\"CE\"],\"legendgroup\":\"CE\",\"marker\":{\"color\":\"#19d3f3\",\"size\":[24104],\"sizemode\":\"area\",\"sizeref\":27.46361111111111,\"symbol\":\"circle\"},\"mode\":\"markers\",\"name\":\"CE\",\"orientation\":\"v\",\"showlegend\":true,\"x\":[389565.71372469305],\"xaxis\":\"x\",\"y\":[149349.19407982077],\"yaxis\":\"y\",\"type\":\"scatter\"},{\"hovertemplate\":\"<b>%{hovertext}</b><br><br>uf=DF<br>Medias_ativo_com_problema=%{x}<br>Medias_vencido_acima_de_15_dias=%{y}<br>Qtde_de_Ativo_com_problema=%{marker.size}<extra></extra>\",\"hovertext\":[\"DF\"],\"legendgroup\":\"DF\",\"marker\":{\"color\":\"#FF6692\",\"size\":[23014],\"sizemode\":\"area\",\"sizeref\":27.46361111111111,\"symbol\":\"circle\"},\"mode\":\"markers\",\"name\":\"DF\",\"orientation\":\"v\",\"showlegend\":true,\"x\":[337453.3170987225],\"xaxis\":\"x\",\"y\":[114271.15402581038],\"yaxis\":\"y\",\"type\":\"scatter\"},{\"hovertemplate\":\"<b>%{hovertext}</b><br><br>uf=ES<br>Medias_ativo_com_problema=%{x}<br>Medias_vencido_acima_de_15_dias=%{y}<br>Qtde_de_Ativo_com_problema=%{marker.size}<extra></extra>\",\"hovertext\":[\"ES\"],\"legendgroup\":\"ES\",\"marker\":{\"color\":\"#B6E880\",\"size\":[31905],\"sizemode\":\"area\",\"sizeref\":27.46361111111111,\"symbol\":\"circle\"},\"mode\":\"markers\",\"name\":\"ES\",\"orientation\":\"v\",\"showlegend\":true,\"x\":[174002.491325811],\"xaxis\":\"x\",\"y\":[54464.203291333644],\"yaxis\":\"y\",\"type\":\"scatter\"},{\"hovertemplate\":\"<b>%{hovertext}</b><br><br>uf=GO<br>Medias_ativo_com_problema=%{x}<br>Medias_vencido_acima_de_15_dias=%{y}<br>Qtde_de_Ativo_com_problema=%{marker.size}<extra></extra>\",\"hovertext\":[\"GO\"],\"legendgroup\":\"GO\",\"marker\":{\"color\":\"#FF97FF\",\"size\":[42684],\"sizemode\":\"area\",\"sizeref\":27.46361111111111,\"symbol\":\"circle\"},\"mode\":\"markers\",\"name\":\"GO\",\"orientation\":\"v\",\"showlegend\":true,\"x\":[356301.3584464905],\"xaxis\":\"x\",\"y\":[98928.40359244682],\"yaxis\":\"y\",\"type\":\"scatter\"},{\"hovertemplate\":\"<b>%{hovertext}</b><br><br>uf=MA<br>Medias_ativo_com_problema=%{x}<br>Medias_vencido_acima_de_15_dias=%{y}<br>Qtde_de_Ativo_com_problema=%{marker.size}<extra></extra>\",\"hovertext\":[\"MA\"],\"legendgroup\":\"MA\",\"marker\":{\"color\":\"#FECB52\",\"size\":[18599],\"sizemode\":\"area\",\"sizeref\":27.46361111111111,\"symbol\":\"circle\"},\"mode\":\"markers\",\"name\":\"MA\",\"orientation\":\"v\",\"showlegend\":true,\"x\":[297467.8630791978],\"xaxis\":\"x\",\"y\":[100857.39137803108],\"yaxis\":\"y\",\"type\":\"scatter\"},{\"hovertemplate\":\"<b>%{hovertext}</b><br><br>uf=MG<br>Medias_ativo_com_problema=%{x}<br>Medias_vencido_acima_de_15_dias=%{y}<br>Qtde_de_Ativo_com_problema=%{marker.size}<extra></extra>\",\"hovertext\":[\"MG\"],\"legendgroup\":\"MG\",\"marker\":{\"color\":\"#636efa\",\"size\":[66118],\"sizemode\":\"area\",\"sizeref\":27.46361111111111,\"symbol\":\"circle\"},\"mode\":\"markers\",\"name\":\"MG\",\"orientation\":\"v\",\"showlegend\":true,\"x\":[450221.64811034815],\"xaxis\":\"x\",\"y\":[132622.7354992589],\"yaxis\":\"y\",\"type\":\"scatter\"},{\"hovertemplate\":\"<b>%{hovertext}</b><br><br>uf=MS<br>Medias_ativo_com_problema=%{x}<br>Medias_vencido_acima_de_15_dias=%{y}<br>Qtde_de_Ativo_com_problema=%{marker.size}<extra></extra>\",\"hovertext\":[\"MS\"],\"legendgroup\":\"MS\",\"marker\":{\"color\":\"#EF553B\",\"size\":[27891],\"sizemode\":\"area\",\"sizeref\":27.46361111111111,\"symbol\":\"circle\"},\"mode\":\"markers\",\"name\":\"MS\",\"orientation\":\"v\",\"showlegend\":true,\"x\":[239143.4543096339],\"xaxis\":\"x\",\"y\":[53383.162111792335],\"yaxis\":\"y\",\"type\":\"scatter\"},{\"hovertemplate\":\"<b>%{hovertext}</b><br><br>uf=MT<br>Medias_ativo_com_problema=%{x}<br>Medias_vencido_acima_de_15_dias=%{y}<br>Qtde_de_Ativo_com_problema=%{marker.size}<extra></extra>\",\"hovertext\":[\"MT\"],\"legendgroup\":\"MT\",\"marker\":{\"color\":\"#00cc96\",\"size\":[37288],\"sizemode\":\"area\",\"sizeref\":27.46361111111111,\"symbol\":\"circle\"},\"mode\":\"markers\",\"name\":\"MT\",\"orientation\":\"v\",\"showlegend\":true,\"x\":[198658.41492088608],\"xaxis\":\"x\",\"y\":[55364.985691375245],\"yaxis\":\"y\",\"type\":\"scatter\"},{\"hovertemplate\":\"<b>%{hovertext}</b><br><br>uf=PA<br>Medias_ativo_com_problema=%{x}<br>Medias_vencido_acima_de_15_dias=%{y}<br>Qtde_de_Ativo_com_problema=%{marker.size}<extra></extra>\",\"hovertext\":[\"PA\"],\"legendgroup\":\"PA\",\"marker\":{\"color\":\"#ab63fa\",\"size\":[28840],\"sizemode\":\"area\",\"sizeref\":27.46361111111111,\"symbol\":\"circle\"},\"mode\":\"markers\",\"name\":\"PA\",\"orientation\":\"v\",\"showlegend\":true,\"x\":[245013.4209923717],\"xaxis\":\"x\",\"y\":[101095.48963557559],\"yaxis\":\"y\",\"type\":\"scatter\"},{\"hovertemplate\":\"<b>%{hovertext}</b><br><br>uf=PB<br>Medias_ativo_com_problema=%{x}<br>Medias_vencido_acima_de_15_dias=%{y}<br>Qtde_de_Ativo_com_problema=%{marker.size}<extra></extra>\",\"hovertext\":[\"PB\"],\"legendgroup\":\"PB\",\"marker\":{\"color\":\"#FFA15A\",\"size\":[17167],\"sizemode\":\"area\",\"sizeref\":27.46361111111111,\"symbol\":\"circle\"},\"mode\":\"markers\",\"name\":\"PB\",\"orientation\":\"v\",\"showlegend\":true,\"x\":[289086.3007648395],\"xaxis\":\"x\",\"y\":[99824.94303314498],\"yaxis\":\"y\",\"type\":\"scatter\"},{\"hovertemplate\":\"<b>%{hovertext}</b><br><br>uf=PE<br>Medias_ativo_com_problema=%{x}<br>Medias_vencido_acima_de_15_dias=%{y}<br>Qtde_de_Ativo_com_problema=%{marker.size}<extra></extra>\",\"hovertext\":[\"PE\"],\"legendgroup\":\"PE\",\"marker\":{\"color\":\"#19d3f3\",\"size\":[26873],\"sizemode\":\"area\",\"sizeref\":27.46361111111111,\"symbol\":\"circle\"},\"mode\":\"markers\",\"name\":\"PE\",\"orientation\":\"v\",\"showlegend\":true,\"x\":[446854.8228552823],\"xaxis\":\"x\",\"y\":[165383.55189558293],\"yaxis\":\"y\",\"type\":\"scatter\"},{\"hovertemplate\":\"<b>%{hovertext}</b><br><br>uf=PI<br>Medias_ativo_com_problema=%{x}<br>Medias_vencido_acima_de_15_dias=%{y}<br>Qtde_de_Ativo_com_problema=%{marker.size}<extra></extra>\",\"hovertext\":[\"PI\"],\"legendgroup\":\"PI\",\"marker\":{\"color\":\"#FF6692\",\"size\":[13321],\"sizemode\":\"area\",\"sizeref\":27.46361111111111,\"symbol\":\"circle\"},\"mode\":\"markers\",\"name\":\"PI\",\"orientation\":\"v\",\"showlegend\":true,\"x\":[237029.06328578937],\"xaxis\":\"x\",\"y\":[74732.56633886346],\"yaxis\":\"y\",\"type\":\"scatter\"},{\"hovertemplate\":\"<b>%{hovertext}</b><br><br>uf=PR<br>Medias_ativo_com_problema=%{x}<br>Medias_vencido_acima_de_15_dias=%{y}<br>Qtde_de_Ativo_com_problema=%{marker.size}<extra></extra>\",\"hovertext\":[\"PR\"],\"legendgroup\":\"PR\",\"marker\":{\"color\":\"#B6E880\",\"size\":[73191],\"sizemode\":\"area\",\"sizeref\":27.46361111111111,\"symbol\":\"circle\"},\"mode\":\"markers\",\"name\":\"PR\",\"orientation\":\"v\",\"showlegend\":true,\"x\":[302053.724992827],\"xaxis\":\"x\",\"y\":[90120.86364047493],\"yaxis\":\"y\",\"type\":\"scatter\"},{\"hovertemplate\":\"<b>%{hovertext}</b><br><br>uf=RJ<br>Medias_ativo_com_problema=%{x}<br>Medias_vencido_acima_de_15_dias=%{y}<br>Qtde_de_Ativo_com_problema=%{marker.size}<extra></extra>\",\"hovertext\":[\"RJ\"],\"legendgroup\":\"RJ\",\"marker\":{\"color\":\"#FF97FF\",\"size\":[43221],\"sizemode\":\"area\",\"sizeref\":27.46361111111111,\"symbol\":\"circle\"},\"mode\":\"markers\",\"name\":\"RJ\",\"orientation\":\"v\",\"showlegend\":true,\"x\":[1504818.8164535759],\"xaxis\":\"x\",\"y\":[269957.5835350871],\"yaxis\":\"y\",\"type\":\"scatter\"},{\"hovertemplate\":\"<b>%{hovertext}</b><br><br>uf=RN<br>Medias_ativo_com_problema=%{x}<br>Medias_vencido_acima_de_15_dias=%{y}<br>Qtde_de_Ativo_com_problema=%{marker.size}<extra></extra>\",\"hovertext\":[\"RN\"],\"legendgroup\":\"RN\",\"marker\":{\"color\":\"#FECB52\",\"size\":[17627],\"sizemode\":\"area\",\"sizeref\":27.46361111111111,\"symbol\":\"circle\"},\"mode\":\"markers\",\"name\":\"RN\",\"orientation\":\"v\",\"showlegend\":true,\"x\":[255549.85709139387],\"xaxis\":\"x\",\"y\":[96704.77484143643],\"yaxis\":\"y\",\"type\":\"scatter\"},{\"hovertemplate\":\"<b>%{hovertext}</b><br><br>uf=RO<br>Medias_ativo_com_problema=%{x}<br>Medias_vencido_acima_de_15_dias=%{y}<br>Qtde_de_Ativo_com_problema=%{marker.size}<extra></extra>\",\"hovertext\":[\"RO\"],\"legendgroup\":\"RO\",\"marker\":{\"color\":\"#636efa\",\"size\":[18679],\"sizemode\":\"area\",\"sizeref\":27.46361111111111,\"symbol\":\"circle\"},\"mode\":\"markers\",\"name\":\"RO\",\"orientation\":\"v\",\"showlegend\":true,\"x\":[115426.36425504577],\"xaxis\":\"x\",\"y\":[40070.964757749345],\"yaxis\":\"y\",\"type\":\"scatter\"},{\"hovertemplate\":\"<b>%{hovertext}</b><br><br>uf=RR<br>Medias_ativo_com_problema=%{x}<br>Medias_vencido_acima_de_15_dias=%{y}<br>Qtde_de_Ativo_com_problema=%{marker.size}<extra></extra>\",\"hovertext\":[\"RR\"],\"legendgroup\":\"RR\",\"marker\":{\"color\":\"#EF553B\",\"size\":[7015],\"sizemode\":\"area\",\"sizeref\":27.46361111111111,\"symbol\":\"circle\"},\"mode\":\"markers\",\"name\":\"RR\",\"orientation\":\"v\",\"showlegend\":true,\"x\":[80091.31406557377],\"xaxis\":\"x\",\"y\":[32482.586034212403],\"yaxis\":\"y\",\"type\":\"scatter\"},{\"hovertemplate\":\"<b>%{hovertext}</b><br><br>uf=RS<br>Medias_ativo_com_problema=%{x}<br>Medias_vencido_acima_de_15_dias=%{y}<br>Qtde_de_Ativo_com_problema=%{marker.size}<extra></extra>\",\"hovertext\":[\"RS\"],\"legendgroup\":\"RS\",\"marker\":{\"color\":\"#00cc96\",\"size\":[76785],\"sizemode\":\"area\",\"sizeref\":27.46361111111111,\"symbol\":\"circle\"},\"mode\":\"markers\",\"name\":\"RS\",\"orientation\":\"v\",\"showlegend\":true,\"x\":[273368.88667969004],\"xaxis\":\"x\",\"y\":[69940.21681213779],\"yaxis\":\"y\",\"type\":\"scatter\"},{\"hovertemplate\":\"<b>%{hovertext}</b><br><br>uf=SC<br>Medias_ativo_com_problema=%{x}<br>Medias_vencido_acima_de_15_dias=%{y}<br>Qtde_de_Ativo_com_problema=%{marker.size}<extra></extra>\",\"hovertext\":[\"SC\"],\"legendgroup\":\"SC\",\"marker\":{\"color\":\"#ab63fa\",\"size\":[76148],\"sizemode\":\"area\",\"sizeref\":27.46361111111111,\"symbol\":\"circle\"},\"mode\":\"markers\",\"name\":\"SC\",\"orientation\":\"v\",\"showlegend\":true,\"x\":[176213.52896898147],\"xaxis\":\"x\",\"y\":[47895.55379694805],\"yaxis\":\"y\",\"type\":\"scatter\"},{\"hovertemplate\":\"<b>%{hovertext}</b><br><br>uf=SE<br>Medias_ativo_com_problema=%{x}<br>Medias_vencido_acima_de_15_dias=%{y}<br>Qtde_de_Ativo_com_problema=%{marker.size}<extra></extra>\",\"hovertext\":[\"SE\"],\"legendgroup\":\"SE\",\"marker\":{\"color\":\"#FFA15A\",\"size\":[13551],\"sizemode\":\"area\",\"sizeref\":27.46361111111111,\"symbol\":\"circle\"},\"mode\":\"markers\",\"name\":\"SE\",\"orientation\":\"v\",\"showlegend\":true,\"x\":[185894.74642609403],\"xaxis\":\"x\",\"y\":[66361.35658180207],\"yaxis\":\"y\",\"type\":\"scatter\"},{\"hovertemplate\":\"<b>%{hovertext}</b><br><br>uf=SP<br>Medias_ativo_com_problema=%{x}<br>Medias_vencido_acima_de_15_dias=%{y}<br>Qtde_de_Ativo_com_problema=%{marker.size}<extra></extra>\",\"hovertext\":[\"SP\"],\"legendgroup\":\"SP\",\"marker\":{\"color\":\"#19d3f3\",\"size\":[98869],\"sizemode\":\"area\",\"sizeref\":27.46361111111111,\"symbol\":\"circle\"},\"mode\":\"markers\",\"name\":\"SP\",\"orientation\":\"v\",\"showlegend\":true,\"x\":[1096755.4193741214],\"xaxis\":\"x\",\"y\":[312855.5938630916],\"yaxis\":\"y\",\"type\":\"scatter\"},{\"hovertemplate\":\"<b>%{hovertext}</b><br><br>uf=TO<br>Medias_ativo_com_problema=%{x}<br>Medias_vencido_acima_de_15_dias=%{y}<br>Qtde_de_Ativo_com_problema=%{marker.size}<extra></extra>\",\"hovertext\":[\"TO\"],\"legendgroup\":\"TO\",\"marker\":{\"color\":\"#FF6692\",\"size\":[16314],\"sizemode\":\"area\",\"sizeref\":27.46361111111111,\"symbol\":\"circle\"},\"mode\":\"markers\",\"name\":\"TO\",\"orientation\":\"v\",\"showlegend\":true,\"x\":[110766.50159433615],\"xaxis\":\"x\",\"y\":[36365.96060745372],\"yaxis\":\"y\",\"type\":\"scatter\"}],                        {\"template\":{\"data\":{\"histogram2dcontour\":[{\"type\":\"histogram2dcontour\",\"colorbar\":{\"outlinewidth\":0,\"ticks\":\"\"},\"colorscale\":[[0.0,\"#0d0887\"],[0.1111111111111111,\"#46039f\"],[0.2222222222222222,\"#7201a8\"],[0.3333333333333333,\"#9c179e\"],[0.4444444444444444,\"#bd3786\"],[0.5555555555555556,\"#d8576b\"],[0.6666666666666666,\"#ed7953\"],[0.7777777777777778,\"#fb9f3a\"],[0.8888888888888888,\"#fdca26\"],[1.0,\"#f0f921\"]]}],\"choropleth\":[{\"type\":\"choropleth\",\"colorbar\":{\"outlinewidth\":0,\"ticks\":\"\"}}],\"histogram2d\":[{\"type\":\"histogram2d\",\"colorbar\":{\"outlinewidth\":0,\"ticks\":\"\"},\"colorscale\":[[0.0,\"#0d0887\"],[0.1111111111111111,\"#46039f\"],[0.2222222222222222,\"#7201a8\"],[0.3333333333333333,\"#9c179e\"],[0.4444444444444444,\"#bd3786\"],[0.5555555555555556,\"#d8576b\"],[0.6666666666666666,\"#ed7953\"],[0.7777777777777778,\"#fb9f3a\"],[0.8888888888888888,\"#fdca26\"],[1.0,\"#f0f921\"]]}],\"heatmap\":[{\"type\":\"heatmap\",\"colorbar\":{\"outlinewidth\":0,\"ticks\":\"\"},\"colorscale\":[[0.0,\"#0d0887\"],[0.1111111111111111,\"#46039f\"],[0.2222222222222222,\"#7201a8\"],[0.3333333333333333,\"#9c179e\"],[0.4444444444444444,\"#bd3786\"],[0.5555555555555556,\"#d8576b\"],[0.6666666666666666,\"#ed7953\"],[0.7777777777777778,\"#fb9f3a\"],[0.8888888888888888,\"#fdca26\"],[1.0,\"#f0f921\"]]}],\"heatmapgl\":[{\"type\":\"heatmapgl\",\"colorbar\":{\"outlinewidth\":0,\"ticks\":\"\"},\"colorscale\":[[0.0,\"#0d0887\"],[0.1111111111111111,\"#46039f\"],[0.2222222222222222,\"#7201a8\"],[0.3333333333333333,\"#9c179e\"],[0.4444444444444444,\"#bd3786\"],[0.5555555555555556,\"#d8576b\"],[0.6666666666666666,\"#ed7953\"],[0.7777777777777778,\"#fb9f3a\"],[0.8888888888888888,\"#fdca26\"],[1.0,\"#f0f921\"]]}],\"contourcarpet\":[{\"type\":\"contourcarpet\",\"colorbar\":{\"outlinewidth\":0,\"ticks\":\"\"}}],\"contour\":[{\"type\":\"contour\",\"colorbar\":{\"outlinewidth\":0,\"ticks\":\"\"},\"colorscale\":[[0.0,\"#0d0887\"],[0.1111111111111111,\"#46039f\"],[0.2222222222222222,\"#7201a8\"],[0.3333333333333333,\"#9c179e\"],[0.4444444444444444,\"#bd3786\"],[0.5555555555555556,\"#d8576b\"],[0.6666666666666666,\"#ed7953\"],[0.7777777777777778,\"#fb9f3a\"],[0.8888888888888888,\"#fdca26\"],[1.0,\"#f0f921\"]]}],\"surface\":[{\"type\":\"surface\",\"colorbar\":{\"outlinewidth\":0,\"ticks\":\"\"},\"colorscale\":[[0.0,\"#0d0887\"],[0.1111111111111111,\"#46039f\"],[0.2222222222222222,\"#7201a8\"],[0.3333333333333333,\"#9c179e\"],[0.4444444444444444,\"#bd3786\"],[0.5555555555555556,\"#d8576b\"],[0.6666666666666666,\"#ed7953\"],[0.7777777777777778,\"#fb9f3a\"],[0.8888888888888888,\"#fdca26\"],[1.0,\"#f0f921\"]]}],\"mesh3d\":[{\"type\":\"mesh3d\",\"colorbar\":{\"outlinewidth\":0,\"ticks\":\"\"}}],\"scatter\":[{\"fillpattern\":{\"fillmode\":\"overlay\",\"size\":10,\"solidity\":0.2},\"type\":\"scatter\"}],\"parcoords\":[{\"type\":\"parcoords\",\"line\":{\"colorbar\":{\"outlinewidth\":0,\"ticks\":\"\"}}}],\"scatterpolargl\":[{\"type\":\"scatterpolargl\",\"marker\":{\"colorbar\":{\"outlinewidth\":0,\"ticks\":\"\"}}}],\"bar\":[{\"error_x\":{\"color\":\"#2a3f5f\"},\"error_y\":{\"color\":\"#2a3f5f\"},\"marker\":{\"line\":{\"color\":\"#E5ECF6\",\"width\":0.5},\"pattern\":{\"fillmode\":\"overlay\",\"size\":10,\"solidity\":0.2}},\"type\":\"bar\"}],\"scattergeo\":[{\"type\":\"scattergeo\",\"marker\":{\"colorbar\":{\"outlinewidth\":0,\"ticks\":\"\"}}}],\"scatterpolar\":[{\"type\":\"scatterpolar\",\"marker\":{\"colorbar\":{\"outlinewidth\":0,\"ticks\":\"\"}}}],\"histogram\":[{\"marker\":{\"pattern\":{\"fillmode\":\"overlay\",\"size\":10,\"solidity\":0.2}},\"type\":\"histogram\"}],\"scattergl\":[{\"type\":\"scattergl\",\"marker\":{\"colorbar\":{\"outlinewidth\":0,\"ticks\":\"\"}}}],\"scatter3d\":[{\"type\":\"scatter3d\",\"line\":{\"colorbar\":{\"outlinewidth\":0,\"ticks\":\"\"}},\"marker\":{\"colorbar\":{\"outlinewidth\":0,\"ticks\":\"\"}}}],\"scattermapbox\":[{\"type\":\"scattermapbox\",\"marker\":{\"colorbar\":{\"outlinewidth\":0,\"ticks\":\"\"}}}],\"scatterternary\":[{\"type\":\"scatterternary\",\"marker\":{\"colorbar\":{\"outlinewidth\":0,\"ticks\":\"\"}}}],\"scattercarpet\":[{\"type\":\"scattercarpet\",\"marker\":{\"colorbar\":{\"outlinewidth\":0,\"ticks\":\"\"}}}],\"carpet\":[{\"aaxis\":{\"endlinecolor\":\"#2a3f5f\",\"gridcolor\":\"white\",\"linecolor\":\"white\",\"minorgridcolor\":\"white\",\"startlinecolor\":\"#2a3f5f\"},\"baxis\":{\"endlinecolor\":\"#2a3f5f\",\"gridcolor\":\"white\",\"linecolor\":\"white\",\"minorgridcolor\":\"white\",\"startlinecolor\":\"#2a3f5f\"},\"type\":\"carpet\"}],\"table\":[{\"cells\":{\"fill\":{\"color\":\"#EBF0F8\"},\"line\":{\"color\":\"white\"}},\"header\":{\"fill\":{\"color\":\"#C8D4E3\"},\"line\":{\"color\":\"white\"}},\"type\":\"table\"}],\"barpolar\":[{\"marker\":{\"line\":{\"color\":\"#E5ECF6\",\"width\":0.5},\"pattern\":{\"fillmode\":\"overlay\",\"size\":10,\"solidity\":0.2}},\"type\":\"barpolar\"}],\"pie\":[{\"automargin\":true,\"type\":\"pie\"}]},\"layout\":{\"autotypenumbers\":\"strict\",\"colorway\":[\"#636efa\",\"#EF553B\",\"#00cc96\",\"#ab63fa\",\"#FFA15A\",\"#19d3f3\",\"#FF6692\",\"#B6E880\",\"#FF97FF\",\"#FECB52\"],\"font\":{\"color\":\"#2a3f5f\"},\"hovermode\":\"closest\",\"hoverlabel\":{\"align\":\"left\"},\"paper_bgcolor\":\"white\",\"plot_bgcolor\":\"#E5ECF6\",\"polar\":{\"bgcolor\":\"#E5ECF6\",\"angularaxis\":{\"gridcolor\":\"white\",\"linecolor\":\"white\",\"ticks\":\"\"},\"radialaxis\":{\"gridcolor\":\"white\",\"linecolor\":\"white\",\"ticks\":\"\"}},\"ternary\":{\"bgcolor\":\"#E5ECF6\",\"aaxis\":{\"gridcolor\":\"white\",\"linecolor\":\"white\",\"ticks\":\"\"},\"baxis\":{\"gridcolor\":\"white\",\"linecolor\":\"white\",\"ticks\":\"\"},\"caxis\":{\"gridcolor\":\"white\",\"linecolor\":\"white\",\"ticks\":\"\"}},\"coloraxis\":{\"colorbar\":{\"outlinewidth\":0,\"ticks\":\"\"}},\"colorscale\":{\"sequential\":[[0.0,\"#0d0887\"],[0.1111111111111111,\"#46039f\"],[0.2222222222222222,\"#7201a8\"],[0.3333333333333333,\"#9c179e\"],[0.4444444444444444,\"#bd3786\"],[0.5555555555555556,\"#d8576b\"],[0.6666666666666666,\"#ed7953\"],[0.7777777777777778,\"#fb9f3a\"],[0.8888888888888888,\"#fdca26\"],[1.0,\"#f0f921\"]],\"sequentialminus\":[[0.0,\"#0d0887\"],[0.1111111111111111,\"#46039f\"],[0.2222222222222222,\"#7201a8\"],[0.3333333333333333,\"#9c179e\"],[0.4444444444444444,\"#bd3786\"],[0.5555555555555556,\"#d8576b\"],[0.6666666666666666,\"#ed7953\"],[0.7777777777777778,\"#fb9f3a\"],[0.8888888888888888,\"#fdca26\"],[1.0,\"#f0f921\"]],\"diverging\":[[0,\"#8e0152\"],[0.1,\"#c51b7d\"],[0.2,\"#de77ae\"],[0.3,\"#f1b6da\"],[0.4,\"#fde0ef\"],[0.5,\"#f7f7f7\"],[0.6,\"#e6f5d0\"],[0.7,\"#b8e186\"],[0.8,\"#7fbc41\"],[0.9,\"#4d9221\"],[1,\"#276419\"]]},\"xaxis\":{\"gridcolor\":\"white\",\"linecolor\":\"white\",\"ticks\":\"\",\"title\":{\"standoff\":15},\"zerolinecolor\":\"white\",\"automargin\":true,\"zerolinewidth\":2},\"yaxis\":{\"gridcolor\":\"white\",\"linecolor\":\"white\",\"ticks\":\"\",\"title\":{\"standoff\":15},\"zerolinecolor\":\"white\",\"automargin\":true,\"zerolinewidth\":2},\"scene\":{\"xaxis\":{\"backgroundcolor\":\"#E5ECF6\",\"gridcolor\":\"white\",\"linecolor\":\"white\",\"showbackground\":true,\"ticks\":\"\",\"zerolinecolor\":\"white\",\"gridwidth\":2},\"yaxis\":{\"backgroundcolor\":\"#E5ECF6\",\"gridcolor\":\"white\",\"linecolor\":\"white\",\"showbackground\":true,\"ticks\":\"\",\"zerolinecolor\":\"white\",\"gridwidth\":2},\"zaxis\":{\"backgroundcolor\":\"#E5ECF6\",\"gridcolor\":\"white\",\"linecolor\":\"white\",\"showbackground\":true,\"ticks\":\"\",\"zerolinecolor\":\"white\",\"gridwidth\":2}},\"shapedefaults\":{\"line\":{\"color\":\"#2a3f5f\"}},\"annotationdefaults\":{\"arrowcolor\":\"#2a3f5f\",\"arrowhead\":0,\"arrowwidth\":1},\"geo\":{\"bgcolor\":\"white\",\"landcolor\":\"#E5ECF6\",\"subunitcolor\":\"white\",\"showland\":true,\"showlakes\":true,\"lakecolor\":\"white\"},\"title\":{\"x\":0.05},\"mapbox\":{\"style\":\"light\"}}},\"xaxis\":{\"anchor\":\"y\",\"domain\":[0.0,1.0],\"title\":{\"text\":\"Medias_ativo_com_problema\"},\"type\":\"log\"},\"yaxis\":{\"anchor\":\"x\",\"domain\":[0.0,1.0],\"title\":{\"text\":\"Medias_vencido_acima_de_15_dias\"}},\"legend\":{\"title\":{\"text\":\"uf\"},\"tracegroupgap\":0,\"itemsizing\":\"constant\"},\"margin\":{\"t\":60}},                        {\"responsive\": true}                    ).then(function(){\n",
              "                            \n",
              "var gd = document.getElementById('52dd0d10-71f2-4b2e-80f2-8bb96ee63baf');\n",
              "var x = new MutationObserver(function (mutations, observer) {{\n",
              "        var display = window.getComputedStyle(gd).display;\n",
              "        if (!display || display === 'none') {{\n",
              "            console.log([gd, 'removed!']);\n",
              "            Plotly.purge(gd);\n",
              "            observer.disconnect();\n",
              "        }}\n",
              "}});\n",
              "\n",
              "// Listen for the removal of the full notebook cells\n",
              "var notebookContainer = gd.closest('#notebook-container');\n",
              "if (notebookContainer) {{\n",
              "    x.observe(notebookContainer, {childList: true});\n",
              "}}\n",
              "\n",
              "// Listen for the clearing of the current output cell\n",
              "var outputEl = gd.closest('.output');\n",
              "if (outputEl) {{\n",
              "    x.observe(outputEl, {childList: true});\n",
              "}}\n",
              "\n",
              "                        })                };                            </script>        </div>\n",
              "</body>\n",
              "</html>"
            ]
          },
          "metadata": {}
        }
      ]
    },
    {
      "cell_type": "markdown",
      "source": [
        "###Modificando o data frame"
      ],
      "metadata": {
        "id": "WBT7ol1ZKbkY"
      }
    },
    {
      "cell_type": "code",
      "source": [
        "#cria variável 0 e 1\n",
        "# 1 para valores maiores que 0 e 0 para valores igual a 0\n",
        "inadimplente = [i if i == 0 else 1 for i in df['ativo_problematico']]\n"
      ],
      "metadata": {
        "id": "mP6hhHR2L_Mw"
      },
      "execution_count": null,
      "outputs": []
    },
    {
      "cell_type": "code",
      "source": [
        "df['inadimplente'] = inadimplente\n",
        "df.head(3)"
      ],
      "metadata": {
        "colab": {
          "base_uri": "https://localhost:8080/",
          "height": 555
        },
        "id": "cmMgZaOLTx0r",
        "outputId": "01b812d0-d9ff-4601-a762-4bda9d7b389a"
      },
      "execution_count": null,
      "outputs": [
        {
          "output_type": "stream",
          "name": "stderr",
          "text": [
            "<ipython-input-23-0508bd107533>:1: SettingWithCopyWarning:\n",
            "\n",
            "\n",
            "A value is trying to be set on a copy of a slice from a DataFrame.\n",
            "Try using .loc[row_indexer,col_indexer] = value instead\n",
            "\n",
            "See the caveats in the documentation: https://pandas.pydata.org/pandas-docs/stable/user_guide/indexing.html#returning-a-view-versus-a-copy\n",
            "\n"
          ]
        },
        {
          "output_type": "execute_result",
          "data": {
            "text/plain": [
              "    data_base  uf       tcb cliente                     ocupacao  \\\n",
              "0  2022-12-31  AC  Bancário      PF  PF - Aposentado/pensionista   \n",
              "1  2022-12-31  AC  Bancário      PF  PF - Aposentado/pensionista   \n",
              "2  2022-12-31  AC  Bancário      PF  PF - Aposentado/pensionista   \n",
              "\n",
              "                                           porte  \\\n",
              "0  PF - Acima de 20 salários mínimos               \n",
              "1  PF - Acima de 20 salários mínimos               \n",
              "2  PF - Acima de 20 salários mínimos               \n",
              "\n",
              "                                 modalidade                     origem  \\\n",
              "0                    PF - Cartão de crédito  Sem destinação específica   \n",
              "1                    PF - Cartão de crédito  Sem destinação específica   \n",
              "2  PF - Empréstimo com consignação em folha  Sem destinação específica   \n",
              "\n",
              "   vencido_acima_de_15_dias  ativo_problematico  inadimplente  \n",
              "0                   2813.38                0.00           0.0  \n",
              "1                 328556.06           243547.54           1.0  \n",
              "2                  76894.25           653774.53           1.0  "
            ],
            "text/html": [
              "\n",
              "  <div id=\"df-275a056b-0abb-405e-ac5f-4f3cb53119e9\">\n",
              "    <div class=\"colab-df-container\">\n",
              "      <div>\n",
              "<style scoped>\n",
              "    .dataframe tbody tr th:only-of-type {\n",
              "        vertical-align: middle;\n",
              "    }\n",
              "\n",
              "    .dataframe tbody tr th {\n",
              "        vertical-align: top;\n",
              "    }\n",
              "\n",
              "    .dataframe thead th {\n",
              "        text-align: right;\n",
              "    }\n",
              "</style>\n",
              "<table border=\"1\" class=\"dataframe\">\n",
              "  <thead>\n",
              "    <tr style=\"text-align: right;\">\n",
              "      <th></th>\n",
              "      <th>data_base</th>\n",
              "      <th>uf</th>\n",
              "      <th>tcb</th>\n",
              "      <th>cliente</th>\n",
              "      <th>ocupacao</th>\n",
              "      <th>porte</th>\n",
              "      <th>modalidade</th>\n",
              "      <th>origem</th>\n",
              "      <th>vencido_acima_de_15_dias</th>\n",
              "      <th>ativo_problematico</th>\n",
              "      <th>inadimplente</th>\n",
              "    </tr>\n",
              "  </thead>\n",
              "  <tbody>\n",
              "    <tr>\n",
              "      <th>0</th>\n",
              "      <td>2022-12-31</td>\n",
              "      <td>AC</td>\n",
              "      <td>Bancário</td>\n",
              "      <td>PF</td>\n",
              "      <td>PF - Aposentado/pensionista</td>\n",
              "      <td>PF - Acima de 20 salários mínimos</td>\n",
              "      <td>PF - Cartão de crédito</td>\n",
              "      <td>Sem destinação específica</td>\n",
              "      <td>2813.38</td>\n",
              "      <td>0.00</td>\n",
              "      <td>0.0</td>\n",
              "    </tr>\n",
              "    <tr>\n",
              "      <th>1</th>\n",
              "      <td>2022-12-31</td>\n",
              "      <td>AC</td>\n",
              "      <td>Bancário</td>\n",
              "      <td>PF</td>\n",
              "      <td>PF - Aposentado/pensionista</td>\n",
              "      <td>PF - Acima de 20 salários mínimos</td>\n",
              "      <td>PF - Cartão de crédito</td>\n",
              "      <td>Sem destinação específica</td>\n",
              "      <td>328556.06</td>\n",
              "      <td>243547.54</td>\n",
              "      <td>1.0</td>\n",
              "    </tr>\n",
              "    <tr>\n",
              "      <th>2</th>\n",
              "      <td>2022-12-31</td>\n",
              "      <td>AC</td>\n",
              "      <td>Bancário</td>\n",
              "      <td>PF</td>\n",
              "      <td>PF - Aposentado/pensionista</td>\n",
              "      <td>PF - Acima de 20 salários mínimos</td>\n",
              "      <td>PF - Empréstimo com consignação em folha</td>\n",
              "      <td>Sem destinação específica</td>\n",
              "      <td>76894.25</td>\n",
              "      <td>653774.53</td>\n",
              "      <td>1.0</td>\n",
              "    </tr>\n",
              "  </tbody>\n",
              "</table>\n",
              "</div>\n",
              "      <button class=\"colab-df-convert\" onclick=\"convertToInteractive('df-275a056b-0abb-405e-ac5f-4f3cb53119e9')\"\n",
              "              title=\"Convert this dataframe to an interactive table.\"\n",
              "              style=\"display:none;\">\n",
              "        \n",
              "  <svg xmlns=\"http://www.w3.org/2000/svg\" height=\"24px\"viewBox=\"0 0 24 24\"\n",
              "       width=\"24px\">\n",
              "    <path d=\"M0 0h24v24H0V0z\" fill=\"none\"/>\n",
              "    <path d=\"M18.56 5.44l.94 2.06.94-2.06 2.06-.94-2.06-.94-.94-2.06-.94 2.06-2.06.94zm-11 1L8.5 8.5l.94-2.06 2.06-.94-2.06-.94L8.5 2.5l-.94 2.06-2.06.94zm10 10l.94 2.06.94-2.06 2.06-.94-2.06-.94-.94-2.06-.94 2.06-2.06.94z\"/><path d=\"M17.41 7.96l-1.37-1.37c-.4-.4-.92-.59-1.43-.59-.52 0-1.04.2-1.43.59L10.3 9.45l-7.72 7.72c-.78.78-.78 2.05 0 2.83L4 21.41c.39.39.9.59 1.41.59.51 0 1.02-.2 1.41-.59l7.78-7.78 2.81-2.81c.8-.78.8-2.07 0-2.86zM5.41 20L4 18.59l7.72-7.72 1.47 1.35L5.41 20z\"/>\n",
              "  </svg>\n",
              "      </button>\n",
              "      \n",
              "  <style>\n",
              "    .colab-df-container {\n",
              "      display:flex;\n",
              "      flex-wrap:wrap;\n",
              "      gap: 12px;\n",
              "    }\n",
              "\n",
              "    .colab-df-convert {\n",
              "      background-color: #E8F0FE;\n",
              "      border: none;\n",
              "      border-radius: 50%;\n",
              "      cursor: pointer;\n",
              "      display: none;\n",
              "      fill: #1967D2;\n",
              "      height: 32px;\n",
              "      padding: 0 0 0 0;\n",
              "      width: 32px;\n",
              "    }\n",
              "\n",
              "    .colab-df-convert:hover {\n",
              "      background-color: #E2EBFA;\n",
              "      box-shadow: 0px 1px 2px rgba(60, 64, 67, 0.3), 0px 1px 3px 1px rgba(60, 64, 67, 0.15);\n",
              "      fill: #174EA6;\n",
              "    }\n",
              "\n",
              "    [theme=dark] .colab-df-convert {\n",
              "      background-color: #3B4455;\n",
              "      fill: #D2E3FC;\n",
              "    }\n",
              "\n",
              "    [theme=dark] .colab-df-convert:hover {\n",
              "      background-color: #434B5C;\n",
              "      box-shadow: 0px 1px 3px 1px rgba(0, 0, 0, 0.15);\n",
              "      filter: drop-shadow(0px 1px 2px rgba(0, 0, 0, 0.3));\n",
              "      fill: #FFFFFF;\n",
              "    }\n",
              "  </style>\n",
              "\n",
              "      <script>\n",
              "        const buttonEl =\n",
              "          document.querySelector('#df-275a056b-0abb-405e-ac5f-4f3cb53119e9 button.colab-df-convert');\n",
              "        buttonEl.style.display =\n",
              "          google.colab.kernel.accessAllowed ? 'block' : 'none';\n",
              "\n",
              "        async function convertToInteractive(key) {\n",
              "          const element = document.querySelector('#df-275a056b-0abb-405e-ac5f-4f3cb53119e9');\n",
              "          const dataTable =\n",
              "            await google.colab.kernel.invokeFunction('convertToInteractive',\n",
              "                                                     [key], {});\n",
              "          if (!dataTable) return;\n",
              "\n",
              "          const docLinkHtml = 'Like what you see? Visit the ' +\n",
              "            '<a target=\"_blank\" href=https://colab.research.google.com/notebooks/data_table.ipynb>data table notebook</a>'\n",
              "            + ' to learn more about interactive tables.';\n",
              "          element.innerHTML = '';\n",
              "          dataTable['output_type'] = 'display_data';\n",
              "          await google.colab.output.renderOutput(dataTable, element);\n",
              "          const docLink = document.createElement('div');\n",
              "          docLink.innerHTML = docLinkHtml;\n",
              "          element.appendChild(docLink);\n",
              "        }\n",
              "      </script>\n",
              "    </div>\n",
              "  </div>\n",
              "  "
            ]
          },
          "metadata": {},
          "execution_count": 23
        }
      ]
    },
    {
      "cell_type": "code",
      "source": [
        "df['inadimplente'] = df['inadimplente'].astype(int)"
      ],
      "metadata": {
        "colab": {
          "base_uri": "https://localhost:8080/"
        },
        "id": "9AdPQ5DvbHvv",
        "outputId": "ae2578d3-e62e-4e04-f028-ca9ca4dd4bc7"
      },
      "execution_count": null,
      "outputs": [
        {
          "output_type": "stream",
          "name": "stderr",
          "text": [
            "<ipython-input-24-402b8c74db1d>:1: SettingWithCopyWarning:\n",
            "\n",
            "\n",
            "A value is trying to be set on a copy of a slice from a DataFrame.\n",
            "Try using .loc[row_indexer,col_indexer] = value instead\n",
            "\n",
            "See the caveats in the documentation: https://pandas.pydata.org/pandas-docs/stable/user_guide/indexing.html#returning-a-view-versus-a-copy\n",
            "\n"
          ]
        }
      ]
    },
    {
      "cell_type": "code",
      "source": [
        "colunas= ['tcb','cliente', 'ocupacao','porte', 'modalidade', 'origem','vencido_acima_de_15_dias','ativo_problematico','inadimplente']"
      ],
      "metadata": {
        "id": "9XMYj-AV3LhN"
      },
      "execution_count": null,
      "outputs": []
    },
    {
      "cell_type": "code",
      "source": [
        "df_modificado = df[colunas].query('cliente == \"PF\"')\n",
        "df_modificado.head(3)"
      ],
      "metadata": {
        "colab": {
          "base_uri": "https://localhost:8080/",
          "height": 416
        },
        "id": "uVXJN2kR3eJt",
        "outputId": "b49add3a-a918-4567-e7f3-1f7664ffa7ad"
      },
      "execution_count": null,
      "outputs": [
        {
          "output_type": "execute_result",
          "data": {
            "text/plain": [
              "        tcb cliente                     ocupacao  \\\n",
              "0  Bancário      PF  PF - Aposentado/pensionista   \n",
              "1  Bancário      PF  PF - Aposentado/pensionista   \n",
              "2  Bancário      PF  PF - Aposentado/pensionista   \n",
              "\n",
              "                                           porte  \\\n",
              "0  PF - Acima de 20 salários mínimos               \n",
              "1  PF - Acima de 20 salários mínimos               \n",
              "2  PF - Acima de 20 salários mínimos               \n",
              "\n",
              "                                 modalidade                     origem  \\\n",
              "0                    PF - Cartão de crédito  Sem destinação específica   \n",
              "1                    PF - Cartão de crédito  Sem destinação específica   \n",
              "2  PF - Empréstimo com consignação em folha  Sem destinação específica   \n",
              "\n",
              "   vencido_acima_de_15_dias  ativo_problematico  inadimplente  \n",
              "0                   2813.38                0.00             0  \n",
              "1                 328556.06           243547.54             1  \n",
              "2                  76894.25           653774.53             1  "
            ],
            "text/html": [
              "\n",
              "  <div id=\"df-6ea12bce-f6e8-4193-8675-1c6b599b37eb\">\n",
              "    <div class=\"colab-df-container\">\n",
              "      <div>\n",
              "<style scoped>\n",
              "    .dataframe tbody tr th:only-of-type {\n",
              "        vertical-align: middle;\n",
              "    }\n",
              "\n",
              "    .dataframe tbody tr th {\n",
              "        vertical-align: top;\n",
              "    }\n",
              "\n",
              "    .dataframe thead th {\n",
              "        text-align: right;\n",
              "    }\n",
              "</style>\n",
              "<table border=\"1\" class=\"dataframe\">\n",
              "  <thead>\n",
              "    <tr style=\"text-align: right;\">\n",
              "      <th></th>\n",
              "      <th>tcb</th>\n",
              "      <th>cliente</th>\n",
              "      <th>ocupacao</th>\n",
              "      <th>porte</th>\n",
              "      <th>modalidade</th>\n",
              "      <th>origem</th>\n",
              "      <th>vencido_acima_de_15_dias</th>\n",
              "      <th>ativo_problematico</th>\n",
              "      <th>inadimplente</th>\n",
              "    </tr>\n",
              "  </thead>\n",
              "  <tbody>\n",
              "    <tr>\n",
              "      <th>0</th>\n",
              "      <td>Bancário</td>\n",
              "      <td>PF</td>\n",
              "      <td>PF - Aposentado/pensionista</td>\n",
              "      <td>PF - Acima de 20 salários mínimos</td>\n",
              "      <td>PF - Cartão de crédito</td>\n",
              "      <td>Sem destinação específica</td>\n",
              "      <td>2813.38</td>\n",
              "      <td>0.00</td>\n",
              "      <td>0</td>\n",
              "    </tr>\n",
              "    <tr>\n",
              "      <th>1</th>\n",
              "      <td>Bancário</td>\n",
              "      <td>PF</td>\n",
              "      <td>PF - Aposentado/pensionista</td>\n",
              "      <td>PF - Acima de 20 salários mínimos</td>\n",
              "      <td>PF - Cartão de crédito</td>\n",
              "      <td>Sem destinação específica</td>\n",
              "      <td>328556.06</td>\n",
              "      <td>243547.54</td>\n",
              "      <td>1</td>\n",
              "    </tr>\n",
              "    <tr>\n",
              "      <th>2</th>\n",
              "      <td>Bancário</td>\n",
              "      <td>PF</td>\n",
              "      <td>PF - Aposentado/pensionista</td>\n",
              "      <td>PF - Acima de 20 salários mínimos</td>\n",
              "      <td>PF - Empréstimo com consignação em folha</td>\n",
              "      <td>Sem destinação específica</td>\n",
              "      <td>76894.25</td>\n",
              "      <td>653774.53</td>\n",
              "      <td>1</td>\n",
              "    </tr>\n",
              "  </tbody>\n",
              "</table>\n",
              "</div>\n",
              "      <button class=\"colab-df-convert\" onclick=\"convertToInteractive('df-6ea12bce-f6e8-4193-8675-1c6b599b37eb')\"\n",
              "              title=\"Convert this dataframe to an interactive table.\"\n",
              "              style=\"display:none;\">\n",
              "        \n",
              "  <svg xmlns=\"http://www.w3.org/2000/svg\" height=\"24px\"viewBox=\"0 0 24 24\"\n",
              "       width=\"24px\">\n",
              "    <path d=\"M0 0h24v24H0V0z\" fill=\"none\"/>\n",
              "    <path d=\"M18.56 5.44l.94 2.06.94-2.06 2.06-.94-2.06-.94-.94-2.06-.94 2.06-2.06.94zm-11 1L8.5 8.5l.94-2.06 2.06-.94-2.06-.94L8.5 2.5l-.94 2.06-2.06.94zm10 10l.94 2.06.94-2.06 2.06-.94-2.06-.94-.94-2.06-.94 2.06-2.06.94z\"/><path d=\"M17.41 7.96l-1.37-1.37c-.4-.4-.92-.59-1.43-.59-.52 0-1.04.2-1.43.59L10.3 9.45l-7.72 7.72c-.78.78-.78 2.05 0 2.83L4 21.41c.39.39.9.59 1.41.59.51 0 1.02-.2 1.41-.59l7.78-7.78 2.81-2.81c.8-.78.8-2.07 0-2.86zM5.41 20L4 18.59l7.72-7.72 1.47 1.35L5.41 20z\"/>\n",
              "  </svg>\n",
              "      </button>\n",
              "      \n",
              "  <style>\n",
              "    .colab-df-container {\n",
              "      display:flex;\n",
              "      flex-wrap:wrap;\n",
              "      gap: 12px;\n",
              "    }\n",
              "\n",
              "    .colab-df-convert {\n",
              "      background-color: #E8F0FE;\n",
              "      border: none;\n",
              "      border-radius: 50%;\n",
              "      cursor: pointer;\n",
              "      display: none;\n",
              "      fill: #1967D2;\n",
              "      height: 32px;\n",
              "      padding: 0 0 0 0;\n",
              "      width: 32px;\n",
              "    }\n",
              "\n",
              "    .colab-df-convert:hover {\n",
              "      background-color: #E2EBFA;\n",
              "      box-shadow: 0px 1px 2px rgba(60, 64, 67, 0.3), 0px 1px 3px 1px rgba(60, 64, 67, 0.15);\n",
              "      fill: #174EA6;\n",
              "    }\n",
              "\n",
              "    [theme=dark] .colab-df-convert {\n",
              "      background-color: #3B4455;\n",
              "      fill: #D2E3FC;\n",
              "    }\n",
              "\n",
              "    [theme=dark] .colab-df-convert:hover {\n",
              "      background-color: #434B5C;\n",
              "      box-shadow: 0px 1px 3px 1px rgba(0, 0, 0, 0.15);\n",
              "      filter: drop-shadow(0px 1px 2px rgba(0, 0, 0, 0.3));\n",
              "      fill: #FFFFFF;\n",
              "    }\n",
              "  </style>\n",
              "\n",
              "      <script>\n",
              "        const buttonEl =\n",
              "          document.querySelector('#df-6ea12bce-f6e8-4193-8675-1c6b599b37eb button.colab-df-convert');\n",
              "        buttonEl.style.display =\n",
              "          google.colab.kernel.accessAllowed ? 'block' : 'none';\n",
              "\n",
              "        async function convertToInteractive(key) {\n",
              "          const element = document.querySelector('#df-6ea12bce-f6e8-4193-8675-1c6b599b37eb');\n",
              "          const dataTable =\n",
              "            await google.colab.kernel.invokeFunction('convertToInteractive',\n",
              "                                                     [key], {});\n",
              "          if (!dataTable) return;\n",
              "\n",
              "          const docLinkHtml = 'Like what you see? Visit the ' +\n",
              "            '<a target=\"_blank\" href=https://colab.research.google.com/notebooks/data_table.ipynb>data table notebook</a>'\n",
              "            + ' to learn more about interactive tables.';\n",
              "          element.innerHTML = '';\n",
              "          dataTable['output_type'] = 'display_data';\n",
              "          await google.colab.output.renderOutput(dataTable, element);\n",
              "          const docLink = document.createElement('div');\n",
              "          docLink.innerHTML = docLinkHtml;\n",
              "          element.appendChild(docLink);\n",
              "        }\n",
              "      </script>\n",
              "    </div>\n",
              "  </div>\n",
              "  "
            ]
          },
          "metadata": {},
          "execution_count": 26
        }
      ]
    },
    {
      "cell_type": "code",
      "source": [
        "df_modificado = pd.get_dummies(df_modificado)\n",
        "display(df_modificado)"
      ],
      "metadata": {
        "colab": {
          "base_uri": "https://localhost:8080/",
          "height": 557
        },
        "id": "GJar6UgAaArM",
        "outputId": "eec3ed01-9497-443f-98ec-423616284926"
      },
      "execution_count": null,
      "outputs": [
        {
          "output_type": "display_data",
          "data": {
            "text/plain": [
              "        vencido_acima_de_15_dias  ativo_problematico  inadimplente  \\\n",
              "0                        2813.38                0.00             0   \n",
              "1                      328556.06           243547.54             1   \n",
              "2                       76894.25           653774.53             1   \n",
              "3                        3460.94                0.00             0   \n",
              "4                           0.00                0.00             0   \n",
              "...                          ...                 ...           ...   \n",
              "884601                   2463.92             6457.38             1   \n",
              "884602                      0.00                0.00             0   \n",
              "884603                  11690.57            92500.39             1   \n",
              "884604                   9839.34             4842.19             1   \n",
              "884605                      0.00                0.00             0   \n",
              "\n",
              "        tcb_Bancário  tcb_Cooperativas  tcb_Não bancário  cliente_PF  \\\n",
              "0                  1                 0                 0           1   \n",
              "1                  1                 0                 0           1   \n",
              "2                  1                 0                 0           1   \n",
              "3                  1                 0                 0           1   \n",
              "4                  1                 0                 0           1   \n",
              "...              ...               ...               ...         ...   \n",
              "884601             0                 0                 1           1   \n",
              "884602             0                 0                 1           1   \n",
              "884603             0                 0                 1           1   \n",
              "884604             0                 0                 1           1   \n",
              "884605             0                 0                 1           1   \n",
              "\n",
              "        ocupacao_PF - Aposentado/pensionista  ocupacao_PF - Autônomo  \\\n",
              "0                                          1                       0   \n",
              "1                                          1                       0   \n",
              "2                                          1                       0   \n",
              "3                                          1                       0   \n",
              "4                                          1                       0   \n",
              "...                                      ...                     ...   \n",
              "884601                                     0                       0   \n",
              "884602                                     0                       0   \n",
              "884603                                     0                       0   \n",
              "884604                                     0                       0   \n",
              "884605                                     0                       0   \n",
              "\n",
              "        ocupacao_PF - Empregado de empresa privada  ...  \\\n",
              "0                                                0  ...   \n",
              "1                                                0  ...   \n",
              "2                                                0  ...   \n",
              "3                                                0  ...   \n",
              "4                                                0  ...   \n",
              "...                                            ...  ...   \n",
              "884601                                           0  ...   \n",
              "884602                                           0  ...   \n",
              "884603                                           0  ...   \n",
              "884604                                           0  ...   \n",
              "884605                                           0  ...   \n",
              "\n",
              "        porte_PF - Sem rendimento                            \\\n",
              "0                                                       0     \n",
              "1                                                       0     \n",
              "2                                                       0     \n",
              "3                                                       0     \n",
              "4                                                       0     \n",
              "...                                                   ...     \n",
              "884601                                                  0     \n",
              "884602                                                  0     \n",
              "884603                                                  0     \n",
              "884604                                                  0     \n",
              "884605                                                  1     \n",
              "\n",
              "        modalidade_PF - Cartão de crédito  \\\n",
              "0                                       1   \n",
              "1                                       1   \n",
              "2                                       0   \n",
              "3                                       0   \n",
              "4                                       0   \n",
              "...                                   ...   \n",
              "884601                                  0   \n",
              "884602                                  1   \n",
              "884603                                  0   \n",
              "884604                                  0   \n",
              "884605                                  0   \n",
              "\n",
              "        modalidade_PF - Empréstimo com consignação em folha  \\\n",
              "0                                                       0     \n",
              "1                                                       0     \n",
              "2                                                       1     \n",
              "3                                                       0     \n",
              "4                                                       0     \n",
              "...                                                   ...     \n",
              "884601                                                  0     \n",
              "884602                                                  0     \n",
              "884603                                                  0     \n",
              "884604                                                  0     \n",
              "884605                                                  0     \n",
              "\n",
              "        modalidade_PF - Empréstimo sem consignação em folha  \\\n",
              "0                                                       0     \n",
              "1                                                       0     \n",
              "2                                                       0     \n",
              "3                                                       1     \n",
              "4                                                       0     \n",
              "...                                                   ...     \n",
              "884601                                                  0     \n",
              "884602                                                  0     \n",
              "884603                                                  1     \n",
              "884604                                                  0     \n",
              "884605                                                  1     \n",
              "\n",
              "        modalidade_PF - Habitacional  modalidade_PF - Outros créditos  \\\n",
              "0                                  0                                0   \n",
              "1                                  0                                0   \n",
              "2                                  0                                0   \n",
              "3                                  0                                0   \n",
              "4                                  1                                0   \n",
              "...                              ...                              ...   \n",
              "884601                             0                                1   \n",
              "884602                             0                                0   \n",
              "884603                             0                                0   \n",
              "884604                             0                                1   \n",
              "884605                             0                                0   \n",
              "\n",
              "        modalidade_PF - Rural e agroindustrial  modalidade_PF - Veículos  \\\n",
              "0                                            0                         0   \n",
              "1                                            0                         0   \n",
              "2                                            0                         0   \n",
              "3                                            0                         0   \n",
              "4                                            0                         0   \n",
              "...                                        ...                       ...   \n",
              "884601                                       0                         0   \n",
              "884602                                       0                         0   \n",
              "884603                                       0                         0   \n",
              "884604                                       0                         0   \n",
              "884605                                       0                         0   \n",
              "\n",
              "        origem_Com destinação específica  origem_Sem destinação específica  \n",
              "0                                      0                                 1  \n",
              "1                                      0                                 1  \n",
              "2                                      0                                 1  \n",
              "3                                      0                                 1  \n",
              "4                                      1                                 0  \n",
              "...                                  ...                               ...  \n",
              "884601                                 0                                 1  \n",
              "884602                                 0                                 1  \n",
              "884603                                 0                                 1  \n",
              "884604                                 0                                 1  \n",
              "884605                                 0                                 1  \n",
              "\n",
              "[135922 rows x 33 columns]"
            ],
            "text/html": [
              "\n",
              "  <div id=\"df-2fb1c975-be92-4caf-9362-d9885de1c46c\">\n",
              "    <div class=\"colab-df-container\">\n",
              "      <div>\n",
              "<style scoped>\n",
              "    .dataframe tbody tr th:only-of-type {\n",
              "        vertical-align: middle;\n",
              "    }\n",
              "\n",
              "    .dataframe tbody tr th {\n",
              "        vertical-align: top;\n",
              "    }\n",
              "\n",
              "    .dataframe thead th {\n",
              "        text-align: right;\n",
              "    }\n",
              "</style>\n",
              "<table border=\"1\" class=\"dataframe\">\n",
              "  <thead>\n",
              "    <tr style=\"text-align: right;\">\n",
              "      <th></th>\n",
              "      <th>vencido_acima_de_15_dias</th>\n",
              "      <th>ativo_problematico</th>\n",
              "      <th>inadimplente</th>\n",
              "      <th>tcb_Bancário</th>\n",
              "      <th>tcb_Cooperativas</th>\n",
              "      <th>tcb_Não bancário</th>\n",
              "      <th>cliente_PF</th>\n",
              "      <th>ocupacao_PF - Aposentado/pensionista</th>\n",
              "      <th>ocupacao_PF - Autônomo</th>\n",
              "      <th>ocupacao_PF - Empregado de empresa privada</th>\n",
              "      <th>...</th>\n",
              "      <th>porte_PF - Sem rendimento</th>\n",
              "      <th>modalidade_PF - Cartão de crédito</th>\n",
              "      <th>modalidade_PF - Empréstimo com consignação em folha</th>\n",
              "      <th>modalidade_PF - Empréstimo sem consignação em folha</th>\n",
              "      <th>modalidade_PF - Habitacional</th>\n",
              "      <th>modalidade_PF - Outros créditos</th>\n",
              "      <th>modalidade_PF - Rural e agroindustrial</th>\n",
              "      <th>modalidade_PF - Veículos</th>\n",
              "      <th>origem_Com destinação específica</th>\n",
              "      <th>origem_Sem destinação específica</th>\n",
              "    </tr>\n",
              "  </thead>\n",
              "  <tbody>\n",
              "    <tr>\n",
              "      <th>0</th>\n",
              "      <td>2813.38</td>\n",
              "      <td>0.00</td>\n",
              "      <td>0</td>\n",
              "      <td>1</td>\n",
              "      <td>0</td>\n",
              "      <td>0</td>\n",
              "      <td>1</td>\n",
              "      <td>1</td>\n",
              "      <td>0</td>\n",
              "      <td>0</td>\n",
              "      <td>...</td>\n",
              "      <td>0</td>\n",
              "      <td>1</td>\n",
              "      <td>0</td>\n",
              "      <td>0</td>\n",
              "      <td>0</td>\n",
              "      <td>0</td>\n",
              "      <td>0</td>\n",
              "      <td>0</td>\n",
              "      <td>0</td>\n",
              "      <td>1</td>\n",
              "    </tr>\n",
              "    <tr>\n",
              "      <th>1</th>\n",
              "      <td>328556.06</td>\n",
              "      <td>243547.54</td>\n",
              "      <td>1</td>\n",
              "      <td>1</td>\n",
              "      <td>0</td>\n",
              "      <td>0</td>\n",
              "      <td>1</td>\n",
              "      <td>1</td>\n",
              "      <td>0</td>\n",
              "      <td>0</td>\n",
              "      <td>...</td>\n",
              "      <td>0</td>\n",
              "      <td>1</td>\n",
              "      <td>0</td>\n",
              "      <td>0</td>\n",
              "      <td>0</td>\n",
              "      <td>0</td>\n",
              "      <td>0</td>\n",
              "      <td>0</td>\n",
              "      <td>0</td>\n",
              "      <td>1</td>\n",
              "    </tr>\n",
              "    <tr>\n",
              "      <th>2</th>\n",
              "      <td>76894.25</td>\n",
              "      <td>653774.53</td>\n",
              "      <td>1</td>\n",
              "      <td>1</td>\n",
              "      <td>0</td>\n",
              "      <td>0</td>\n",
              "      <td>1</td>\n",
              "      <td>1</td>\n",
              "      <td>0</td>\n",
              "      <td>0</td>\n",
              "      <td>...</td>\n",
              "      <td>0</td>\n",
              "      <td>0</td>\n",
              "      <td>1</td>\n",
              "      <td>0</td>\n",
              "      <td>0</td>\n",
              "      <td>0</td>\n",
              "      <td>0</td>\n",
              "      <td>0</td>\n",
              "      <td>0</td>\n",
              "      <td>1</td>\n",
              "    </tr>\n",
              "    <tr>\n",
              "      <th>3</th>\n",
              "      <td>3460.94</td>\n",
              "      <td>0.00</td>\n",
              "      <td>0</td>\n",
              "      <td>1</td>\n",
              "      <td>0</td>\n",
              "      <td>0</td>\n",
              "      <td>1</td>\n",
              "      <td>1</td>\n",
              "      <td>0</td>\n",
              "      <td>0</td>\n",
              "      <td>...</td>\n",
              "      <td>0</td>\n",
              "      <td>0</td>\n",
              "      <td>0</td>\n",
              "      <td>1</td>\n",
              "      <td>0</td>\n",
              "      <td>0</td>\n",
              "      <td>0</td>\n",
              "      <td>0</td>\n",
              "      <td>0</td>\n",
              "      <td>1</td>\n",
              "    </tr>\n",
              "    <tr>\n",
              "      <th>4</th>\n",
              "      <td>0.00</td>\n",
              "      <td>0.00</td>\n",
              "      <td>0</td>\n",
              "      <td>1</td>\n",
              "      <td>0</td>\n",
              "      <td>0</td>\n",
              "      <td>1</td>\n",
              "      <td>1</td>\n",
              "      <td>0</td>\n",
              "      <td>0</td>\n",
              "      <td>...</td>\n",
              "      <td>0</td>\n",
              "      <td>0</td>\n",
              "      <td>0</td>\n",
              "      <td>0</td>\n",
              "      <td>1</td>\n",
              "      <td>0</td>\n",
              "      <td>0</td>\n",
              "      <td>0</td>\n",
              "      <td>1</td>\n",
              "      <td>0</td>\n",
              "    </tr>\n",
              "    <tr>\n",
              "      <th>...</th>\n",
              "      <td>...</td>\n",
              "      <td>...</td>\n",
              "      <td>...</td>\n",
              "      <td>...</td>\n",
              "      <td>...</td>\n",
              "      <td>...</td>\n",
              "      <td>...</td>\n",
              "      <td>...</td>\n",
              "      <td>...</td>\n",
              "      <td>...</td>\n",
              "      <td>...</td>\n",
              "      <td>...</td>\n",
              "      <td>...</td>\n",
              "      <td>...</td>\n",
              "      <td>...</td>\n",
              "      <td>...</td>\n",
              "      <td>...</td>\n",
              "      <td>...</td>\n",
              "      <td>...</td>\n",
              "      <td>...</td>\n",
              "      <td>...</td>\n",
              "    </tr>\n",
              "    <tr>\n",
              "      <th>884601</th>\n",
              "      <td>2463.92</td>\n",
              "      <td>6457.38</td>\n",
              "      <td>1</td>\n",
              "      <td>0</td>\n",
              "      <td>0</td>\n",
              "      <td>1</td>\n",
              "      <td>1</td>\n",
              "      <td>0</td>\n",
              "      <td>0</td>\n",
              "      <td>0</td>\n",
              "      <td>...</td>\n",
              "      <td>0</td>\n",
              "      <td>0</td>\n",
              "      <td>0</td>\n",
              "      <td>0</td>\n",
              "      <td>0</td>\n",
              "      <td>1</td>\n",
              "      <td>0</td>\n",
              "      <td>0</td>\n",
              "      <td>0</td>\n",
              "      <td>1</td>\n",
              "    </tr>\n",
              "    <tr>\n",
              "      <th>884602</th>\n",
              "      <td>0.00</td>\n",
              "      <td>0.00</td>\n",
              "      <td>0</td>\n",
              "      <td>0</td>\n",
              "      <td>0</td>\n",
              "      <td>1</td>\n",
              "      <td>1</td>\n",
              "      <td>0</td>\n",
              "      <td>0</td>\n",
              "      <td>0</td>\n",
              "      <td>...</td>\n",
              "      <td>0</td>\n",
              "      <td>1</td>\n",
              "      <td>0</td>\n",
              "      <td>0</td>\n",
              "      <td>0</td>\n",
              "      <td>0</td>\n",
              "      <td>0</td>\n",
              "      <td>0</td>\n",
              "      <td>0</td>\n",
              "      <td>1</td>\n",
              "    </tr>\n",
              "    <tr>\n",
              "      <th>884603</th>\n",
              "      <td>11690.57</td>\n",
              "      <td>92500.39</td>\n",
              "      <td>1</td>\n",
              "      <td>0</td>\n",
              "      <td>0</td>\n",
              "      <td>1</td>\n",
              "      <td>1</td>\n",
              "      <td>0</td>\n",
              "      <td>0</td>\n",
              "      <td>0</td>\n",
              "      <td>...</td>\n",
              "      <td>0</td>\n",
              "      <td>0</td>\n",
              "      <td>0</td>\n",
              "      <td>1</td>\n",
              "      <td>0</td>\n",
              "      <td>0</td>\n",
              "      <td>0</td>\n",
              "      <td>0</td>\n",
              "      <td>0</td>\n",
              "      <td>1</td>\n",
              "    </tr>\n",
              "    <tr>\n",
              "      <th>884604</th>\n",
              "      <td>9839.34</td>\n",
              "      <td>4842.19</td>\n",
              "      <td>1</td>\n",
              "      <td>0</td>\n",
              "      <td>0</td>\n",
              "      <td>1</td>\n",
              "      <td>1</td>\n",
              "      <td>0</td>\n",
              "      <td>0</td>\n",
              "      <td>0</td>\n",
              "      <td>...</td>\n",
              "      <td>0</td>\n",
              "      <td>0</td>\n",
              "      <td>0</td>\n",
              "      <td>0</td>\n",
              "      <td>0</td>\n",
              "      <td>1</td>\n",
              "      <td>0</td>\n",
              "      <td>0</td>\n",
              "      <td>0</td>\n",
              "      <td>1</td>\n",
              "    </tr>\n",
              "    <tr>\n",
              "      <th>884605</th>\n",
              "      <td>0.00</td>\n",
              "      <td>0.00</td>\n",
              "      <td>0</td>\n",
              "      <td>0</td>\n",
              "      <td>0</td>\n",
              "      <td>1</td>\n",
              "      <td>1</td>\n",
              "      <td>0</td>\n",
              "      <td>0</td>\n",
              "      <td>0</td>\n",
              "      <td>...</td>\n",
              "      <td>1</td>\n",
              "      <td>0</td>\n",
              "      <td>0</td>\n",
              "      <td>1</td>\n",
              "      <td>0</td>\n",
              "      <td>0</td>\n",
              "      <td>0</td>\n",
              "      <td>0</td>\n",
              "      <td>0</td>\n",
              "      <td>1</td>\n",
              "    </tr>\n",
              "  </tbody>\n",
              "</table>\n",
              "<p>135922 rows × 33 columns</p>\n",
              "</div>\n",
              "      <button class=\"colab-df-convert\" onclick=\"convertToInteractive('df-2fb1c975-be92-4caf-9362-d9885de1c46c')\"\n",
              "              title=\"Convert this dataframe to an interactive table.\"\n",
              "              style=\"display:none;\">\n",
              "        \n",
              "  <svg xmlns=\"http://www.w3.org/2000/svg\" height=\"24px\"viewBox=\"0 0 24 24\"\n",
              "       width=\"24px\">\n",
              "    <path d=\"M0 0h24v24H0V0z\" fill=\"none\"/>\n",
              "    <path d=\"M18.56 5.44l.94 2.06.94-2.06 2.06-.94-2.06-.94-.94-2.06-.94 2.06-2.06.94zm-11 1L8.5 8.5l.94-2.06 2.06-.94-2.06-.94L8.5 2.5l-.94 2.06-2.06.94zm10 10l.94 2.06.94-2.06 2.06-.94-2.06-.94-.94-2.06-.94 2.06-2.06.94z\"/><path d=\"M17.41 7.96l-1.37-1.37c-.4-.4-.92-.59-1.43-.59-.52 0-1.04.2-1.43.59L10.3 9.45l-7.72 7.72c-.78.78-.78 2.05 0 2.83L4 21.41c.39.39.9.59 1.41.59.51 0 1.02-.2 1.41-.59l7.78-7.78 2.81-2.81c.8-.78.8-2.07 0-2.86zM5.41 20L4 18.59l7.72-7.72 1.47 1.35L5.41 20z\"/>\n",
              "  </svg>\n",
              "      </button>\n",
              "      \n",
              "  <style>\n",
              "    .colab-df-container {\n",
              "      display:flex;\n",
              "      flex-wrap:wrap;\n",
              "      gap: 12px;\n",
              "    }\n",
              "\n",
              "    .colab-df-convert {\n",
              "      background-color: #E8F0FE;\n",
              "      border: none;\n",
              "      border-radius: 50%;\n",
              "      cursor: pointer;\n",
              "      display: none;\n",
              "      fill: #1967D2;\n",
              "      height: 32px;\n",
              "      padding: 0 0 0 0;\n",
              "      width: 32px;\n",
              "    }\n",
              "\n",
              "    .colab-df-convert:hover {\n",
              "      background-color: #E2EBFA;\n",
              "      box-shadow: 0px 1px 2px rgba(60, 64, 67, 0.3), 0px 1px 3px 1px rgba(60, 64, 67, 0.15);\n",
              "      fill: #174EA6;\n",
              "    }\n",
              "\n",
              "    [theme=dark] .colab-df-convert {\n",
              "      background-color: #3B4455;\n",
              "      fill: #D2E3FC;\n",
              "    }\n",
              "\n",
              "    [theme=dark] .colab-df-convert:hover {\n",
              "      background-color: #434B5C;\n",
              "      box-shadow: 0px 1px 3px 1px rgba(0, 0, 0, 0.15);\n",
              "      filter: drop-shadow(0px 1px 2px rgba(0, 0, 0, 0.3));\n",
              "      fill: #FFFFFF;\n",
              "    }\n",
              "  </style>\n",
              "\n",
              "      <script>\n",
              "        const buttonEl =\n",
              "          document.querySelector('#df-2fb1c975-be92-4caf-9362-d9885de1c46c button.colab-df-convert');\n",
              "        buttonEl.style.display =\n",
              "          google.colab.kernel.accessAllowed ? 'block' : 'none';\n",
              "\n",
              "        async function convertToInteractive(key) {\n",
              "          const element = document.querySelector('#df-2fb1c975-be92-4caf-9362-d9885de1c46c');\n",
              "          const dataTable =\n",
              "            await google.colab.kernel.invokeFunction('convertToInteractive',\n",
              "                                                     [key], {});\n",
              "          if (!dataTable) return;\n",
              "\n",
              "          const docLinkHtml = 'Like what you see? Visit the ' +\n",
              "            '<a target=\"_blank\" href=https://colab.research.google.com/notebooks/data_table.ipynb>data table notebook</a>'\n",
              "            + ' to learn more about interactive tables.';\n",
              "          element.innerHTML = '';\n",
              "          dataTable['output_type'] = 'display_data';\n",
              "          await google.colab.output.renderOutput(dataTable, element);\n",
              "          const docLink = document.createElement('div');\n",
              "          docLink.innerHTML = docLinkHtml;\n",
              "          element.appendChild(docLink);\n",
              "        }\n",
              "      </script>\n",
              "    </div>\n",
              "  </div>\n",
              "  "
            ]
          },
          "metadata": {}
        }
      ]
    },
    {
      "cell_type": "code",
      "source": [
        "df_modificado.info()"
      ],
      "metadata": {
        "id": "kCh0XVQyNxHh",
        "colab": {
          "base_uri": "https://localhost:8080/"
        },
        "outputId": "eac7b338-cd14-4166-a0d7-c5a8887e72b6"
      },
      "execution_count": null,
      "outputs": [
        {
          "output_type": "stream",
          "name": "stdout",
          "text": [
            "<class 'pandas.core.frame.DataFrame'>\n",
            "Int64Index: 135922 entries, 0 to 884605\n",
            "Data columns (total 33 columns):\n",
            " #   Column                                                    Non-Null Count   Dtype  \n",
            "---  ------                                                    --------------   -----  \n",
            " 0   vencido_acima_de_15_dias                                  135922 non-null  float64\n",
            " 1   ativo_problematico                                        135922 non-null  float64\n",
            " 2   inadimplente                                              135922 non-null  int64  \n",
            " 3   tcb_Bancário                                              135922 non-null  uint8  \n",
            " 4   tcb_Cooperativas                                          135922 non-null  uint8  \n",
            " 5   tcb_Não bancário                                          135922 non-null  uint8  \n",
            " 6   cliente_PF                                                135922 non-null  uint8  \n",
            " 7   ocupacao_PF - Aposentado/pensionista                      135922 non-null  uint8  \n",
            " 8   ocupacao_PF - Autônomo                                    135922 non-null  uint8  \n",
            " 9   ocupacao_PF - Empregado de empresa privada                135922 non-null  uint8  \n",
            " 10  ocupacao_PF - Empregado de entidades sem fins lucrativos  135922 non-null  uint8  \n",
            " 11  ocupacao_PF - Empresário                                  135922 non-null  uint8  \n",
            " 12  ocupacao_PF - MEI                                         135922 non-null  uint8  \n",
            " 13  ocupacao_PF - Outros                                      135922 non-null  uint8  \n",
            " 14  ocupacao_PF - Servidor ou empregado público               135922 non-null  uint8  \n",
            " 15  porte_PF - Acima de 20 salários mínimos                   135922 non-null  uint8  \n",
            " 16  porte_PF - Até 1 salário mínimo                           135922 non-null  uint8  \n",
            " 17  porte_PF - Indisponível                                   135922 non-null  uint8  \n",
            " 18  porte_PF - Mais de 1 a 2 salários mínimos                 135922 non-null  uint8  \n",
            " 19  porte_PF - Mais de 10 a 20 salários mínimos               135922 non-null  uint8  \n",
            " 20  porte_PF - Mais de 2 a 3 salários mínimos                 135922 non-null  uint8  \n",
            " 21  porte_PF - Mais de 3 a 5 salários mínimos                 135922 non-null  uint8  \n",
            " 22  porte_PF - Mais de 5 a 10 salários mínimos                135922 non-null  uint8  \n",
            " 23  porte_PF - Sem rendimento                                 135922 non-null  uint8  \n",
            " 24  modalidade_PF - Cartão de crédito                         135922 non-null  uint8  \n",
            " 25  modalidade_PF - Empréstimo com consignação em folha       135922 non-null  uint8  \n",
            " 26  modalidade_PF - Empréstimo sem consignação em folha       135922 non-null  uint8  \n",
            " 27  modalidade_PF - Habitacional                              135922 non-null  uint8  \n",
            " 28  modalidade_PF - Outros créditos                           135922 non-null  uint8  \n",
            " 29  modalidade_PF - Rural e agroindustrial                    135922 non-null  uint8  \n",
            " 30  modalidade_PF - Veículos                                  135922 non-null  uint8  \n",
            " 31  origem_Com destinação específica                          135922 non-null  uint8  \n",
            " 32  origem_Sem destinação específica                          135922 non-null  uint8  \n",
            "dtypes: float64(2), int64(1), uint8(30)\n",
            "memory usage: 8.0 MB\n"
          ]
        }
      ]
    },
    {
      "cell_type": "markdown",
      "source": [
        "###Balanciando dados"
      ],
      "metadata": {
        "id": "bVjvwL2hNLSK"
      }
    },
    {
      "cell_type": "code",
      "source": [
        "ax = sns.countplot(x='inadimplente', data=df_modificado)"
      ],
      "metadata": {
        "colab": {
          "base_uri": "https://localhost:8080/",
          "height": 449
        },
        "id": "tLFEq_AuUYV5",
        "outputId": "9130fc76-f3c4-4265-cec2-9ed39ab64988"
      },
      "execution_count": null,
      "outputs": [
        {
          "output_type": "display_data",
          "data": {
            "text/plain": [
              "<Figure size 640x480 with 1 Axes>"
            ],
            "image/png": "[encoded data removed]"
          },
          "metadata": {}
        }
      ]
    },
    {
      "cell_type": "code",
      "source": [
        "#separar as variáveis caracteristica e respostas\n",
        "X = df_modificado.drop('inadimplente', axis = 1)\n",
        "y = df_modificado['inadimplente']"
      ],
      "metadata": {
        "id": "KKf7VRX6bxN2"
      },
      "execution_count": null,
      "outputs": []
    },
    {
      "cell_type": "code",
      "source": [
        "from imblearn.over_sampling import SMOTE\n",
        "\n",
        "smt = SMOTE()  # Instancia um objeto da classe SMOTE\n",
        "X, y = smt.fit_resample(X, y)  # Realiza a reamostragem do conjunto de dados"
      ],
      "metadata": {
        "id": "mSz1FTTEdUmv"
      },
      "execution_count": null,
      "outputs": []
    },
    {
      "cell_type": "code",
      "source": [
        "dados_final = pd.concat([X, y], axis=1)  # Concatena a variável target (y) com as features (X)\n",
        "\n",
        "# Verifica se o balanceamento e a concatenação estão corretos.\n",
        "dados_final.head(2)"
      ],
      "metadata": {
        "colab": {
          "base_uri": "https://localhost:8080/",
          "height": 292
        },
        "id": "iSOm0eUiPgGS",
        "outputId": "2f0c8df7-7d57-4bef-e012-6c77cef268b6"
      },
      "execution_count": null,
      "outputs": [
        {
          "output_type": "execute_result",
          "data": {
            "text/plain": [
              "   vencido_acima_de_15_dias  ativo_problematico  tcb_Bancário  \\\n",
              "0                   2813.38                0.00             1   \n",
              "1                 328556.06           243547.54             1   \n",
              "\n",
              "   tcb_Cooperativas  tcb_Não bancário  cliente_PF  \\\n",
              "0                 0                 0           1   \n",
              "1                 0                 0           1   \n",
              "\n",
              "   ocupacao_PF - Aposentado/pensionista  ocupacao_PF - Autônomo  \\\n",
              "0                                     1                       0   \n",
              "1                                     1                       0   \n",
              "\n",
              "   ocupacao_PF - Empregado de empresa privada  \\\n",
              "0                                           0   \n",
              "1                                           0   \n",
              "\n",
              "   ocupacao_PF - Empregado de entidades sem fins lucrativos  ...  \\\n",
              "0                                                  0         ...   \n",
              "1                                                  0         ...   \n",
              "\n",
              "   modalidade_PF - Cartão de crédito  \\\n",
              "0                                  1   \n",
              "1                                  1   \n",
              "\n",
              "   modalidade_PF - Empréstimo com consignação em folha  \\\n",
              "0                                                  0     \n",
              "1                                                  0     \n",
              "\n",
              "   modalidade_PF - Empréstimo sem consignação em folha  \\\n",
              "0                                                  0     \n",
              "1                                                  0     \n",
              "\n",
              "   modalidade_PF - Habitacional  modalidade_PF - Outros créditos  \\\n",
              "0                             0                                0   \n",
              "1                             0                                0   \n",
              "\n",
              "   modalidade_PF - Rural e agroindustrial  modalidade_PF - Veículos  \\\n",
              "0                                       0                         0   \n",
              "1                                       0                         0   \n",
              "\n",
              "   origem_Com destinação específica  origem_Sem destinação específica  \\\n",
              "0                                 0                                 1   \n",
              "1                                 0                                 1   \n",
              "\n",
              "   inadimplente  \n",
              "0             0  \n",
              "1             1  \n",
              "\n",
              "[2 rows x 33 columns]"
            ],
            "text/html": [
              "\n",
              "  <div id=\"df-447cbc16-c6bb-4358-a1c3-7ee8958f5120\">\n",
              "    <div class=\"colab-df-container\">\n",
              "      <div>\n",
              "<style scoped>\n",
              "    .dataframe tbody tr th:only-of-type {\n",
              "        vertical-align: middle;\n",
              "    }\n",
              "\n",
              "    .dataframe tbody tr th {\n",
              "        vertical-align: top;\n",
              "    }\n",
              "\n",
              "    .dataframe thead th {\n",
              "        text-align: right;\n",
              "    }\n",
              "</style>\n",
              "<table border=\"1\" class=\"dataframe\">\n",
              "  <thead>\n",
              "    <tr style=\"text-align: right;\">\n",
              "      <th></th>\n",
              "      <th>vencido_acima_de_15_dias</th>\n",
              "      <th>ativo_problematico</th>\n",
              "      <th>tcb_Bancário</th>\n",
              "      <th>tcb_Cooperativas</th>\n",
              "      <th>tcb_Não bancário</th>\n",
              "      <th>cliente_PF</th>\n",
              "      <th>ocupacao_PF - Aposentado/pensionista</th>\n",
              "      <th>ocupacao_PF - Autônomo</th>\n",
              "      <th>ocupacao_PF - Empregado de empresa privada</th>\n",
              "      <th>ocupacao_PF - Empregado de entidades sem fins lucrativos</th>\n",
              "      <th>...</th>\n",
              "      <th>modalidade_PF - Cartão de crédito</th>\n",
              "      <th>modalidade_PF - Empréstimo com consignação em folha</th>\n",
              "      <th>modalidade_PF - Empréstimo sem consignação em folha</th>\n",
              "      <th>modalidade_PF - Habitacional</th>\n",
              "      <th>modalidade_PF - Outros créditos</th>\n",
              "      <th>modalidade_PF - Rural e agroindustrial</th>\n",
              "      <th>modalidade_PF - Veículos</th>\n",
              "      <th>origem_Com destinação específica</th>\n",
              "      <th>origem_Sem destinação específica</th>\n",
              "      <th>inadimplente</th>\n",
              "    </tr>\n",
              "  </thead>\n",
              "  <tbody>\n",
              "    <tr>\n",
              "      <th>0</th>\n",
              "      <td>2813.38</td>\n",
              "      <td>0.00</td>\n",
              "      <td>1</td>\n",
              "      <td>0</td>\n",
              "      <td>0</td>\n",
              "      <td>1</td>\n",
              "      <td>1</td>\n",
              "      <td>0</td>\n",
              "      <td>0</td>\n",
              "      <td>0</td>\n",
              "      <td>...</td>\n",
              "      <td>1</td>\n",
              "      <td>0</td>\n",
              "      <td>0</td>\n",
              "      <td>0</td>\n",
              "      <td>0</td>\n",
              "      <td>0</td>\n",
              "      <td>0</td>\n",
              "      <td>0</td>\n",
              "      <td>1</td>\n",
              "      <td>0</td>\n",
              "    </tr>\n",
              "    <tr>\n",
              "      <th>1</th>\n",
              "      <td>328556.06</td>\n",
              "      <td>243547.54</td>\n",
              "      <td>1</td>\n",
              "      <td>0</td>\n",
              "      <td>0</td>\n",
              "      <td>1</td>\n",
              "      <td>1</td>\n",
              "      <td>0</td>\n",
              "      <td>0</td>\n",
              "      <td>0</td>\n",
              "      <td>...</td>\n",
              "      <td>1</td>\n",
              "      <td>0</td>\n",
              "      <td>0</td>\n",
              "      <td>0</td>\n",
              "      <td>0</td>\n",
              "      <td>0</td>\n",
              "      <td>0</td>\n",
              "      <td>0</td>\n",
              "      <td>1</td>\n",
              "      <td>1</td>\n",
              "    </tr>\n",
              "  </tbody>\n",
              "</table>\n",
              "<p>2 rows × 33 columns</p>\n",
              "</div>\n",
              "      <button class=\"colab-df-convert\" onclick=\"convertToInteractive('df-447cbc16-c6bb-4358-a1c3-7ee8958f5120')\"\n",
              "              title=\"Convert this dataframe to an interactive table.\"\n",
              "              style=\"display:none;\">\n",
              "        \n",
              "  <svg xmlns=\"http://www.w3.org/2000/svg\" height=\"24px\"viewBox=\"0 0 24 24\"\n",
              "       width=\"24px\">\n",
              "    <path d=\"M0 0h24v24H0V0z\" fill=\"none\"/>\n",
              "    <path d=\"M18.56 5.44l.94 2.06.94-2.06 2.06-.94-2.06-.94-.94-2.06-.94 2.06-2.06.94zm-11 1L8.5 8.5l.94-2.06 2.06-.94-2.06-.94L8.5 2.5l-.94 2.06-2.06.94zm10 10l.94 2.06.94-2.06 2.06-.94-2.06-.94-.94-2.06-.94 2.06-2.06.94z\"/><path d=\"M17.41 7.96l-1.37-1.37c-.4-.4-.92-.59-1.43-.59-.52 0-1.04.2-1.43.59L10.3 9.45l-7.72 7.72c-.78.78-.78 2.05 0 2.83L4 21.41c.39.39.9.59 1.41.59.51 0 1.02-.2 1.41-.59l7.78-7.78 2.81-2.81c.8-.78.8-2.07 0-2.86zM5.41 20L4 18.59l7.72-7.72 1.47 1.35L5.41 20z\"/>\n",
              "  </svg>\n",
              "      </button>\n",
              "      \n",
              "  <style>\n",
              "    .colab-df-container {\n",
              "      display:flex;\n",
              "      flex-wrap:wrap;\n",
              "      gap: 12px;\n",
              "    }\n",
              "\n",
              "    .colab-df-convert {\n",
              "      background-color: #E8F0FE;\n",
              "      border: none;\n",
              "      border-radius: 50%;\n",
              "      cursor: pointer;\n",
              "      display: none;\n",
              "      fill: #1967D2;\n",
              "      height: 32px;\n",
              "      padding: 0 0 0 0;\n",
              "      width: 32px;\n",
              "    }\n",
              "\n",
              "    .colab-df-convert:hover {\n",
              "      background-color: #E2EBFA;\n",
              "      box-shadow: 0px 1px 2px rgba(60, 64, 67, 0.3), 0px 1px 3px 1px rgba(60, 64, 67, 0.15);\n",
              "      fill: #174EA6;\n",
              "    }\n",
              "\n",
              "    [theme=dark] .colab-df-convert {\n",
              "      background-color: #3B4455;\n",
              "      fill: #D2E3FC;\n",
              "    }\n",
              "\n",
              "    [theme=dark] .colab-df-convert:hover {\n",
              "      background-color: #434B5C;\n",
              "      box-shadow: 0px 1px 3px 1px rgba(0, 0, 0, 0.15);\n",
              "      filter: drop-shadow(0px 1px 2px rgba(0, 0, 0, 0.3));\n",
              "      fill: #FFFFFF;\n",
              "    }\n",
              "  </style>\n",
              "\n",
              "      <script>\n",
              "        const buttonEl =\n",
              "          document.querySelector('#df-447cbc16-c6bb-4358-a1c3-7ee8958f5120 button.colab-df-convert');\n",
              "        buttonEl.style.display =\n",
              "          google.colab.kernel.accessAllowed ? 'block' : 'none';\n",
              "\n",
              "        async function convertToInteractive(key) {\n",
              "          const element = document.querySelector('#df-447cbc16-c6bb-4358-a1c3-7ee8958f5120');\n",
              "          const dataTable =\n",
              "            await google.colab.kernel.invokeFunction('convertToInteractive',\n",
              "                                                     [key], {});\n",
              "          if (!dataTable) return;\n",
              "\n",
              "          const docLinkHtml = 'Like what you see? Visit the ' +\n",
              "            '<a target=\"_blank\" href=https://colab.research.google.com/notebooks/data_table.ipynb>data table notebook</a>'\n",
              "            + ' to learn more about interactive tables.';\n",
              "          element.innerHTML = '';\n",
              "          dataTable['output_type'] = 'display_data';\n",
              "          await google.colab.output.renderOutput(dataTable, element);\n",
              "          const docLink = document.createElement('div');\n",
              "          docLink.innerHTML = docLinkHtml;\n",
              "          element.appendChild(docLink);\n",
              "        }\n",
              "      </script>\n",
              "    </div>\n",
              "  </div>\n",
              "  "
            ]
          },
          "metadata": {},
          "execution_count": 32
        }
      ]
    },
    {
      "cell_type": "code",
      "source": [
        "ax = sns.countplot(x='inadimplente', data=dados_final)"
      ],
      "metadata": {
        "colab": {
          "base_uri": "https://localhost:8080/",
          "height": 449
        },
        "id": "pZ9735esPUdq",
        "outputId": "5f2460c4-b5a3-407a-bea2-756cd9a6812b"
      },
      "execution_count": null,
      "outputs": [
        {
          "output_type": "display_data",
          "data": {
            "text/plain": [
              "<Figure size 640x480 with 1 Axes>"
            ],
            "image/png": "[encoded data removed]"
          },
          "metadata": {}
        }
      ]
    },
    {
      "cell_type": "markdown",
      "source": [
        "#XGBoost"
      ],
      "metadata": {
        "id": "B0z1u2WA1Hv2"
      }
    },
    {
      "cell_type": "code",
      "source": [
        "!pip install xgboost"
      ],
      "metadata": {
        "colab": {
          "base_uri": "https://localhost:8080/"
        },
        "id": "qzIVbcjZ1UyG",
        "outputId": "263434bf-9b34-46a3-8ead-2da03676b4c1"
      },
      "execution_count": null,
      "outputs": [
        {
          "output_type": "stream",
          "name": "stdout",
          "text": [
            "Looking in indexes: https://pypi.org/simple, https://us-python.pkg.dev/colab-wheels/public/simple/\n",
            "Requirement already satisfied: xgboost in /usr/local/lib/python3.9/dist-packages (1.7.5)\n",
            "Requirement already satisfied: scipy in /usr/local/lib/python3.9/dist-packages (from xgboost) (1.10.1)\n",
            "Requirement already satisfied: numpy in /usr/local/lib/python3.9/dist-packages (from xgboost) (1.22.4)\n"
          ]
        }
      ]
    },
    {
      "cell_type": "code",
      "source": [
        "from sklearn.model_selection import train_test_split\n",
        "from sklearn import metrics\n",
        "import xgboost as xgb"
      ],
      "metadata": {
        "id": "O6Ta2T2NV3pk"
      },
      "execution_count": null,
      "outputs": []
    },
    {
      "cell_type": "code",
      "source": [
        "# Separando X e y\n",
        "X_dados_final = dados_final.drop(['inadimplente'], axis=1)\n",
        "y_dados_final = dados_final['inadimplente']"
      ],
      "metadata": {
        "id": "wpZOdxRqc1-A"
      },
      "execution_count": null,
      "outputs": []
    },
    {
      "cell_type": "code",
      "source": [
        "X_dados_final_train, X_dados_final_test, y_dados_final_train, y_dados_final_test = train_test_split(X_dados_final, y_dados_final, random_state=42)"
      ],
      "metadata": {
        "id": "7kqgJyYX2N3-"
      },
      "execution_count": null,
      "outputs": []
    },
    {
      "cell_type": "code",
      "source": [
        "X_dados_final_train.shape, X_dados_final_test.shape"
      ],
      "metadata": {
        "colab": {
          "base_uri": "https://localhost:8080/"
        },
        "id": "FWEP_9gx3_n-",
        "outputId": "f2da9f31-ab69-4295-a612-e3f27998abd0"
      },
      "execution_count": null,
      "outputs": [
        {
          "output_type": "execute_result",
          "data": {
            "text/plain": [
              "((125809, 32), (41937, 32))"
            ]
          },
          "metadata": {},
          "execution_count": 38
        }
      ]
    },
    {
      "cell_type": "code",
      "source": [
        "len(X_dados_final_test) / len(X_dados_final)"
      ],
      "metadata": {
        "colab": {
          "base_uri": "https://localhost:8080/"
        },
        "id": "mkJFfpqQ4QYX",
        "outputId": "d5615d5f-ee7f-42a9-c352-c18e5dd92396"
      },
      "execution_count": null,
      "outputs": [
        {
          "output_type": "execute_result",
          "data": {
            "text/plain": [
              "0.25000298069700616"
            ]
          },
          "metadata": {},
          "execution_count": 39
        }
      ]
    },
    {
      "cell_type": "code",
      "source": [
        "#Criando o objeto com o classificador XGBoost\n",
        "classificador_xgb = xgb.XGBClassifier()"
      ],
      "metadata": {
        "id": "UuE03uTn4wFO"
      },
      "execution_count": null,
      "outputs": []
    },
    {
      "cell_type": "code",
      "source": [
        "from sklearn.model_selection import cross_val_score\n",
        "\n",
        "\n",
        "resultado_cv = cross_val_score(classificador_xgb, X_dados_final_train, y_dados_final_train, cv = 10)\n",
        "\n",
        "resultado_cv"
      ],
      "metadata": {
        "colab": {
          "base_uri": "https://localhost:8080/"
        },
        "id": "yM7qS_N04-wH",
        "outputId": "fff10687-2416-472d-f447-d8ea386eef5d"
      },
      "execution_count": null,
      "outputs": [
        {
          "output_type": "execute_result",
          "data": {
            "text/plain": [
              "array([1.        , 1.        , 1.        , 1.        , 1.        ,\n",
              "       0.99992052, 1.        , 1.        , 1.        , 1.        ])"
            ]
          },
          "metadata": {},
          "execution_count": 41
        }
      ]
    },
    {
      "cell_type": "code",
      "source": [
        "#verificando a acurácia do modelo\n",
        "acuracia_cv = resultado_cv.mean()\n",
        "\n",
        "acuracia_cv"
      ],
      "metadata": {
        "colab": {
          "base_uri": "https://localhost:8080/"
        },
        "id": "8eEOZY-O5g_v",
        "outputId": "99854efd-f365-42f1-a41f-61fdc4b05fc9"
      },
      "execution_count": null,
      "outputs": [
        {
          "output_type": "execute_result",
          "data": {
            "text/plain": [
              "0.9999920515062396"
            ]
          },
          "metadata": {},
          "execution_count": 42
        }
      ]
    },
    {
      "cell_type": "code",
      "source": [
        "classificador_xgb_modificado = xgb.XGBClassifier(max_depth=2)\n",
        "100*(cross_val_score(classificador_xgb_modificado, X_dados_final_train, y_dados_final_train).mean())"
      ],
      "metadata": {
        "colab": {
          "base_uri": "https://localhost:8080/"
        },
        "id": "vGFvDYJM5ug_",
        "outputId": "c844a2e3-39e2-475b-ed0c-4a19757beeb1"
      },
      "execution_count": null,
      "outputs": [
        {
          "output_type": "execute_result",
          "data": {
            "text/plain": [
              "99.99920515062396"
            ]
          },
          "metadata": {},
          "execution_count": 43
        }
      ]
    },
    {
      "cell_type": "code",
      "source": [
        "classificador_xgb_dart =  xgb.XGBClassifier(booster='dart')\n",
        "\n",
        "100 * cross_val_score(classificador_xgb_dart, X_dados_final_train, y_dados_final_train).mean()"
      ],
      "metadata": {
        "colab": {
          "base_uri": "https://localhost:8080/"
        },
        "id": "E2jMF5UECBX5",
        "outputId": "5bab1ea5-2eee-4567-dc87-fd7262c3e3ac"
      },
      "execution_count": null,
      "outputs": [
        {
          "output_type": "execute_result",
          "data": {
            "text/plain": [
              "99.99920515062396"
            ]
          },
          "metadata": {},
          "execution_count": 44
        }
      ]
    },
    {
      "cell_type": "code",
      "source": [
        "classificador_xgb_gblinear =  xgb.XGBClassifier(booster='gblinear')\n",
        "\n",
        "100 * cross_val_score(classificador_xgb_gblinear, X_dados_final_train, y_dados_final_train).mean()"
      ],
      "metadata": {
        "colab": {
          "base_uri": "https://localhost:8080/"
        },
        "id": "pqTiF2HSCESh",
        "outputId": "d971f3ae-4355-4e85-9e70-4ec0f4aea6ac"
      },
      "execution_count": null,
      "outputs": [
        {
          "output_type": "execute_result",
          "data": {
            "text/plain": [
              "99.97456444088023"
            ]
          },
          "metadata": {},
          "execution_count": 45
        }
      ]
    },
    {
      "cell_type": "markdown",
      "source": [
        "###Melhor Modelo"
      ],
      "metadata": {
        "id": "WKsErrmeHOhJ"
      }
    },
    {
      "cell_type": "code",
      "source": [
        "#Melhor modelo\n",
        "classificador_melhor_modelo= classificador_xgb_dart"
      ],
      "metadata": {
        "id": "8Y7ae7TLFFDL"
      },
      "execution_count": null,
      "outputs": []
    },
    {
      "cell_type": "code",
      "source": [
        "classificador_melhor_modelo.fit(X_dados_final_train, y_dados_final_train)"
      ],
      "metadata": {
        "colab": {
          "base_uri": "https://localhost:8080/",
          "height": 248
        },
        "id": "5Xo--iP_FbU8",
        "outputId": "a57a68e8-bad0-4273-e641-9017ffeffcb9"
      },
      "execution_count": null,
      "outputs": [
        {
          "output_type": "execute_result",
          "data": {
            "text/plain": [
              "XGBClassifier(base_score=None, booster='dart', callbacks=None,\n",
              "              colsample_bylevel=None, colsample_bynode=None,\n",
              "              colsample_bytree=None, early_stopping_rounds=None,\n",
              "              enable_categorical=False, eval_metric=None, feature_types=None,\n",
              "              gamma=None, gpu_id=None, grow_policy=None, importance_type=None,\n",
              "              interaction_constraints=None, learning_rate=None, max_bin=None,\n",
              "              max_cat_threshold=None, max_cat_to_onehot=None,\n",
              "              max_delta_step=None, max_depth=None, max_leaves=None,\n",
              "              min_child_weight=None, missing=nan, monotone_constraints=None,\n",
              "              n_estimators=100, n_jobs=None, num_parallel_tree=None,\n",
              "              predictor=None, random_state=None, ...)"
            ],
            "text/html": [
              "<style>#sk-container-id-1 {color: black;background-color: white;}#sk-container-id-1 pre{padding: 0;}#sk-container-id-1 div.sk-toggleable {background-color: white;}#sk-container-id-1 label.sk-toggleable__label {cursor: pointer;display: block;width: 100%;margin-bottom: 0;padding: 0.3em;box-sizing: border-box;text-align: center;}#sk-container-id-1 label.sk-toggleable__label-arrow:before {content: \"▸\";float: left;margin-right: 0.25em;color: #696969;}#sk-container-id-1 label.sk-toggleable__label-arrow:hover:before {color: black;}#sk-container-id-1 div.sk-estimator:hover label.sk-toggleable__label-arrow:before {color: black;}#sk-container-id-1 div.sk-toggleable__content {max-height: 0;max-width: 0;overflow: hidden;text-align: left;background-color: #f0f8ff;}#sk-container-id-1 div.sk-toggleable__content pre {margin: 0.2em;color: black;border-radius: 0.25em;background-color: #f0f8ff;}#sk-container-id-1 input.sk-toggleable__control:checked~div.sk-toggleable__content {max-height: 200px;max-width: 100%;overflow: auto;}#sk-container-id-1 input.sk-toggleable__control:checked~label.sk-toggleable__label-arrow:before {content: \"▾\";}#sk-container-id-1 div.sk-estimator input.sk-toggleable__control:checked~label.sk-toggleable__label {background-color: #d4ebff;}#sk-container-id-1 div.sk-label input.sk-toggleable__control:checked~label.sk-toggleable__label {background-color: #d4ebff;}#sk-container-id-1 input.sk-hidden--visually {border: 0;clip: rect(1px 1px 1px 1px);clip: rect(1px, 1px, 1px, 1px);height: 1px;margin: -1px;overflow: hidden;padding: 0;position: absolute;width: 1px;}#sk-container-id-1 div.sk-estimator {font-family: monospace;background-color: #f0f8ff;border: 1px dotted black;border-radius: 0.25em;box-sizing: border-box;margin-bottom: 0.5em;}#sk-container-id-1 div.sk-estimator:hover {background-color: #d4ebff;}#sk-container-id-1 div.sk-parallel-item::after {content: \"\";width: 100%;border-bottom: 1px solid gray;flex-grow: 1;}#sk-container-id-1 div.sk-label:hover label.sk-toggleable__label {background-color: #d4ebff;}#sk-container-id-1 div.sk-serial::before {content: \"\";position: absolute;border-left: 1px solid gray;box-sizing: border-box;top: 0;bottom: 0;left: 50%;z-index: 0;}#sk-container-id-1 div.sk-serial {display: flex;flex-direction: column;align-items: center;background-color: white;padding-right: 0.2em;padding-left: 0.2em;position: relative;}#sk-container-id-1 div.sk-item {position: relative;z-index: 1;}#sk-container-id-1 div.sk-parallel {display: flex;align-items: stretch;justify-content: center;background-color: white;position: relative;}#sk-container-id-1 div.sk-item::before, #sk-container-id-1 div.sk-parallel-item::before {content: \"\";position: absolute;border-left: 1px solid gray;box-sizing: border-box;top: 0;bottom: 0;left: 50%;z-index: -1;}#sk-container-id-1 div.sk-parallel-item {display: flex;flex-direction: column;z-index: 1;position: relative;background-color: white;}#sk-container-id-1 div.sk-parallel-item:first-child::after {align-self: flex-end;width: 50%;}#sk-container-id-1 div.sk-parallel-item:last-child::after {align-self: flex-start;width: 50%;}#sk-container-id-1 div.sk-parallel-item:only-child::after {width: 0;}#sk-container-id-1 div.sk-dashed-wrapped {border: 1px dashed gray;margin: 0 0.4em 0.5em 0.4em;box-sizing: border-box;padding-bottom: 0.4em;background-color: white;}#sk-container-id-1 div.sk-label label {font-family: monospace;font-weight: bold;display: inline-block;line-height: 1.2em;}#sk-container-id-1 div.sk-label-container {text-align: center;}#sk-container-id-1 div.sk-container {/* jupyter's `normalize.less` sets `[hidden] { display: none; }` but bootstrap.min.css set `[hidden] { display: none !important; }` so we also need the `!important` here to be able to override the default hidden behavior on the sphinx rendered scikit-learn.org. See: https://github.com/scikit-learn/scikit-learn/issues/21755 */display: inline-block !important;position: relative;}#sk-container-id-1 div.sk-text-repr-fallback {display: none;}</style><div id=\"sk-container-id-1\" class=\"sk-top-container\"><div class=\"sk-text-repr-fallback\"><pre>XGBClassifier(base_score=None, booster=&#x27;dart&#x27;, callbacks=None,\n",
              "              colsample_bylevel=None, colsample_bynode=None,\n",
              "              colsample_bytree=None, early_stopping_rounds=None,\n",
              "              enable_categorical=False, eval_metric=None, feature_types=None,\n",
              "              gamma=None, gpu_id=None, grow_policy=None, importance_type=None,\n",
              "              interaction_constraints=None, learning_rate=None, max_bin=None,\n",
              "              max_cat_threshold=None, max_cat_to_onehot=None,\n",
              "              max_delta_step=None, max_depth=None, max_leaves=None,\n",
              "              min_child_weight=None, missing=nan, monotone_constraints=None,\n",
              "              n_estimators=100, n_jobs=None, num_parallel_tree=None,\n",
              "              predictor=None, random_state=None, ...)</pre><b>In a Jupyter environment, please rerun this cell to show the HTML representation or trust the notebook. <br />On GitHub, the HTML representation is unable to render, please try loading this page with nbviewer.org.</b></div><div class=\"sk-container\" hidden><div class=\"sk-item\"><div class=\"sk-estimator sk-toggleable\"><input class=\"sk-toggleable__control sk-hidden--visually\" id=\"sk-estimator-id-1\" type=\"checkbox\" checked><label for=\"sk-estimator-id-1\" class=\"sk-toggleable__label sk-toggleable__label-arrow\">XGBClassifier</label><div class=\"sk-toggleable__content\"><pre>XGBClassifier(base_score=None, booster=&#x27;dart&#x27;, callbacks=None,\n",
              "              colsample_bylevel=None, colsample_bynode=None,\n",
              "              colsample_bytree=None, early_stopping_rounds=None,\n",
              "              enable_categorical=False, eval_metric=None, feature_types=None,\n",
              "              gamma=None, gpu_id=None, grow_policy=None, importance_type=None,\n",
              "              interaction_constraints=None, learning_rate=None, max_bin=None,\n",
              "              max_cat_threshold=None, max_cat_to_onehot=None,\n",
              "              max_delta_step=None, max_depth=None, max_leaves=None,\n",
              "              min_child_weight=None, missing=nan, monotone_constraints=None,\n",
              "              n_estimators=100, n_jobs=None, num_parallel_tree=None,\n",
              "              predictor=None, random_state=None, ...)</pre></div></div></div></div></div>"
            ]
          },
          "metadata": {},
          "execution_count": 47
        }
      ]
    },
    {
      "cell_type": "code",
      "source": [
        "predicoes_dados_final = classificador_melhor_modelo.predict(X_dados_final_test)"
      ],
      "metadata": {
        "id": "vzO0JUuRGZBy"
      },
      "execution_count": null,
      "outputs": []
    },
    {
      "cell_type": "code",
      "source": [
        "(predicoes_dados_final == y_dados_final_test).sum()"
      ],
      "metadata": {
        "colab": {
          "base_uri": "https://localhost:8080/"
        },
        "id": "68HEfZoMGRSj",
        "outputId": "3e88cc81-6008-46fb-acb6-b695acafd221"
      },
      "execution_count": null,
      "outputs": [
        {
          "output_type": "execute_result",
          "data": {
            "text/plain": [
              "41936"
            ]
          },
          "metadata": {},
          "execution_count": 49
        }
      ]
    },
    {
      "cell_type": "code",
      "source": [
        "acertos = (predicoes_dados_final == y_dados_final_test).sum()\n",
        "total_observacoes = len(y_dados_final_test)\n",
        "\n",
        "acuracia = 100 * acertos / total_observacoes\n",
        "\n",
        "acuracia"
      ],
      "metadata": {
        "colab": {
          "base_uri": "https://localhost:8080/"
        },
        "id": "Kttgo7yDG5X7",
        "outputId": "d3d6af56-06d1-4037-ad3b-21b5d5e4df0a"
      },
      "execution_count": null,
      "outputs": [
        {
          "output_type": "execute_result",
          "data": {
            "text/plain": [
              "99.99761547082528"
            ]
          },
          "metadata": {},
          "execution_count": 50
        }
      ]
    },
    {
      "cell_type": "code",
      "source": [
        "dados_final.head(2)"
      ],
      "metadata": {
        "colab": {
          "base_uri": "https://localhost:8080/",
          "height": 292
        },
        "id": "fHD3gtxrvcmt",
        "outputId": "c17abf91-3676-492b-a045-f0afb82c13ec"
      },
      "execution_count": null,
      "outputs": [
        {
          "output_type": "execute_result",
          "data": {
            "text/plain": [
              "   vencido_acima_de_15_dias  ativo_problematico  tcb_Bancário  \\\n",
              "0                   2813.38                0.00             1   \n",
              "1                 328556.06           243547.54             1   \n",
              "\n",
              "   tcb_Cooperativas  tcb_Não bancário  cliente_PF  \\\n",
              "0                 0                 0           1   \n",
              "1                 0                 0           1   \n",
              "\n",
              "   ocupacao_PF - Aposentado/pensionista  ocupacao_PF - Autônomo  \\\n",
              "0                                     1                       0   \n",
              "1                                     1                       0   \n",
              "\n",
              "   ocupacao_PF - Empregado de empresa privada  \\\n",
              "0                                           0   \n",
              "1                                           0   \n",
              "\n",
              "   ocupacao_PF - Empregado de entidades sem fins lucrativos  ...  \\\n",
              "0                                                  0         ...   \n",
              "1                                                  0         ...   \n",
              "\n",
              "   modalidade_PF - Cartão de crédito  \\\n",
              "0                                  1   \n",
              "1                                  1   \n",
              "\n",
              "   modalidade_PF - Empréstimo com consignação em folha  \\\n",
              "0                                                  0     \n",
              "1                                                  0     \n",
              "\n",
              "   modalidade_PF - Empréstimo sem consignação em folha  \\\n",
              "0                                                  0     \n",
              "1                                                  0     \n",
              "\n",
              "   modalidade_PF - Habitacional  modalidade_PF - Outros créditos  \\\n",
              "0                             0                                0   \n",
              "1                             0                                0   \n",
              "\n",
              "   modalidade_PF - Rural e agroindustrial  modalidade_PF - Veículos  \\\n",
              "0                                       0                         0   \n",
              "1                                       0                         0   \n",
              "\n",
              "   origem_Com destinação específica  origem_Sem destinação específica  \\\n",
              "0                                 0                                 1   \n",
              "1                                 0                                 1   \n",
              "\n",
              "   inadimplente  \n",
              "0             0  \n",
              "1             1  \n",
              "\n",
              "[2 rows x 33 columns]"
            ],
            "text/html": [
              "\n",
              "  <div id=\"df-ab6a4aa5-6c20-4677-9c7b-2d02a61a3f4f\">\n",
              "    <div class=\"colab-df-container\">\n",
              "      <div>\n",
              "<style scoped>\n",
              "    .dataframe tbody tr th:only-of-type {\n",
              "        vertical-align: middle;\n",
              "    }\n",
              "\n",
              "    .dataframe tbody tr th {\n",
              "        vertical-align: top;\n",
              "    }\n",
              "\n",
              "    .dataframe thead th {\n",
              "        text-align: right;\n",
              "    }\n",
              "</style>\n",
              "<table border=\"1\" class=\"dataframe\">\n",
              "  <thead>\n",
              "    <tr style=\"text-align: right;\">\n",
              "      <th></th>\n",
              "      <th>vencido_acima_de_15_dias</th>\n",
              "      <th>ativo_problematico</th>\n",
              "      <th>tcb_Bancário</th>\n",
              "      <th>tcb_Cooperativas</th>\n",
              "      <th>tcb_Não bancário</th>\n",
              "      <th>cliente_PF</th>\n",
              "      <th>ocupacao_PF - Aposentado/pensionista</th>\n",
              "      <th>ocupacao_PF - Autônomo</th>\n",
              "      <th>ocupacao_PF - Empregado de empresa privada</th>\n",
              "      <th>ocupacao_PF - Empregado de entidades sem fins lucrativos</th>\n",
              "      <th>...</th>\n",
              "      <th>modalidade_PF - Cartão de crédito</th>\n",
              "      <th>modalidade_PF - Empréstimo com consignação em folha</th>\n",
              "      <th>modalidade_PF - Empréstimo sem consignação em folha</th>\n",
              "      <th>modalidade_PF - Habitacional</th>\n",
              "      <th>modalidade_PF - Outros créditos</th>\n",
              "      <th>modalidade_PF - Rural e agroindustrial</th>\n",
              "      <th>modalidade_PF - Veículos</th>\n",
              "      <th>origem_Com destinação específica</th>\n",
              "      <th>origem_Sem destinação específica</th>\n",
              "      <th>inadimplente</th>\n",
              "    </tr>\n",
              "  </thead>\n",
              "  <tbody>\n",
              "    <tr>\n",
              "      <th>0</th>\n",
              "      <td>2813.38</td>\n",
              "      <td>0.00</td>\n",
              "      <td>1</td>\n",
              "      <td>0</td>\n",
              "      <td>0</td>\n",
              "      <td>1</td>\n",
              "      <td>1</td>\n",
              "      <td>0</td>\n",
              "      <td>0</td>\n",
              "      <td>0</td>\n",
              "      <td>...</td>\n",
              "      <td>1</td>\n",
              "      <td>0</td>\n",
              "      <td>0</td>\n",
              "      <td>0</td>\n",
              "      <td>0</td>\n",
              "      <td>0</td>\n",
              "      <td>0</td>\n",
              "      <td>0</td>\n",
              "      <td>1</td>\n",
              "      <td>0</td>\n",
              "    </tr>\n",
              "    <tr>\n",
              "      <th>1</th>\n",
              "      <td>328556.06</td>\n",
              "      <td>243547.54</td>\n",
              "      <td>1</td>\n",
              "      <td>0</td>\n",
              "      <td>0</td>\n",
              "      <td>1</td>\n",
              "      <td>1</td>\n",
              "      <td>0</td>\n",
              "      <td>0</td>\n",
              "      <td>0</td>\n",
              "      <td>...</td>\n",
              "      <td>1</td>\n",
              "      <td>0</td>\n",
              "      <td>0</td>\n",
              "      <td>0</td>\n",
              "      <td>0</td>\n",
              "      <td>0</td>\n",
              "      <td>0</td>\n",
              "      <td>0</td>\n",
              "      <td>1</td>\n",
              "      <td>1</td>\n",
              "    </tr>\n",
              "  </tbody>\n",
              "</table>\n",
              "<p>2 rows × 33 columns</p>\n",
              "</div>\n",
              "      <button class=\"colab-df-convert\" onclick=\"convertToInteractive('df-ab6a4aa5-6c20-4677-9c7b-2d02a61a3f4f')\"\n",
              "              title=\"Convert this dataframe to an interactive table.\"\n",
              "              style=\"display:none;\">\n",
              "        \n",
              "  <svg xmlns=\"http://www.w3.org/2000/svg\" height=\"24px\"viewBox=\"0 0 24 24\"\n",
              "       width=\"24px\">\n",
              "    <path d=\"M0 0h24v24H0V0z\" fill=\"none\"/>\n",
              "    <path d=\"M18.56 5.44l.94 2.06.94-2.06 2.06-.94-2.06-.94-.94-2.06-.94 2.06-2.06.94zm-11 1L8.5 8.5l.94-2.06 2.06-.94-2.06-.94L8.5 2.5l-.94 2.06-2.06.94zm10 10l.94 2.06.94-2.06 2.06-.94-2.06-.94-.94-2.06-.94 2.06-2.06.94z\"/><path d=\"M17.41 7.96l-1.37-1.37c-.4-.4-.92-.59-1.43-.59-.52 0-1.04.2-1.43.59L10.3 9.45l-7.72 7.72c-.78.78-.78 2.05 0 2.83L4 21.41c.39.39.9.59 1.41.59.51 0 1.02-.2 1.41-.59l7.78-7.78 2.81-2.81c.8-.78.8-2.07 0-2.86zM5.41 20L4 18.59l7.72-7.72 1.47 1.35L5.41 20z\"/>\n",
              "  </svg>\n",
              "      </button>\n",
              "      \n",
              "  <style>\n",
              "    .colab-df-container {\n",
              "      display:flex;\n",
              "      flex-wrap:wrap;\n",
              "      gap: 12px;\n",
              "    }\n",
              "\n",
              "    .colab-df-convert {\n",
              "      background-color: #E8F0FE;\n",
              "      border: none;\n",
              "      border-radius: 50%;\n",
              "      cursor: pointer;\n",
              "      display: none;\n",
              "      fill: #1967D2;\n",
              "      height: 32px;\n",
              "      padding: 0 0 0 0;\n",
              "      width: 32px;\n",
              "    }\n",
              "\n",
              "    .colab-df-convert:hover {\n",
              "      background-color: #E2EBFA;\n",
              "      box-shadow: 0px 1px 2px rgba(60, 64, 67, 0.3), 0px 1px 3px 1px rgba(60, 64, 67, 0.15);\n",
              "      fill: #174EA6;\n",
              "    }\n",
              "\n",
              "    [theme=dark] .colab-df-convert {\n",
              "      background-color: #3B4455;\n",
              "      fill: #D2E3FC;\n",
              "    }\n",
              "\n",
              "    [theme=dark] .colab-df-convert:hover {\n",
              "      background-color: #434B5C;\n",
              "      box-shadow: 0px 1px 3px 1px rgba(0, 0, 0, 0.15);\n",
              "      filter: drop-shadow(0px 1px 2px rgba(0, 0, 0, 0.3));\n",
              "      fill: #FFFFFF;\n",
              "    }\n",
              "  </style>\n",
              "\n",
              "      <script>\n",
              "        const buttonEl =\n",
              "          document.querySelector('#df-ab6a4aa5-6c20-4677-9c7b-2d02a61a3f4f button.colab-df-convert');\n",
              "        buttonEl.style.display =\n",
              "          google.colab.kernel.accessAllowed ? 'block' : 'none';\n",
              "\n",
              "        async function convertToInteractive(key) {\n",
              "          const element = document.querySelector('#df-ab6a4aa5-6c20-4677-9c7b-2d02a61a3f4f');\n",
              "          const dataTable =\n",
              "            await google.colab.kernel.invokeFunction('convertToInteractive',\n",
              "                                                     [key], {});\n",
              "          if (!dataTable) return;\n",
              "\n",
              "          const docLinkHtml = 'Like what you see? Visit the ' +\n",
              "            '<a target=\"_blank\" href=https://colab.research.google.com/notebooks/data_table.ipynb>data table notebook</a>'\n",
              "            + ' to learn more about interactive tables.';\n",
              "          element.innerHTML = '';\n",
              "          dataTable['output_type'] = 'display_data';\n",
              "          await google.colab.output.renderOutput(dataTable, element);\n",
              "          const docLink = document.createElement('div');\n",
              "          docLink.innerHTML = docLinkHtml;\n",
              "          element.appendChild(docLink);\n",
              "        }\n",
              "      </script>\n",
              "    </div>\n",
              "  </div>\n",
              "  "
            ]
          },
          "metadata": {},
          "execution_count": 51
        }
      ]
    },
    {
      "cell_type": "code",
      "source": [
        "from sklearn.metrics import confusion_matrix, ConfusionMatrixDisplay"
      ],
      "metadata": {
        "id": "1OD7seP_HBox"
      },
      "execution_count": null,
      "outputs": []
    },
    {
      "cell_type": "code",
      "source": [
        "confusao_matrix = confusion_matrix(y_dados_final_test, predicoes_dados_final)\n",
        "confusao_matrix"
      ],
      "metadata": {
        "colab": {
          "base_uri": "https://localhost:8080/"
        },
        "id": "04UVo3ehHQn8",
        "outputId": "eeea848e-4b75-4665-8407-a129501a6b82"
      },
      "execution_count": null,
      "outputs": [
        {
          "output_type": "execute_result",
          "data": {
            "text/plain": [
              "array([[21043,     0],\n",
              "       [    1, 20893]])"
            ]
          },
          "metadata": {},
          "execution_count": 86
        }
      ]
    },
    {
      "cell_type": "code",
      "source": [
        "dsp = ConfusionMatrixDisplay(confusion_matrix = confusao_matrix)\n",
        "dsp.plot()\n",
        "plt.show()"
      ],
      "metadata": {
        "colab": {
          "base_uri": "https://localhost:8080/",
          "height": 449
        },
        "id": "RbUkrfmLHrWP",
        "outputId": "94be0a4c-65ec-4dcc-eb63-2162b3cf0909"
      },
      "execution_count": null,
      "outputs": [
        {
          "output_type": "display_data",
          "data": {
            "text/plain": [
              "<Figure size 640x480 with 2 Axes>"
            ],
            "image/png": "[encoded data removed]"
          },
          "metadata": {}
        }
      ]
    },
    {
      "cell_type": "markdown",
      "source": [
        "###Retirando dos dados a coluna Ativo problematico"
      ],
      "metadata": {
        "id": "8UljdmFkyzjl"
      }
    },
    {
      "cell_type": "code",
      "source": [
        "dados_final_modificado = dados_final.drop(['ativo_problematico'], axis= 1)\n",
        "dados_final_modificado.head(2)"
      ],
      "metadata": {
        "colab": {
          "base_uri": "https://localhost:8080/",
          "height": 292
        },
        "id": "n87mUmShv0--",
        "outputId": "eae57fa9-3225-4027-f730-0849d261607f"
      },
      "execution_count": null,
      "outputs": [
        {
          "output_type": "execute_result",
          "data": {
            "text/plain": [
              "   vencido_acima_de_15_dias  tcb_Bancário  tcb_Cooperativas  tcb_Não bancário  \\\n",
              "0                   2813.38             1                 0                 0   \n",
              "1                 328556.06             1                 0                 0   \n",
              "\n",
              "   cliente_PF  ocupacao_PF - Aposentado/pensionista  ocupacao_PF - Autônomo  \\\n",
              "0           1                                     1                       0   \n",
              "1           1                                     1                       0   \n",
              "\n",
              "   ocupacao_PF - Empregado de empresa privada  \\\n",
              "0                                           0   \n",
              "1                                           0   \n",
              "\n",
              "   ocupacao_PF - Empregado de entidades sem fins lucrativos  \\\n",
              "0                                                  0          \n",
              "1                                                  0          \n",
              "\n",
              "   ocupacao_PF - Empresário  ...  modalidade_PF - Cartão de crédito  \\\n",
              "0                         0  ...                                  1   \n",
              "1                         0  ...                                  1   \n",
              "\n",
              "   modalidade_PF - Empréstimo com consignação em folha  \\\n",
              "0                                                  0     \n",
              "1                                                  0     \n",
              "\n",
              "   modalidade_PF - Empréstimo sem consignação em folha  \\\n",
              "0                                                  0     \n",
              "1                                                  0     \n",
              "\n",
              "   modalidade_PF - Habitacional  modalidade_PF - Outros créditos  \\\n",
              "0                             0                                0   \n",
              "1                             0                                0   \n",
              "\n",
              "   modalidade_PF - Rural e agroindustrial  modalidade_PF - Veículos  \\\n",
              "0                                       0                         0   \n",
              "1                                       0                         0   \n",
              "\n",
              "   origem_Com destinação específica  origem_Sem destinação específica  \\\n",
              "0                                 0                                 1   \n",
              "1                                 0                                 1   \n",
              "\n",
              "   inadimplente  \n",
              "0             0  \n",
              "1             1  \n",
              "\n",
              "[2 rows x 32 columns]"
            ],
            "text/html": [
              "\n",
              "  <div id=\"df-fdf7ed88-1eec-45df-966c-9705ba8e4381\">\n",
              "    <div class=\"colab-df-container\">\n",
              "      <div>\n",
              "<style scoped>\n",
              "    .dataframe tbody tr th:only-of-type {\n",
              "        vertical-align: middle;\n",
              "    }\n",
              "\n",
              "    .dataframe tbody tr th {\n",
              "        vertical-align: top;\n",
              "    }\n",
              "\n",
              "    .dataframe thead th {\n",
              "        text-align: right;\n",
              "    }\n",
              "</style>\n",
              "<table border=\"1\" class=\"dataframe\">\n",
              "  <thead>\n",
              "    <tr style=\"text-align: right;\">\n",
              "      <th></th>\n",
              "      <th>vencido_acima_de_15_dias</th>\n",
              "      <th>tcb_Bancário</th>\n",
              "      <th>tcb_Cooperativas</th>\n",
              "      <th>tcb_Não bancário</th>\n",
              "      <th>cliente_PF</th>\n",
              "      <th>ocupacao_PF - Aposentado/pensionista</th>\n",
              "      <th>ocupacao_PF - Autônomo</th>\n",
              "      <th>ocupacao_PF - Empregado de empresa privada</th>\n",
              "      <th>ocupacao_PF - Empregado de entidades sem fins lucrativos</th>\n",
              "      <th>ocupacao_PF - Empresário</th>\n",
              "      <th>...</th>\n",
              "      <th>modalidade_PF - Cartão de crédito</th>\n",
              "      <th>modalidade_PF - Empréstimo com consignação em folha</th>\n",
              "      <th>modalidade_PF - Empréstimo sem consignação em folha</th>\n",
              "      <th>modalidade_PF - Habitacional</th>\n",
              "      <th>modalidade_PF - Outros créditos</th>\n",
              "      <th>modalidade_PF - Rural e agroindustrial</th>\n",
              "      <th>modalidade_PF - Veículos</th>\n",
              "      <th>origem_Com destinação específica</th>\n",
              "      <th>origem_Sem destinação específica</th>\n",
              "      <th>inadimplente</th>\n",
              "    </tr>\n",
              "  </thead>\n",
              "  <tbody>\n",
              "    <tr>\n",
              "      <th>0</th>\n",
              "      <td>2813.38</td>\n",
              "      <td>1</td>\n",
              "      <td>0</td>\n",
              "      <td>0</td>\n",
              "      <td>1</td>\n",
              "      <td>1</td>\n",
              "      <td>0</td>\n",
              "      <td>0</td>\n",
              "      <td>0</td>\n",
              "      <td>0</td>\n",
              "      <td>...</td>\n",
              "      <td>1</td>\n",
              "      <td>0</td>\n",
              "      <td>0</td>\n",
              "      <td>0</td>\n",
              "      <td>0</td>\n",
              "      <td>0</td>\n",
              "      <td>0</td>\n",
              "      <td>0</td>\n",
              "      <td>1</td>\n",
              "      <td>0</td>\n",
              "    </tr>\n",
              "    <tr>\n",
              "      <th>1</th>\n",
              "      <td>328556.06</td>\n",
              "      <td>1</td>\n",
              "      <td>0</td>\n",
              "      <td>0</td>\n",
              "      <td>1</td>\n",
              "      <td>1</td>\n",
              "      <td>0</td>\n",
              "      <td>0</td>\n",
              "      <td>0</td>\n",
              "      <td>0</td>\n",
              "      <td>...</td>\n",
              "      <td>1</td>\n",
              "      <td>0</td>\n",
              "      <td>0</td>\n",
              "      <td>0</td>\n",
              "      <td>0</td>\n",
              "      <td>0</td>\n",
              "      <td>0</td>\n",
              "      <td>0</td>\n",
              "      <td>1</td>\n",
              "      <td>1</td>\n",
              "    </tr>\n",
              "  </tbody>\n",
              "</table>\n",
              "<p>2 rows × 32 columns</p>\n",
              "</div>\n",
              "      <button class=\"colab-df-convert\" onclick=\"convertToInteractive('df-fdf7ed88-1eec-45df-966c-9705ba8e4381')\"\n",
              "              title=\"Convert this dataframe to an interactive table.\"\n",
              "              style=\"display:none;\">\n",
              "        \n",
              "  <svg xmlns=\"http://www.w3.org/2000/svg\" height=\"24px\"viewBox=\"0 0 24 24\"\n",
              "       width=\"24px\">\n",
              "    <path d=\"M0 0h24v24H0V0z\" fill=\"none\"/>\n",
              "    <path d=\"M18.56 5.44l.94 2.06.94-2.06 2.06-.94-2.06-.94-.94-2.06-.94 2.06-2.06.94zm-11 1L8.5 8.5l.94-2.06 2.06-.94-2.06-.94L8.5 2.5l-.94 2.06-2.06.94zm10 10l.94 2.06.94-2.06 2.06-.94-2.06-.94-.94-2.06-.94 2.06-2.06.94z\"/><path d=\"M17.41 7.96l-1.37-1.37c-.4-.4-.92-.59-1.43-.59-.52 0-1.04.2-1.43.59L10.3 9.45l-7.72 7.72c-.78.78-.78 2.05 0 2.83L4 21.41c.39.39.9.59 1.41.59.51 0 1.02-.2 1.41-.59l7.78-7.78 2.81-2.81c.8-.78.8-2.07 0-2.86zM5.41 20L4 18.59l7.72-7.72 1.47 1.35L5.41 20z\"/>\n",
              "  </svg>\n",
              "      </button>\n",
              "      \n",
              "  <style>\n",
              "    .colab-df-container {\n",
              "      display:flex;\n",
              "      flex-wrap:wrap;\n",
              "      gap: 12px;\n",
              "    }\n",
              "\n",
              "    .colab-df-convert {\n",
              "      background-color: #E8F0FE;\n",
              "      border: none;\n",
              "      border-radius: 50%;\n",
              "      cursor: pointer;\n",
              "      display: none;\n",
              "      fill: #1967D2;\n",
              "      height: 32px;\n",
              "      padding: 0 0 0 0;\n",
              "      width: 32px;\n",
              "    }\n",
              "\n",
              "    .colab-df-convert:hover {\n",
              "      background-color: #E2EBFA;\n",
              "      box-shadow: 0px 1px 2px rgba(60, 64, 67, 0.3), 0px 1px 3px 1px rgba(60, 64, 67, 0.15);\n",
              "      fill: #174EA6;\n",
              "    }\n",
              "\n",
              "    [theme=dark] .colab-df-convert {\n",
              "      background-color: #3B4455;\n",
              "      fill: #D2E3FC;\n",
              "    }\n",
              "\n",
              "    [theme=dark] .colab-df-convert:hover {\n",
              "      background-color: #434B5C;\n",
              "      box-shadow: 0px 1px 3px 1px rgba(0, 0, 0, 0.15);\n",
              "      filter: drop-shadow(0px 1px 2px rgba(0, 0, 0, 0.3));\n",
              "      fill: #FFFFFF;\n",
              "    }\n",
              "  </style>\n",
              "\n",
              "      <script>\n",
              "        const buttonEl =\n",
              "          document.querySelector('#df-fdf7ed88-1eec-45df-966c-9705ba8e4381 button.colab-df-convert');\n",
              "        buttonEl.style.display =\n",
              "          google.colab.kernel.accessAllowed ? 'block' : 'none';\n",
              "\n",
              "        async function convertToInteractive(key) {\n",
              "          const element = document.querySelector('#df-fdf7ed88-1eec-45df-966c-9705ba8e4381');\n",
              "          const dataTable =\n",
              "            await google.colab.kernel.invokeFunction('convertToInteractive',\n",
              "                                                     [key], {});\n",
              "          if (!dataTable) return;\n",
              "\n",
              "          const docLinkHtml = 'Like what you see? Visit the ' +\n",
              "            '<a target=\"_blank\" href=https://colab.research.google.com/notebooks/data_table.ipynb>data table notebook</a>'\n",
              "            + ' to learn more about interactive tables.';\n",
              "          element.innerHTML = '';\n",
              "          dataTable['output_type'] = 'display_data';\n",
              "          await google.colab.output.renderOutput(dataTable, element);\n",
              "          const docLink = document.createElement('div');\n",
              "          docLink.innerHTML = docLinkHtml;\n",
              "          element.appendChild(docLink);\n",
              "        }\n",
              "      </script>\n",
              "    </div>\n",
              "  </div>\n",
              "  "
            ]
          },
          "metadata": {},
          "execution_count": 71
        }
      ]
    },
    {
      "cell_type": "code",
      "source": [
        "#separar as variáveis caracteristica e respostas\n",
        "X = dados_final_modificado.drop('inadimplente', axis = 1)\n",
        "y = dados_final_modificado['inadimplente']"
      ],
      "metadata": {
        "id": "KPKybzIjwXrl"
      },
      "execution_count": null,
      "outputs": []
    },
    {
      "cell_type": "code",
      "source": [
        "X_train, X_test, y_train, y_test = train_test_split(X, y, random_state=42)"
      ],
      "metadata": {
        "id": "8iGFQ02wwjBl"
      },
      "execution_count": null,
      "outputs": []
    },
    {
      "cell_type": "code",
      "source": [
        "resultado_cv = cross_val_score(classificador_xgb, X_train, y_train)\n",
        "\n",
        "resultado_cv"
      ],
      "metadata": {
        "colab": {
          "base_uri": "https://localhost:8080/"
        },
        "id": "2lh-IOp6xBEe",
        "outputId": "20f64aeb-3369-4d78-eb37-0bcc1fbd9103"
      },
      "execution_count": null,
      "outputs": [
        {
          "output_type": "execute_result",
          "data": {
            "text/plain": [
              "array([0.92623798, 0.92929815, 0.92949686, 0.92683411, 0.92770558])"
            ]
          },
          "metadata": {},
          "execution_count": 74
        }
      ]
    },
    {
      "cell_type": "code",
      "source": [
        "acuracia_cv = resultado_cv.mean()\n",
        "\n",
        "acuracia_cv"
      ],
      "metadata": {
        "colab": {
          "base_uri": "https://localhost:8080/"
        },
        "id": "v5dcs7gzx-YO",
        "outputId": "afa7604a-8a19-4d86-cc44-107d3d3a692c"
      },
      "execution_count": null,
      "outputs": [
        {
          "output_type": "execute_result",
          "data": {
            "text/plain": [
              "0.9279145354548612"
            ]
          },
          "metadata": {},
          "execution_count": 75
        }
      ]
    },
    {
      "cell_type": "code",
      "source": [
        "classificador_xgb_dart =  xgb.XGBClassifier(booster='dart')\n",
        "\n",
        "classificador_xgb_dart.fit(X_train, y_train)"
      ],
      "metadata": {
        "colab": {
          "base_uri": "https://localhost:8080/",
          "height": 248
        },
        "id": "F6gQVB5xyKm-",
        "outputId": "c7e7137e-92c5-4a5e-c340-f962f6de8661"
      },
      "execution_count": null,
      "outputs": [
        {
          "output_type": "execute_result",
          "data": {
            "text/plain": [
              "XGBClassifier(base_score=None, booster='dart', callbacks=None,\n",
              "              colsample_bylevel=None, colsample_bynode=None,\n",
              "              colsample_bytree=None, early_stopping_rounds=None,\n",
              "              enable_categorical=False, eval_metric=None, feature_types=None,\n",
              "              gamma=None, gpu_id=None, grow_policy=None, importance_type=None,\n",
              "              interaction_constraints=None, learning_rate=None, max_bin=None,\n",
              "              max_cat_threshold=None, max_cat_to_onehot=None,\n",
              "              max_delta_step=None, max_depth=None, max_leaves=None,\n",
              "              min_child_weight=None, missing=nan, monotone_constraints=None,\n",
              "              n_estimators=100, n_jobs=None, num_parallel_tree=None,\n",
              "              predictor=None, random_state=None, ...)"
            ],
            "text/html": [
              "<style>#sk-container-id-2 {color: black;background-color: white;}#sk-container-id-2 pre{padding: 0;}#sk-container-id-2 div.sk-toggleable {background-color: white;}#sk-container-id-2 label.sk-toggleable__label {cursor: pointer;display: block;width: 100%;margin-bottom: 0;padding: 0.3em;box-sizing: border-box;text-align: center;}#sk-container-id-2 label.sk-toggleable__label-arrow:before {content: \"▸\";float: left;margin-right: 0.25em;color: #696969;}#sk-container-id-2 label.sk-toggleable__label-arrow:hover:before {color: black;}#sk-container-id-2 div.sk-estimator:hover label.sk-toggleable__label-arrow:before {color: black;}#sk-container-id-2 div.sk-toggleable__content {max-height: 0;max-width: 0;overflow: hidden;text-align: left;background-color: #f0f8ff;}#sk-container-id-2 div.sk-toggleable__content pre {margin: 0.2em;color: black;border-radius: 0.25em;background-color: #f0f8ff;}#sk-container-id-2 input.sk-toggleable__control:checked~div.sk-toggleable__content {max-height: 200px;max-width: 100%;overflow: auto;}#sk-container-id-2 input.sk-toggleable__control:checked~label.sk-toggleable__label-arrow:before {content: \"▾\";}#sk-container-id-2 div.sk-estimator input.sk-toggleable__control:checked~label.sk-toggleable__label {background-color: #d4ebff;}#sk-container-id-2 div.sk-label input.sk-toggleable__control:checked~label.sk-toggleable__label {background-color: #d4ebff;}#sk-container-id-2 input.sk-hidden--visually {border: 0;clip: rect(1px 1px 1px 1px);clip: rect(1px, 1px, 1px, 1px);height: 1px;margin: -1px;overflow: hidden;padding: 0;position: absolute;width: 1px;}#sk-container-id-2 div.sk-estimator {font-family: monospace;background-color: #f0f8ff;border: 1px dotted black;border-radius: 0.25em;box-sizing: border-box;margin-bottom: 0.5em;}#sk-container-id-2 div.sk-estimator:hover {background-color: #d4ebff;}#sk-container-id-2 div.sk-parallel-item::after {content: \"\";width: 100%;border-bottom: 1px solid gray;flex-grow: 1;}#sk-container-id-2 div.sk-label:hover label.sk-toggleable__label {background-color: #d4ebff;}#sk-container-id-2 div.sk-serial::before {content: \"\";position: absolute;border-left: 1px solid gray;box-sizing: border-box;top: 0;bottom: 0;left: 50%;z-index: 0;}#sk-container-id-2 div.sk-serial {display: flex;flex-direction: column;align-items: center;background-color: white;padding-right: 0.2em;padding-left: 0.2em;position: relative;}#sk-container-id-2 div.sk-item {position: relative;z-index: 1;}#sk-container-id-2 div.sk-parallel {display: flex;align-items: stretch;justify-content: center;background-color: white;position: relative;}#sk-container-id-2 div.sk-item::before, #sk-container-id-2 div.sk-parallel-item::before {content: \"\";position: absolute;border-left: 1px solid gray;box-sizing: border-box;top: 0;bottom: 0;left: 50%;z-index: -1;}#sk-container-id-2 div.sk-parallel-item {display: flex;flex-direction: column;z-index: 1;position: relative;background-color: white;}#sk-container-id-2 div.sk-parallel-item:first-child::after {align-self: flex-end;width: 50%;}#sk-container-id-2 div.sk-parallel-item:last-child::after {align-self: flex-start;width: 50%;}#sk-container-id-2 div.sk-parallel-item:only-child::after {width: 0;}#sk-container-id-2 div.sk-dashed-wrapped {border: 1px dashed gray;margin: 0 0.4em 0.5em 0.4em;box-sizing: border-box;padding-bottom: 0.4em;background-color: white;}#sk-container-id-2 div.sk-label label {font-family: monospace;font-weight: bold;display: inline-block;line-height: 1.2em;}#sk-container-id-2 div.sk-label-container {text-align: center;}#sk-container-id-2 div.sk-container {/* jupyter's `normalize.less` sets `[hidden] { display: none; }` but bootstrap.min.css set `[hidden] { display: none !important; }` so we also need the `!important` here to be able to override the default hidden behavior on the sphinx rendered scikit-learn.org. See: https://github.com/scikit-learn/scikit-learn/issues/21755 */display: inline-block !important;position: relative;}#sk-container-id-2 div.sk-text-repr-fallback {display: none;}</style><div id=\"sk-container-id-2\" class=\"sk-top-container\"><div class=\"sk-text-repr-fallback\"><pre>XGBClassifier(base_score=None, booster=&#x27;dart&#x27;, callbacks=None,\n",
              "              colsample_bylevel=None, colsample_bynode=None,\n",
              "              colsample_bytree=None, early_stopping_rounds=None,\n",
              "              enable_categorical=False, eval_metric=None, feature_types=None,\n",
              "              gamma=None, gpu_id=None, grow_policy=None, importance_type=None,\n",
              "              interaction_constraints=None, learning_rate=None, max_bin=None,\n",
              "              max_cat_threshold=None, max_cat_to_onehot=None,\n",
              "              max_delta_step=None, max_depth=None, max_leaves=None,\n",
              "              min_child_weight=None, missing=nan, monotone_constraints=None,\n",
              "              n_estimators=100, n_jobs=None, num_parallel_tree=None,\n",
              "              predictor=None, random_state=None, ...)</pre><b>In a Jupyter environment, please rerun this cell to show the HTML representation or trust the notebook. <br />On GitHub, the HTML representation is unable to render, please try loading this page with nbviewer.org.</b></div><div class=\"sk-container\" hidden><div class=\"sk-item\"><div class=\"sk-estimator sk-toggleable\"><input class=\"sk-toggleable__control sk-hidden--visually\" id=\"sk-estimator-id-2\" type=\"checkbox\" checked><label for=\"sk-estimator-id-2\" class=\"sk-toggleable__label sk-toggleable__label-arrow\">XGBClassifier</label><div class=\"sk-toggleable__content\"><pre>XGBClassifier(base_score=None, booster=&#x27;dart&#x27;, callbacks=None,\n",
              "              colsample_bylevel=None, colsample_bynode=None,\n",
              "              colsample_bytree=None, early_stopping_rounds=None,\n",
              "              enable_categorical=False, eval_metric=None, feature_types=None,\n",
              "              gamma=None, gpu_id=None, grow_policy=None, importance_type=None,\n",
              "              interaction_constraints=None, learning_rate=None, max_bin=None,\n",
              "              max_cat_threshold=None, max_cat_to_onehot=None,\n",
              "              max_delta_step=None, max_depth=None, max_leaves=None,\n",
              "              min_child_weight=None, missing=nan, monotone_constraints=None,\n",
              "              n_estimators=100, n_jobs=None, num_parallel_tree=None,\n",
              "              predictor=None, random_state=None, ...)</pre></div></div></div></div></div>"
            ]
          },
          "metadata": {},
          "execution_count": 79
        }
      ]
    },
    {
      "cell_type": "code",
      "source": [
        "predicao = classificador_xgb_dart.predict(X_test)"
      ],
      "metadata": {
        "id": "ZOJCdeQrV8qe"
      },
      "execution_count": null,
      "outputs": []
    },
    {
      "cell_type": "code",
      "source": [
        "from sklearn.metrics import accuracy_score, precision_score, recall_score"
      ],
      "metadata": {
        "id": "I3i8V60sdC1K"
      },
      "execution_count": null,
      "outputs": []
    },
    {
      "cell_type": "code",
      "source": [
        "#metricas no teste\n",
        "print(\"Acurácia do modelo é :\",accuracy_score(y_test, predicao))\n",
        "print(\"Precisão do modelo é :\", precision_score(y_test,predicao))\n",
        "print(\"Recall do modelo é :\", recall_score(y_test, predicao))"
      ],
      "metadata": {
        "colab": {
          "base_uri": "https://localhost:8080/"
        },
        "id": "-dD76S4KfKCr",
        "outputId": "36fc1601-6e87-4e44-a945-05a13f9bccab"
      },
      "execution_count": null,
      "outputs": [
        {
          "output_type": "stream",
          "name": "stdout",
          "text": [
            "Acurácia do modelo é : 0.9282972077163364\n",
            "Precisão do modelo é : 0.9329944323408376\n",
            "Recall do modelo é : 0.9223221977601225\n"
          ]
        }
      ]
    },
    {
      "cell_type": "code",
      "source": [
        "conf_matrix = confusion_matrix(y_test, predicao)\n",
        "conf_matrix"
      ],
      "metadata": {
        "colab": {
          "base_uri": "https://localhost:8080/"
        },
        "id": "4zXIgDLJkgxH",
        "outputId": "6e89a780-cb83-4ed6-b3e2-e55e9f1a310e"
      },
      "execution_count": null,
      "outputs": [
        {
          "output_type": "execute_result",
          "data": {
            "text/plain": [
              "array([[19659,  1384],\n",
              "       [ 1623, 19271]])"
            ]
          },
          "metadata": {},
          "execution_count": 91
        }
      ]
    },
    {
      "cell_type": "code",
      "source": [
        "dsp = ConfusionMatrixDisplay(confusion_matrix = conf_matrix)\n",
        "dsp.plot()\n",
        "plt.grid(False)\n",
        "plt.show()"
      ],
      "metadata": {
        "colab": {
          "base_uri": "https://localhost:8080/",
          "height": 449
        },
        "id": "qK20w9qSiVo9",
        "outputId": "c87badd8-db96-4ba7-ea64-164510fccdaa"
      },
      "execution_count": null,
      "outputs": [
        {
          "output_type": "display_data",
          "data": {
            "text/plain": [
              "<Figure size 640x480 with 2 Axes>"
            ],
            "image/png": "[encoded data removed]"
          },
          "metadata": {}
        }
      ]
    },
    {
      "cell_type": "markdown",
      "source": [
        "#Fazer a classificação"
      ],
      "metadata": {
        "id": "Dd37I7nynZhC"
      }
    },
    {
      "cell_type": "markdown",
      "source": [],
      "metadata": {
        "id": "4rCYYH65nZNk"
      }
    },
    {
      "cell_type": "code",
      "source": [],
      "metadata": {
        "id": "LTDWHFhbnWBt"
      },
      "execution_count": null,
      "outputs": []
    }
  ]
}